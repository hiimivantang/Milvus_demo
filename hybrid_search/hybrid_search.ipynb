{
 "cells": [
  {
   "cell_type": "code",
   "execution_count": 68,
   "id": "09d0077f-bab9-4add-9cc2-f4cf291e20b1",
   "metadata": {},
   "outputs": [],
   "source": [
    "from datasets import load_dataset\n",
    "\n",
    "from pymilvus import (\n",
    "    FieldSchema,\n",
    "    CollectionSchema,\n",
    "    DataType,\n",
    "    Collection,\n",
    "    AnnSearchRequest,\n",
    "    RRFRanker,\n",
    "    connections,\n",
    ")\n",
    "\n",
    "from pymilvus.model.hybrid import BGEM3EmbeddingFunction"
   ]
  },
  {
   "cell_type": "code",
   "execution_count": 69,
   "id": "494c3dc0-2239-4b56-a6c6-03c117a1cfeb",
   "metadata": {},
   "outputs": [
    {
     "data": {
      "text/plain": [
       "Dataset({\n",
       "    features: ['example_id', 'query', 'query_id', 'product_id', 'product_locale', 'esci_label', 'small_version', 'large_version', 'product_title', 'product_description', 'product_bullet_point', 'product_brand', 'product_color', 'product_text'],\n",
       "    num_rows: 427\n",
       "})"
      ]
     },
     "execution_count": 69,
     "metadata": {},
     "output_type": "execute_result"
    }
   ],
   "source": [
    "dataset = load_dataset(\"tasksource/esci\", split=\"train\")\n",
    "\n",
    "dataset = dataset.select(range(500))\n",
    "dataset = dataset.filter(lambda x: x[\"product_locale\"] == \"us\")\n",
    "dataset"
   ]
  },
  {
   "cell_type": "code",
   "execution_count": 70,
   "id": "e264243f-4561-4f87-9b0c-863dff156858",
   "metadata": {},
   "outputs": [
    {
     "data": {
      "text/html": [
       "<div>\n",
       "<style scoped>\n",
       "    .dataframe tbody tr th:only-of-type {\n",
       "        vertical-align: middle;\n",
       "    }\n",
       "\n",
       "    .dataframe tbody tr th {\n",
       "        vertical-align: top;\n",
       "    }\n",
       "\n",
       "    .dataframe thead th {\n",
       "        text-align: right;\n",
       "    }\n",
       "</style>\n",
       "<table border=\"1\" class=\"dataframe\">\n",
       "  <thead>\n",
       "    <tr style=\"text-align: right;\">\n",
       "      <th></th>\n",
       "      <th>example_id</th>\n",
       "      <th>query</th>\n",
       "      <th>query_id</th>\n",
       "      <th>product_id</th>\n",
       "      <th>product_locale</th>\n",
       "      <th>esci_label</th>\n",
       "      <th>small_version</th>\n",
       "      <th>large_version</th>\n",
       "      <th>product_title</th>\n",
       "      <th>product_description</th>\n",
       "      <th>product_bullet_point</th>\n",
       "      <th>product_brand</th>\n",
       "      <th>product_color</th>\n",
       "      <th>product_text</th>\n",
       "    </tr>\n",
       "  </thead>\n",
       "  <tbody>\n",
       "    <tr>\n",
       "      <th>0</th>\n",
       "      <td>0</td>\n",
       "      <td>revent 80 cfm</td>\n",
       "      <td>0</td>\n",
       "      <td>B000MOO21W</td>\n",
       "      <td>us</td>\n",
       "      <td>Irrelevant</td>\n",
       "      <td>0</td>\n",
       "      <td>1</td>\n",
       "      <td>Panasonic FV-20VQ3 WhisperCeiling 190 CFM Ceil...</td>\n",
       "      <td>None</td>\n",
       "      <td>WhisperCeiling fans feature a totally enclosed...</td>\n",
       "      <td>Panasonic</td>\n",
       "      <td>White</td>\n",
       "      <td>Panasonic FV-20VQ3 WhisperCeiling 190 CFM Ceil...</td>\n",
       "    </tr>\n",
       "    <tr>\n",
       "      <th>2</th>\n",
       "      <td>1</td>\n",
       "      <td>revent 80 cfm</td>\n",
       "      <td>0</td>\n",
       "      <td>B07X3Y6B1V</td>\n",
       "      <td>us</td>\n",
       "      <td>Exact</td>\n",
       "      <td>0</td>\n",
       "      <td>1</td>\n",
       "      <td>Homewerks 7141-80 Bathroom Fan Integrated LED ...</td>\n",
       "      <td>None</td>\n",
       "      <td>OUTSTANDING PERFORMANCE: This Homewerk's bath ...</td>\n",
       "      <td>Homewerks</td>\n",
       "      <td>80 CFM</td>\n",
       "      <td>Homewerks 7141-80 Bathroom Fan Integrated LED ...</td>\n",
       "    </tr>\n",
       "    <tr>\n",
       "      <th>3</th>\n",
       "      <td>2</td>\n",
       "      <td>revent 80 cfm</td>\n",
       "      <td>0</td>\n",
       "      <td>B07WDM7MQQ</td>\n",
       "      <td>us</td>\n",
       "      <td>Exact</td>\n",
       "      <td>0</td>\n",
       "      <td>1</td>\n",
       "      <td>Homewerks 7140-80 Bathroom Fan Ceiling Mount E...</td>\n",
       "      <td>None</td>\n",
       "      <td>OUTSTANDING PERFORMANCE: This Homewerk's bath ...</td>\n",
       "      <td>Homewerks</td>\n",
       "      <td>White</td>\n",
       "      <td>Homewerks 7140-80 Bathroom Fan Ceiling Mount E...</td>\n",
       "    </tr>\n",
       "    <tr>\n",
       "      <th>4</th>\n",
       "      <td>3</td>\n",
       "      <td>revent 80 cfm</td>\n",
       "      <td>0</td>\n",
       "      <td>B07RH6Z8KW</td>\n",
       "      <td>us</td>\n",
       "      <td>Exact</td>\n",
       "      <td>0</td>\n",
       "      <td>1</td>\n",
       "      <td>Delta Electronics RAD80L BreezRadiance 80 CFM ...</td>\n",
       "      <td>This pre-owned or refurbished product has been...</td>\n",
       "      <td>Quiet operation at 1.5 sones\\nBuilt-in thermos...</td>\n",
       "      <td>DELTA ELECTRONICS (AMERICAS) LTD.</td>\n",
       "      <td>White</td>\n",
       "      <td>Delta Electronics RAD80L BreezRadiance 80 CFM ...</td>\n",
       "    </tr>\n",
       "    <tr>\n",
       "      <th>5</th>\n",
       "      <td>4</td>\n",
       "      <td>revent 80 cfm</td>\n",
       "      <td>0</td>\n",
       "      <td>B07QJ7WYFQ</td>\n",
       "      <td>us</td>\n",
       "      <td>Exact</td>\n",
       "      <td>0</td>\n",
       "      <td>1</td>\n",
       "      <td>Panasonic FV-08VRE2 Ventilation Fan with Reces...</td>\n",
       "      <td>None</td>\n",
       "      <td>The design solution for Fan/light combinations...</td>\n",
       "      <td>Panasonic</td>\n",
       "      <td>White</td>\n",
       "      <td>Panasonic FV-08VRE2 Ventilation Fan with Reces...</td>\n",
       "    </tr>\n",
       "  </tbody>\n",
       "</table>\n",
       "</div>"
      ],
      "text/plain": [
       "   example_id  ...                                       product_text\n",
       "0           0  ...  Panasonic FV-20VQ3 WhisperCeiling 190 CFM Ceil...\n",
       "2           1  ...  Homewerks 7141-80 Bathroom Fan Integrated LED ...\n",
       "3           2  ...  Homewerks 7140-80 Bathroom Fan Ceiling Mount E...\n",
       "4           3  ...  Delta Electronics RAD80L BreezRadiance 80 CFM ...\n",
       "5           4  ...  Panasonic FV-08VRE2 Ventilation Fan with Reces...\n",
       "\n",
       "[5 rows x 14 columns]"
      ]
     },
     "execution_count": 70,
     "metadata": {},
     "output_type": "execute_result"
    }
   ],
   "source": [
    "source_df = dataset.to_pandas()\n",
    "df = source_df.drop_duplicates(\n",
    "    subset=[\"product_text\", \"product_title\", \"product_bullet_point\", \"product_brand\"]\n",
    ")\n",
    "df = df.dropna(\n",
    "    subset=[\"product_text\", \"product_title\", \"product_bullet_point\", \"product_brand\"]\n",
    ")\n",
    "df.head()"
   ]
  },
  {
   "cell_type": "code",
   "execution_count": 71,
   "id": "1c2df047-8516-4228-bed4-6dd0cacdaee7",
   "metadata": {},
   "outputs": [
    {
     "data": {
      "text/plain": [
       "143"
      ]
     },
     "execution_count": 71,
     "metadata": {},
     "output_type": "execute_result"
    }
   ],
   "source": [
    "len(df)"
   ]
  },
  {
   "cell_type": "code",
   "execution_count": 72,
   "id": "c1726d7f-076d-436c-a6e4-084de00bec2c",
   "metadata": {},
   "outputs": [],
   "source": [
    "df[\"merged_text\"] = (\n",
    "    df[\"product_title\"] + \"\\n\" + df[\"product_text\"] + \"\\n\" + df[\"product_bullet_point\"]\n",
    ")"
   ]
  },
  {
   "cell_type": "code",
   "execution_count": 73,
   "id": "3122eb8d-97b2-4889-8be4-aedaf8507c24",
   "metadata": {},
   "outputs": [
    {
     "data": {
      "text/plain": [
       "143"
      ]
     },
     "execution_count": 73,
     "metadata": {},
     "output_type": "execute_result"
    }
   ],
   "source": [
    "docs = df[\"merged_text\"].to_list()\n",
    "len(docs)"
   ]
  },
  {
   "cell_type": "code",
   "execution_count": 74,
   "id": "6d5a8b5b-466f-48b8-9912-09c998e0b129",
   "metadata": {},
   "outputs": [
    {
     "data": {
      "application/vnd.jupyter.widget-view+json": {
       "model_id": "8f9ef6ed9c95407fb94336ef0eb6d319",
       "version_major": 2,
       "version_minor": 0
      },
      "text/plain": [
       "Fetching 30 files:   0%|          | 0/30 [00:00<?, ?it/s]"
      ]
     },
     "metadata": {},
     "output_type": "display_data"
    }
   ],
   "source": [
    "ef = BGEM3EmbeddingFunction(use_fp16=False, device=\"cpu\")\n",
    "dense_dim = ef.dim[\"dense\"]\n",
    "docs_embeddings = ef(docs)\n",
    "query = \"Do you have an example of a Panasonic product?\"\n",
    "query_embeddings = ef([query])"
   ]
  },
  {
   "cell_type": "code",
   "execution_count": 75,
   "id": "cb726261-6d72-4c32-bc8f-eefdfde9f432",
   "metadata": {},
   "outputs": [
    {
     "data": {
      "text/plain": [
       "{'dense': [array([-0.02941401, -0.02504556, -0.0574033 , ..., -0.05055605,\n",
       "         -0.06463919, -0.00945763], dtype=float32)],\n",
       " 'sparse': <1x250002 sparse array of type '<class 'numpy.float32'>'\n",
       " \twith 10 stored elements in Compressed Sparse Row format>}"
      ]
     },
     "execution_count": 75,
     "metadata": {},
     "output_type": "execute_result"
    }
   ],
   "source": [
    "query_embeddings"
   ]
  },
  {
   "cell_type": "code",
   "execution_count": 76,
   "id": "09d04103-894d-49d3-a5b0-faca4d0e3706",
   "metadata": {},
   "outputs": [
    {
     "data": {
      "text/plain": [
       "Status(code=0, message=)"
      ]
     },
     "execution_count": 76,
     "metadata": {},
     "output_type": "execute_result"
    }
   ],
   "source": [
    "connections.connect()\n",
    "\n",
    "fields = [\n",
    "    # Use auto generated id as primary key\n",
    "    FieldSchema(\n",
    "        name=\"pk\", dtype=DataType.VARCHAR, is_primary=True, auto_id=True, max_length=100\n",
    "    ),\n",
    "    FieldSchema(name=\"text\", dtype=DataType.VARCHAR, max_length=8192),\n",
    "    FieldSchema(name=\"sparse_vector\", dtype=DataType.SPARSE_FLOAT_VECTOR),\n",
    "    FieldSchema(name=\"dense_vector\", dtype=DataType.FLOAT_VECTOR, dim=dense_dim),\n",
    "]\n",
    "schema = CollectionSchema(fields, \"\")\n",
    "col = Collection(\"sparse_dense_demo\", schema)\n",
    "\n",
    "sparse_index = {\"index_type\": \"SPARSE_INVERTED_INDEX\", \"metric_type\": \"IP\"}\n",
    "dense_index = {\"index_type\": \"FLAT\", \"metric_type\": \"COSINE\"}\n",
    "col.create_index(\"sparse_vector\", sparse_index)\n",
    "col.create_index(\"dense_vector\", dense_index)"
   ]
  },
  {
   "cell_type": "code",
   "execution_count": 78,
   "id": "fe175a44-8c1e-4f3c-b4ad-a4d8bbd4b4b2",
   "metadata": {},
   "outputs": [
    {
     "data": {
      "text/plain": [
       "(insert count: 143, delete count: 0, upsert count: 0, timestamp: 449418190134706177, success count: 143, err count: 0)"
      ]
     },
     "execution_count": 78,
     "metadata": {},
     "output_type": "execute_result"
    }
   ],
   "source": [
    "entities = [\n",
    "    df[\"merged_text\"].to_list(),\n",
    "    docs_embeddings[\"sparse\"],\n",
    "    docs_embeddings[\"dense\"],\n",
    "]\n",
    "col.insert(entities)"
   ]
  },
  {
   "cell_type": "code",
   "execution_count": 79,
   "id": "99e04c8c-6373-4b99-8ccc-fdb84397475e",
   "metadata": {},
   "outputs": [],
   "source": [
    "def query_hybrid_search(query: str):\n",
    "    query_embeddings = ef([query])\n",
    "\n",
    "    sparse_req = AnnSearchRequest(\n",
    "        query_embeddings[\"sparse\"], \"sparse_vector\", {\"metric_type\": \"IP\"}, limit=2\n",
    "    )\n",
    "    dense_req = AnnSearchRequest(\n",
    "        query_embeddings[\"dense\"], \"dense_vector\", {\"metric_type\": \"COSINE\"}, limit=2\n",
    "    )\n",
    "\n",
    "    res = col.hybrid_search(\n",
    "        [sparse_req, dense_req], rerank=RRFRanker(), limit=2, output_fields=[\"text\"]\n",
    "    )\n",
    "\n",
    "    return res"
   ]
  },
  {
   "cell_type": "code",
   "execution_count": 80,
   "id": "4b7d1de5-d511-4cb7-b15d-d826337e27bf",
   "metadata": {},
   "outputs": [
    {
     "data": {
      "text/plain": [
       "['id: 449353344520491318, distance: 0.032786883413791656, entity: {\\'text\\': \"Homewerks 7141-80 Bathroom Fan Integrated LED Light Ceiling Mount Exhaust Ventilation, 1.1 Sones, 80 CFM\\\\nHomewerks 7141-80 Bathroom Fan Integrated LED Light Ceiling Mount Exhaust Ventilation, 1.1 Sones, 80 CFM\\\\nHomewerks\\\\n80 CFM\\\\nNone\\\\nOUTSTANDING PERFORMANCE: This Homewerk\\'s bath fan ensures comfort in your home by quietly eliminating moisture and humidity in the bathroom. This exhaust fan is 1.1 sones at 80 CFM which means it’s able to manage spaces up to 80 square feet and is very quiet..\\\\nBATH FANS HELPS REMOVE HARSH ODOR: When cleaning the bathroom or toilet, harsh chemicals are used and they can leave an obnoxious odor behind. Homewerk’s bathroom fans can help remove this odor with its powerful ventilation\\\\nBUILD QUALITY: Designed to be corrosion resistant with its galvanized steel construction featuring a modern style round shape and has an 4000K Cool White Light LED Light. AC motor.\\\\nEASY INSTALLATION: This exhaust bath fan is easy to install with its no-cut design and ceiling mount ventilation. Ceiling Opening (L) 7-1/2 in x Ceiling Opening (W) 7-1/4 x Ceiling Opening (H) 5-3/4 in. 13 in round grill and 4 in round duct connector.\\\\nHOMEWERKS TRUSTED QUALITY: Be confident in the quality and construction of each and every one of our products. We ensure that all of our products are produced and certified to regional, national and international industry standards. We are proud of the products we sell, you will be too. 3 Year Limited\\\\nOUTSTANDING PERFORMANCE: This Homewerk\\'s bath fan ensures comfort in your home by quietly eliminating moisture and humidity in the bathroom. This exhaust fan is 1.1 sones at 80 CFM which means it’s able to manage spaces up to 80 square feet and is very quiet..\\\\nBATH FANS HELPS REMOVE HARSH ODOR: When cleaning the bathroom or toilet, harsh chemicals are used and they can leave an obnoxious odor behind. Homewerk’s bathroom fans can help remove this odor with its powerful ventilation\\\\nBUILD QUALITY: Designed to be corrosion resistant with its galvanized steel construction featuring a modern style round shape and has an 4000K Cool White Light LED Light. AC motor.\\\\nEASY INSTALLATION: This exhaust bath fan is easy to install with its no-cut design and ceiling mount ventilation. Ceiling Opening (L) 7-1/2 in x Ceiling Opening (W) 7-1/4 x Ceiling Opening (H) 5-3/4 in. 13 in round grill and 4 in round duct connector.\\\\nHOMEWERKS TRUSTED QUALITY: Be confident in the quality and construction of each and every one of our products. We ensure that all of our products are produced and certified to regional, national and international industry standards. We are proud of the products we sell, you will be too. 3 Year Limited\"}', 'id: 449353344520491462, distance: 0.032258063554763794, entity: {\\'text\\': \"Homewerks 7141-80 Bathroom Fan Integrated LED Light Ceiling Mount Exhaust Ventilation, 1.1 Sones, 80 CFM\\\\nHomewerks 7141-80 Bathroom Fan Integrated LED Light Ceiling Mount Exhaust Ventilation, 1.1 Sones, 80 CFM\\\\nHomewerks\\\\n80 CFM\\\\nNone\\\\nOUTSTANDING PERFORMANCE: This Homewerk\\'s bath fan ensures comfort in your home by quietly eliminating moisture and humidity in the bathroom. This exhaust fan is 1.1 sones at 80 CFM which means it’s able to manage spaces up to 80 square feet and is very quiet..\\\\nBATH FANS HELPS REMOVE HARSH ODOR: When cleaning the bathroom or toilet, harsh chemicals are used and they can leave an obnoxious odor behind. Homewerk’s bathroom fans can help remove this odor with its powerful ventilation\\\\nBUILD QUALITY: Designed to be corrosion resistant with its galvanized steel construction featuring a modern style round shape and has an 4000K Cool White Light LED Light. AC motor.\\\\nEASY INSTALLATION: This exhaust bath fan is easy to install with its no-cut design and ceiling mount ventilation. Ceiling Opening (L) 7-1/2 in x Ceiling Opening (W) 7-1/4 x Ceiling Opening (H) 5-3/4 in. 13 in round grill and 4 in round duct connector.\\\\nHOMEWERKS TRUSTED QUALITY: Be confident in the quality and construction of each and every one of our products. We ensure that all of our products are produced and certified to regional, national and international industry standards. We are proud of the products we sell, you will be too. 3 Year Limited\\\\nOUTSTANDING PERFORMANCE: This Homewerk\\'s bath fan ensures comfort in your home by quietly eliminating moisture and humidity in the bathroom. This exhaust fan is 1.1 sones at 80 CFM which means it’s able to manage spaces up to 80 square feet and is very quiet..\\\\nBATH FANS HELPS REMOVE HARSH ODOR: When cleaning the bathroom or toilet, harsh chemicals are used and they can leave an obnoxious odor behind. Homewerk’s bathroom fans can help remove this odor with its powerful ventilation\\\\nBUILD QUALITY: Designed to be corrosion resistant with its galvanized steel construction featuring a modern style round shape and has an 4000K Cool White Light LED Light. AC motor.\\\\nEASY INSTALLATION: This exhaust bath fan is easy to install with its no-cut design and ceiling mount ventilation. Ceiling Opening (L) 7-1/2 in x Ceiling Opening (W) 7-1/4 x Ceiling Opening (H) 5-3/4 in. 13 in round grill and 4 in round duct connector.\\\\nHOMEWERKS TRUSTED QUALITY: Be confident in the quality and construction of each and every one of our products. We ensure that all of our products are produced and certified to regional, national and international industry standards. We are proud of the products we sell, you will be too. 3 Year Limited\"}']"
      ]
     },
     "execution_count": 80,
     "metadata": {},
     "output_type": "execute_result"
    }
   ],
   "source": [
    "query_hybrid_search(\"Do you have a Homewerks product?\")[0]"
   ]
  }
 ],
 "metadata": {
  "kernelspec": {
   "display_name": "Python 3 (ipykernel)",
   "language": "python",
   "name": "python3"
  },
  "language_info": {
   "codemirror_mode": {
    "name": "ipython",
    "version": 3
   },
   "file_extension": ".py",
   "mimetype": "text/x-python",
   "name": "python",
   "nbconvert_exporter": "python",
   "pygments_lexer": "ipython3",
   "version": "3.11.8"
  }
 },
 "nbformat": 4,
 "nbformat_minor": 5
}
