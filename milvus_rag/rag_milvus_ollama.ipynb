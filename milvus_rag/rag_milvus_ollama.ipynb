{
 "cells": [
  {
   "cell_type": "code",
   "execution_count": 17,
   "metadata": {},
   "outputs": [
    {
     "name": "stdout",
     "output_type": "stream",
     "text": [
      "Requirement already satisfied: langchain in /Users/stephen/Library/Caches/pypoetry/virtualenvs/milvus-rag-5NzC6lwM-py3.11/lib/python3.11/site-packages (0.2.1)\n",
      "Requirement already satisfied: langchain-milvus in /Users/stephen/Library/Caches/pypoetry/virtualenvs/milvus-rag-5NzC6lwM-py3.11/lib/python3.11/site-packages (0.1.0)\n",
      "Requirement already satisfied: pymilvus in /Users/stephen/Library/Caches/pypoetry/virtualenvs/milvus-rag-5NzC6lwM-py3.11/lib/python3.11/site-packages (2.4.3)\n",
      "Requirement already satisfied: PyYAML>=5.3 in /Users/stephen/Library/Caches/pypoetry/virtualenvs/milvus-rag-5NzC6lwM-py3.11/lib/python3.11/site-packages (from langchain) (6.0.1)\n",
      "Requirement already satisfied: SQLAlchemy<3,>=1.4 in /Users/stephen/Library/Caches/pypoetry/virtualenvs/milvus-rag-5NzC6lwM-py3.11/lib/python3.11/site-packages (from langchain) (2.0.29)\n",
      "Requirement already satisfied: aiohttp<4.0.0,>=3.8.3 in /Users/stephen/Library/Caches/pypoetry/virtualenvs/milvus-rag-5NzC6lwM-py3.11/lib/python3.11/site-packages (from langchain) (3.9.5)\n",
      "Requirement already satisfied: langchain-core<0.3.0,>=0.2.0 in /Users/stephen/Library/Caches/pypoetry/virtualenvs/milvus-rag-5NzC6lwM-py3.11/lib/python3.11/site-packages (from langchain) (0.2.1)\n",
      "Requirement already satisfied: langchain-text-splitters<0.3.0,>=0.2.0 in /Users/stephen/Library/Caches/pypoetry/virtualenvs/milvus-rag-5NzC6lwM-py3.11/lib/python3.11/site-packages (from langchain) (0.2.0)\n",
      "Requirement already satisfied: langsmith<0.2.0,>=0.1.17 in /Users/stephen/Library/Caches/pypoetry/virtualenvs/milvus-rag-5NzC6lwM-py3.11/lib/python3.11/site-packages (from langchain) (0.1.52)\n",
      "Requirement already satisfied: numpy<2,>=1 in /Users/stephen/Library/Caches/pypoetry/virtualenvs/milvus-rag-5NzC6lwM-py3.11/lib/python3.11/site-packages (from langchain) (1.26.4)\n",
      "Requirement already satisfied: pydantic<3,>=1 in /Users/stephen/Library/Caches/pypoetry/virtualenvs/milvus-rag-5NzC6lwM-py3.11/lib/python3.11/site-packages (from langchain) (2.7.1)\n",
      "Requirement already satisfied: requests<3,>=2 in /Users/stephen/Library/Caches/pypoetry/virtualenvs/milvus-rag-5NzC6lwM-py3.11/lib/python3.11/site-packages (from langchain) (2.31.0)\n",
      "Requirement already satisfied: tenacity<9.0.0,>=8.1.0 in /Users/stephen/Library/Caches/pypoetry/virtualenvs/milvus-rag-5NzC6lwM-py3.11/lib/python3.11/site-packages (from langchain) (8.2.3)\n",
      "Requirement already satisfied: scipy<2.0,>=1.7 in /Users/stephen/Library/Caches/pypoetry/virtualenvs/milvus-rag-5NzC6lwM-py3.11/lib/python3.11/site-packages (from langchain-milvus) (1.13.0)\n",
      "Requirement already satisfied: setuptools>=67 in /Users/stephen/Library/Caches/pypoetry/virtualenvs/milvus-rag-5NzC6lwM-py3.11/lib/python3.11/site-packages (from pymilvus) (69.5.1)\n",
      "Requirement already satisfied: grpcio<=1.63.0,>=1.49.1 in /Users/stephen/Library/Caches/pypoetry/virtualenvs/milvus-rag-5NzC6lwM-py3.11/lib/python3.11/site-packages (from pymilvus) (1.60.0)\n",
      "Requirement already satisfied: protobuf>=3.20.0 in /Users/stephen/Library/Caches/pypoetry/virtualenvs/milvus-rag-5NzC6lwM-py3.11/lib/python3.11/site-packages (from pymilvus) (3.20.0)\n",
      "Requirement already satisfied: environs<=9.5.0 in /Users/stephen/Library/Caches/pypoetry/virtualenvs/milvus-rag-5NzC6lwM-py3.11/lib/python3.11/site-packages (from pymilvus) (9.5.0)\n",
      "Requirement already satisfied: ujson>=2.0.0 in /Users/stephen/Library/Caches/pypoetry/virtualenvs/milvus-rag-5NzC6lwM-py3.11/lib/python3.11/site-packages (from pymilvus) (5.9.0)\n",
      "Requirement already satisfied: pandas>=1.2.4 in /Users/stephen/Library/Caches/pypoetry/virtualenvs/milvus-rag-5NzC6lwM-py3.11/lib/python3.11/site-packages (from pymilvus) (2.2.2)\n",
      "Requirement already satisfied: milvus-lite<2.5.0,>=2.4.0 in /Users/stephen/Library/Caches/pypoetry/virtualenvs/milvus-rag-5NzC6lwM-py3.11/lib/python3.11/site-packages (from pymilvus) (2.4.5)\n",
      "Requirement already satisfied: aiosignal>=1.1.2 in /Users/stephen/Library/Caches/pypoetry/virtualenvs/milvus-rag-5NzC6lwM-py3.11/lib/python3.11/site-packages (from aiohttp<4.0.0,>=3.8.3->langchain) (1.3.1)\n",
      "Requirement already satisfied: attrs>=17.3.0 in /Users/stephen/Library/Caches/pypoetry/virtualenvs/milvus-rag-5NzC6lwM-py3.11/lib/python3.11/site-packages (from aiohttp<4.0.0,>=3.8.3->langchain) (23.2.0)\n",
      "Requirement already satisfied: frozenlist>=1.1.1 in /Users/stephen/Library/Caches/pypoetry/virtualenvs/milvus-rag-5NzC6lwM-py3.11/lib/python3.11/site-packages (from aiohttp<4.0.0,>=3.8.3->langchain) (1.4.1)\n",
      "Requirement already satisfied: multidict<7.0,>=4.5 in /Users/stephen/Library/Caches/pypoetry/virtualenvs/milvus-rag-5NzC6lwM-py3.11/lib/python3.11/site-packages (from aiohttp<4.0.0,>=3.8.3->langchain) (6.0.5)\n",
      "Requirement already satisfied: yarl<2.0,>=1.0 in /Users/stephen/Library/Caches/pypoetry/virtualenvs/milvus-rag-5NzC6lwM-py3.11/lib/python3.11/site-packages (from aiohttp<4.0.0,>=3.8.3->langchain) (1.9.4)\n",
      "Requirement already satisfied: marshmallow>=3.0.0 in /Users/stephen/Library/Caches/pypoetry/virtualenvs/milvus-rag-5NzC6lwM-py3.11/lib/python3.11/site-packages (from environs<=9.5.0->pymilvus) (3.21.1)\n",
      "Requirement already satisfied: python-dotenv in /Users/stephen/Library/Caches/pypoetry/virtualenvs/milvus-rag-5NzC6lwM-py3.11/lib/python3.11/site-packages (from environs<=9.5.0->pymilvus) (1.0.1)\n",
      "Requirement already satisfied: jsonpatch<2.0,>=1.33 in /Users/stephen/Library/Caches/pypoetry/virtualenvs/milvus-rag-5NzC6lwM-py3.11/lib/python3.11/site-packages (from langchain-core<0.3.0,>=0.2.0->langchain) (1.33)\n",
      "Requirement already satisfied: packaging<24.0,>=23.2 in /Users/stephen/Library/Caches/pypoetry/virtualenvs/milvus-rag-5NzC6lwM-py3.11/lib/python3.11/site-packages (from langchain-core<0.3.0,>=0.2.0->langchain) (23.2)\n",
      "Requirement already satisfied: orjson<4.0.0,>=3.9.14 in /Users/stephen/Library/Caches/pypoetry/virtualenvs/milvus-rag-5NzC6lwM-py3.11/lib/python3.11/site-packages (from langsmith<0.2.0,>=0.1.17->langchain) (3.10.1)\n",
      "Requirement already satisfied: python-dateutil>=2.8.2 in /Users/stephen/Library/Caches/pypoetry/virtualenvs/milvus-rag-5NzC6lwM-py3.11/lib/python3.11/site-packages (from pandas>=1.2.4->pymilvus) (2.9.0.post0)\n",
      "Requirement already satisfied: pytz>=2020.1 in /Users/stephen/Library/Caches/pypoetry/virtualenvs/milvus-rag-5NzC6lwM-py3.11/lib/python3.11/site-packages (from pandas>=1.2.4->pymilvus) (2024.1)\n",
      "Requirement already satisfied: tzdata>=2022.7 in /Users/stephen/Library/Caches/pypoetry/virtualenvs/milvus-rag-5NzC6lwM-py3.11/lib/python3.11/site-packages (from pandas>=1.2.4->pymilvus) (2024.1)\n",
      "Requirement already satisfied: annotated-types>=0.4.0 in /Users/stephen/Library/Caches/pypoetry/virtualenvs/milvus-rag-5NzC6lwM-py3.11/lib/python3.11/site-packages (from pydantic<3,>=1->langchain) (0.6.0)\n",
      "Requirement already satisfied: pydantic-core==2.18.2 in /Users/stephen/Library/Caches/pypoetry/virtualenvs/milvus-rag-5NzC6lwM-py3.11/lib/python3.11/site-packages (from pydantic<3,>=1->langchain) (2.18.2)\n",
      "Requirement already satisfied: typing-extensions>=4.6.1 in /Users/stephen/Library/Caches/pypoetry/virtualenvs/milvus-rag-5NzC6lwM-py3.11/lib/python3.11/site-packages (from pydantic<3,>=1->langchain) (4.11.0)\n",
      "Requirement already satisfied: charset-normalizer<4,>=2 in /Users/stephen/Library/Caches/pypoetry/virtualenvs/milvus-rag-5NzC6lwM-py3.11/lib/python3.11/site-packages (from requests<3,>=2->langchain) (3.3.2)\n",
      "Requirement already satisfied: idna<4,>=2.5 in /Users/stephen/Library/Caches/pypoetry/virtualenvs/milvus-rag-5NzC6lwM-py3.11/lib/python3.11/site-packages (from requests<3,>=2->langchain) (3.7)\n",
      "Requirement already satisfied: urllib3<3,>=1.21.1 in /Users/stephen/Library/Caches/pypoetry/virtualenvs/milvus-rag-5NzC6lwM-py3.11/lib/python3.11/site-packages (from requests<3,>=2->langchain) (2.2.1)\n",
      "Requirement already satisfied: certifi>=2017.4.17 in /Users/stephen/Library/Caches/pypoetry/virtualenvs/milvus-rag-5NzC6lwM-py3.11/lib/python3.11/site-packages (from requests<3,>=2->langchain) (2024.2.2)\n",
      "Requirement already satisfied: jsonpointer>=1.9 in /Users/stephen/Library/Caches/pypoetry/virtualenvs/milvus-rag-5NzC6lwM-py3.11/lib/python3.11/site-packages (from jsonpatch<2.0,>=1.33->langchain-core<0.3.0,>=0.2.0->langchain) (2.4)\n",
      "Requirement already satisfied: six>=1.5 in /Users/stephen/Library/Caches/pypoetry/virtualenvs/milvus-rag-5NzC6lwM-py3.11/lib/python3.11/site-packages (from python-dateutil>=2.8.2->pandas>=1.2.4->pymilvus) (1.16.0)\n"
     ]
    }
   ],
   "source": [
    "!pip install -U langchain langchain-milvus pymilvus"
   ]
  },
  {
   "cell_type": "code",
   "execution_count": 1,
   "metadata": {},
   "outputs": [],
   "source": [
    "from langchain_community.document_loaders import PyPDFLoader\n",
    "from langchain.text_splitter import RecursiveCharacterTextSplitter\n",
    "from langchain_milvus import Milvus\n",
    "from langchain_community.embeddings import HuggingFaceEmbeddings\n",
    "from langchain import hub\n",
    "from langchain_community.llms import Ollama\n",
    "from langchain_core.runnables import RunnablePassthrough\n",
    "from langchain_core.output_parsers import StrOutputParser\n"
   ]
  },
  {
   "cell_type": "code",
   "execution_count": 4,
   "metadata": {},
   "outputs": [
    {
     "data": {
      "text/plain": [
       "[]"
      ]
     },
     "execution_count": 4,
     "metadata": {},
     "output_type": "execute_result"
    }
   ],
   "source": [
    "from pymilvus import MilvusClient\n",
    "\n",
    "client = MilvusClient('milvus_rag.db')\n",
    "client.list_collections()"
   ]
  },
  {
   "cell_type": "code",
   "execution_count": 2,
   "metadata": {},
   "outputs": [],
   "source": [
    "loader = PyPDFLoader(\n",
    "    \"https://d18rn0p25nwr6d.cloudfront.net/CIK-0001813756/975b3e9b-268e-4798-a9e4-2a9a7c92dc10.pdf\"\n",
    ")\n",
    "data = loader.load()"
   ]
  },
  {
   "cell_type": "code",
   "execution_count": 3,
   "metadata": {},
   "outputs": [
    {
     "name": "stderr",
     "output_type": "stream",
     "text": [
      "/Users/stephen/Library/Caches/pypoetry/virtualenvs/milvus-rag-5NzC6lwM-py3.11/lib/python3.11/site-packages/tqdm/auto.py:21: TqdmWarning: IProgress not found. Please update jupyter and ipywidgets. See https://ipywidgets.readthedocs.io/en/stable/user_install.html\n",
      "  from .autonotebook import tqdm as notebook_tqdm\n"
     ]
    }
   ],
   "source": [
    "embeddings = HuggingFaceEmbeddings(model_name=\"all-MiniLM-L6-v2\")"
   ]
  },
  {
   "cell_type": "code",
   "execution_count": 4,
   "metadata": {},
   "outputs": [],
   "source": [
    "text_splitter = RecursiveCharacterTextSplitter(chunk_size=512, chunk_overlap=50)\n",
    "all_splits = text_splitter.split_documents(data)"
   ]
  },
  {
   "cell_type": "code",
   "execution_count": 5,
   "metadata": {},
   "outputs": [
    {
     "name": "stdout",
     "output_type": "stream",
     "text": [
      "Name: langchain-milvus\n",
      "Version: 0.1.0\n",
      "Summary: An integration package connecting Milvus and LangChain\n",
      "Home-page: https://github.com/langchain-ai/langchain\n",
      "Author: \n",
      "Author-email: \n",
      "License: MIT\n",
      "Location: /Users/stephen/Library/Caches/pypoetry/virtualenvs/milvus-rag-5NzC6lwM-py3.11/lib/python3.11/site-packages\n",
      "Requires: langchain-core, pymilvus, scipy\n",
      "Required-by: \n"
     ]
    }
   ],
   "source": [
    "!pip show langchain-milvus"
   ]
  },
  {
   "cell_type": "code",
   "execution_count": 6,
   "metadata": {},
   "outputs": [
    {
     "name": "stdout",
     "output_type": "stream",
     "text": [
      "Name: langchain\n",
      "Version: 0.2.1\n",
      "Summary: Building applications with LLMs through composability\n",
      "Home-page: https://github.com/langchain-ai/langchain\n",
      "Author: \n",
      "Author-email: \n",
      "License: MIT\n",
      "Location: /Users/stephen/Library/Caches/pypoetry/virtualenvs/milvus-rag-5NzC6lwM-py3.11/lib/python3.11/site-packages\n",
      "Requires: aiohttp, langchain-core, langchain-text-splitters, langsmith, numpy, pydantic, PyYAML, requests, SQLAlchemy, tenacity\n",
      "Required-by: langchain-community\n"
     ]
    }
   ],
   "source": [
    "!pip show langchain"
   ]
  },
  {
   "cell_type": "code",
   "execution_count": 7,
   "metadata": {},
   "outputs": [],
   "source": [
    "# The easiest way is to use Milvus Lite where everything is stored in a local file.\n",
    "# If you have a Milvus server you can use the server URI such as \"http://localhost:19530\".\n",
    "URI = \"./milvus_demo.db\"\n",
    "\n",
    "vector_db = Milvus.from_documents(\n",
    "    documents=all_splits, embedding=embeddings,\n",
    "    connection_args={\"uri\": URI},\n",
    ")"
   ]
  },
  {
   "cell_type": "code",
   "execution_count": 8,
   "metadata": {},
   "outputs": [
    {
     "name": "stderr",
     "output_type": "stream",
     "text": [
      "huggingface/tokenizers: The current process just got forked, after parallelism has already been used. Disabling parallelism to avoid deadlocks...\n",
      "To disable this warning, you can either:\n",
      "\t- Avoid using `tokenizers` before the fork if possible\n",
      "\t- Explicitly set the environment variable TOKENIZERS_PARALLELISM=(true | false)\n"
     ]
    }
   ],
   "source": [
    "vectorstore = Milvus.from_documents(documents=all_splits, embedding=embeddings, collection_name=\"rag_milvus_webinar\",connection_args={\"uri\": './milvus_rag.db'})"
   ]
  },
  {
   "cell_type": "code",
   "execution_count": 9,
   "metadata": {},
   "outputs": [],
   "source": [
    "retriever = vectorstore.as_retriever()\n",
    "prompt = hub.pull(\"rlm/rag-prompt\")"
   ]
  },
  {
   "cell_type": "code",
   "execution_count": 15,
   "metadata": {},
   "outputs": [],
   "source": [
    "llm = Ollama(\n",
    "        model=\"llama3\",\n",
    "        stop=[\"<|eot_id|>\"],\n",
    "    )"
   ]
  },
  {
   "cell_type": "code",
   "execution_count": 16,
   "metadata": {},
   "outputs": [],
   "source": [
    "# from langchain_openai import OpenAI\n",
    "# from dotenv import load_dotenv\n",
    "\n",
    "# load_dotenv()\n",
    "\n",
    "# llm = OpenAI(model_name=\"gpt-4o\")"
   ]
  },
  {
   "cell_type": "code",
   "execution_count": 17,
   "metadata": {},
   "outputs": [],
   "source": [
    "def format_docs(docs):\n",
    "    return \"\\n\\n\".join(doc.page_content for doc in docs)"
   ]
  },
  {
   "cell_type": "code",
   "execution_count": 18,
   "metadata": {},
   "outputs": [],
   "source": [
    "rag_chain = (\n",
    "    {\"context\": retriever, \"question\": RunnablePassthrough()}\n",
    "    | prompt\n",
    "    | llm\n",
    "    | StrOutputParser()\n",
    ")"
   ]
  },
  {
   "cell_type": "code",
   "execution_count": 19,
   "metadata": {},
   "outputs": [
    {
     "name": "stdout",
     "output_type": "stream",
     "text": [
      "WeWork is a shared workspace company that provides flexible office spaces and memberships. They were introduced publicly when WeWork Companies Inc. was founded in 2010."
     ]
    }
   ],
   "source": [
    "for chunk in rag_chain.stream(\"What is WeWork? When were they introduced publicly?\"):\n",
    "    print(chunk, end=\"\", flush=True)"
   ]
  },
  {
   "cell_type": "code",
   "execution_count": 20,
   "metadata": {},
   "outputs": [
    {
     "name": "stdout",
     "output_type": "stream",
     "text": [
      "This document appears to be the Form 10-Q quarterly report of a company, discussing its financial statements and potential issues that may impact its ability to continue as a going concern. It also mentions regulatory matters and forward-looking statements."
     ]
    }
   ],
   "source": [
    "for chunk in rag_chain.stream(\"What is this document about?\"):\n",
    "    print(chunk, end=\"\", flush=True)"
   ]
  },
  {
   "cell_type": "markdown",
   "metadata": {},
   "source": [
    "## Adding Sources"
   ]
  },
  {
   "cell_type": "code",
   "execution_count": 21,
   "metadata": {},
   "outputs": [
    {
     "data": {
      "text/plain": [
       "{'context': [Document(page_content='choose from a dedicated desk, a private office or a fully customized floor with the flexibility to choose the type of membership that works for them on a monthly subscription basis,\\nthrough a multi-year membership agreement or on a pay-as-you-go basis.\\nThe Company’s operations are headquartered in New York.\\nWeWork Companies Inc. was founded in 2010. The We Company was incorporated under the laws of the state of Delaware in April 2019 as a direct wholly-owned subsidiary of', metadata={'source': 'https://d18rn0p25nwr6d.cloudfront.net/CIK-0001813756/975b3e9b-268e-4798-a9e4-2a9a7c92dc10.pdf', 'page': 12, 'pk': 450117772830310463}),\n",
       "  Document(page_content='WeWork Companies Inc. As a result of various legal entity reorganization transactions undertaken in July 2019, The We Company became the holding company of the Company\\'s\\nbusiness, and the then-stockholders of WeWork Companies Inc. became the stockholders of The We Company. WeWork Companies Inc. is the predecessor of The We Company for\\nfinancial reporting purposes. Effective October 14, 2020, The We Company changed its legal name to WeWork Inc. (\"Legacy WeWork\").', metadata={'source': 'https://d18rn0p25nwr6d.cloudfront.net/CIK-0001813756/975b3e9b-268e-4798-a9e4-2a9a7c92dc10.pdf', 'page': 12, 'pk': 450117772830310464}),\n",
       "  Document(page_content='ourselves as the preeminent brand within the space-as-a-service category by combining best-in-class locations and design with member-first hospitality and exceptional community\\nexperiences.\\nWeWork’s core business offering provides flexibility across space, time and cost. Whether users are looking for a dedicated desk, a private office or a fully customized floor, our', metadata={'source': 'https://d18rn0p25nwr6d.cloudfront.net/CIK-0001813756/975b3e9b-268e-4798-a9e4-2a9a7c92dc10.pdf', 'page': 69, 'pk': 450117772830310911}),\n",
       "  Document(page_content='offices and customized floors. WeWork All Access memberships are monthly memberships providing an individual with access to participating WeWork locations. WeMemberships\\nare legacy products that provide member user login access to the WeWork member network online or through the mobile application as well as access to service offerings and the', metadata={'source': 'https://d18rn0p25nwr6d.cloudfront.net/CIK-0001813756/975b3e9b-268e-4798-a9e4-2a9a7c92dc10.pdf', 'page': 70, 'pk': 450117772830310927})],\n",
       " 'question': 'What is WeWork? When were they introduced publicly?',\n",
       " 'answer': 'WeWork is a company that provides shared workspace solutions, offering flexibility in terms of space, time, and cost. They offer different types of memberships, including dedicated desks, private offices, and fully customized floors, on a monthly or multi-year basis. WeWork was introduced publicly as The We Company in April 2019, although the parent company, WeWork Companies Inc., was founded in 2010.'}"
      ]
     },
     "execution_count": 21,
     "metadata": {},
     "output_type": "execute_result"
    }
   ],
   "source": [
    "from langchain_core.runnables import RunnableParallel\n",
    "\n",
    "rag_chain_from_docs = (\n",
    "    RunnablePassthrough.assign(context=(lambda x: format_docs(x[\"context\"])))\n",
    "    | prompt\n",
    "    | llm\n",
    "    | StrOutputParser()\n",
    ")\n",
    "\n",
    "rag_chain_with_source = RunnableParallel(\n",
    "    {\"context\": retriever, \"question\": RunnablePassthrough()}\n",
    ").assign(answer=rag_chain_from_docs)\n",
    "\n",
    "rag_chain_with_source.invoke(\"What is WeWork? When were they introduced publicly?\")"
   ]
  }
 ],
 "metadata": {
  "kernelspec": {
   "display_name": "Python 3 (ipykernel)",
   "language": "python",
   "name": "python3"
  },
  "language_info": {
   "codemirror_mode": {
    "name": "ipython",
    "version": 3
   },
   "file_extension": ".py",
   "mimetype": "text/x-python",
   "name": "python",
   "nbconvert_exporter": "python",
   "pygments_lexer": "ipython3",
   "version": "3.11.8"
  }
 },
 "nbformat": 4,
 "nbformat_minor": 4
}
