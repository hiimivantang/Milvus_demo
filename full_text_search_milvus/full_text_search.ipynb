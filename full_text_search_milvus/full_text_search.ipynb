{
 "cells": [
  {
   "cell_type": "markdown",
   "metadata": {},
   "source": [
    "# Full Text Search in Milvus 2.5: Combining Vector and Keyword Search\n",
    "\n",
    "## The Problem We're Solving\n",
    "Traditional setups require:\n",
    "- Vector DB for semantic search\n",
    "- Elasticsearch for keyword search\n",
    "- Complex integration between both\n",
    "\n",
    "## The Solution: One System to Rule Them All\n",
    "Let's see how Milvus 2.5 handles both in a single system"
   ]
  },
  {
   "cell_type": "code",
   "execution_count": 1,
   "metadata": {},
   "outputs": [
    {
     "name": "stdout",
     "output_type": "stream",
     "text": [
      "Requirement already satisfied: pymilvus in /Users/stephen/Library/Caches/pypoetry/virtualenvs/full-text-search-milvus-3ZwwzuV_-py3.11/lib/python3.11/site-packages (2.5.0)\n",
      "Requirement already satisfied: setuptools>69 in /Users/stephen/Library/Caches/pypoetry/virtualenvs/full-text-search-milvus-3ZwwzuV_-py3.11/lib/python3.11/site-packages (from pymilvus) (75.6.0)\n",
      "Requirement already satisfied: grpcio<=1.67.1,>=1.49.1 in /Users/stephen/Library/Caches/pypoetry/virtualenvs/full-text-search-milvus-3ZwwzuV_-py3.11/lib/python3.11/site-packages (from pymilvus) (1.67.1)\n",
      "Requirement already satisfied: protobuf>=3.20.0 in /Users/stephen/Library/Caches/pypoetry/virtualenvs/full-text-search-milvus-3ZwwzuV_-py3.11/lib/python3.11/site-packages (from pymilvus) (5.29.1)\n",
      "Requirement already satisfied: python-dotenv<2.0.0,>=1.0.1 in /Users/stephen/Library/Caches/pypoetry/virtualenvs/full-text-search-milvus-3ZwwzuV_-py3.11/lib/python3.11/site-packages (from pymilvus) (1.0.1)\n",
      "Requirement already satisfied: ujson>=2.0.0 in /Users/stephen/Library/Caches/pypoetry/virtualenvs/full-text-search-milvus-3ZwwzuV_-py3.11/lib/python3.11/site-packages (from pymilvus) (5.10.0)\n",
      "Requirement already satisfied: pandas>=1.2.4 in /Users/stephen/Library/Caches/pypoetry/virtualenvs/full-text-search-milvus-3ZwwzuV_-py3.11/lib/python3.11/site-packages (from pymilvus) (2.2.3)\n",
      "Requirement already satisfied: milvus-lite>=2.4.0 in /Users/stephen/Library/Caches/pypoetry/virtualenvs/full-text-search-milvus-3ZwwzuV_-py3.11/lib/python3.11/site-packages (from pymilvus) (2.4.10)\n",
      "Requirement already satisfied: tqdm in /Users/stephen/Library/Caches/pypoetry/virtualenvs/full-text-search-milvus-3ZwwzuV_-py3.11/lib/python3.11/site-packages (from milvus-lite>=2.4.0->pymilvus) (4.67.1)\n",
      "Requirement already satisfied: numpy>=1.23.2 in /Users/stephen/Library/Caches/pypoetry/virtualenvs/full-text-search-milvus-3ZwwzuV_-py3.11/lib/python3.11/site-packages (from pandas>=1.2.4->pymilvus) (2.2.0)\n",
      "Requirement already satisfied: python-dateutil>=2.8.2 in /Users/stephen/Library/Caches/pypoetry/virtualenvs/full-text-search-milvus-3ZwwzuV_-py3.11/lib/python3.11/site-packages (from pandas>=1.2.4->pymilvus) (2.9.0.post0)\n",
      "Requirement already satisfied: pytz>=2020.1 in /Users/stephen/Library/Caches/pypoetry/virtualenvs/full-text-search-milvus-3ZwwzuV_-py3.11/lib/python3.11/site-packages (from pandas>=1.2.4->pymilvus) (2024.2)\n",
      "Requirement already satisfied: tzdata>=2022.7 in /Users/stephen/Library/Caches/pypoetry/virtualenvs/full-text-search-milvus-3ZwwzuV_-py3.11/lib/python3.11/site-packages (from pandas>=1.2.4->pymilvus) (2024.2)\n",
      "Requirement already satisfied: six>=1.5 in /Users/stephen/Library/Caches/pypoetry/virtualenvs/full-text-search-milvus-3ZwwzuV_-py3.11/lib/python3.11/site-packages (from python-dateutil>=2.8.2->pandas>=1.2.4->pymilvus) (1.17.0)\n",
      "\n",
      "\u001b[1m[\u001b[0m\u001b[34;49mnotice\u001b[0m\u001b[1;39;49m]\u001b[0m\u001b[39;49m A new release of pip is available: \u001b[0m\u001b[31;49m24.0\u001b[0m\u001b[39;49m -> \u001b[0m\u001b[32;49m24.3.1\u001b[0m\n",
      "\u001b[1m[\u001b[0m\u001b[34;49mnotice\u001b[0m\u001b[1;39;49m]\u001b[0m\u001b[39;49m To update, run: \u001b[0m\u001b[32;49mpip install --upgrade pip\u001b[0m\n"
     ]
    }
   ],
   "source": [
    "! pip install pymilvus"
   ]
  },
  {
   "cell_type": "code",
   "execution_count": null,
   "metadata": {},
   "outputs": [],
   "source": [
    "from pymilvus import DataType, Function, FunctionType, MilvusClient\n",
    "\n",
    "client = MilvusClient(uri=\"http://localhost:19530\")\n",
    "\n",
    "schema = client.create_schema()"
   ]
  },
  {
   "cell_type": "markdown",
   "metadata": {},
   "source": [
    "## The Setup\n",
    "\n",
    "Remember the old days of:\n",
    "1. Generate embeddings\n",
    "1. Load them into Milvus\n",
    "1. Pray they work\n",
    "1. Debug when they don't\n",
    "\n",
    "Yeah, forget all that. Just tell Milvus \"here's my text\" and \"put the magic stuff here\" - it handles the rest!\n",
    "\n",
    "\n",
    "For example, below we have two fields:\n",
    "* One for text\n",
    "* One for the auto-generated sparse vectors"
   ]
  },
  {
   "cell_type": "code",
   "execution_count": null,
   "metadata": {},
   "outputs": [],
   "source": [
    "## 1. Basic Setup\n",
    "# Simple schema that handles both text and vectors\n",
    "\n",
    "schema.add_field(\n",
    "    field_name=\"id\", datatype=DataType.INT64, is_primary=True, auto_id=True\n",
    ")\n",
    "schema.add_field(\n",
    "    field_name=\"text\", datatype=DataType.VARCHAR, max_length=1000, enable_analyzer=True\n",
    ")\n",
    "schema.add_field(field_name=\"sparse\", datatype=DataType.SPARSE_FLOAT_VECTOR)"
   ]
  },
  {
   "cell_type": "markdown",
   "metadata": {},
   "source": [
    "## BM25 Under the Hood\n",
    "\n",
    "You can Milvus handles the conversion using BM25"
   ]
  },
  {
   "cell_type": "code",
   "execution_count": null,
   "metadata": {},
   "outputs": [],
   "source": [
    "## 2. Automatic Text Analysis\n",
    "# Milvus handles tokenization and BM25 conversion\n",
    "bm25_function = Function(\n",
    "    name=\"text_bm25_emb\",  # Function name\n",
    "    input_field_names=[\"text\"],  # Name of the VARCHAR field containing raw text data\n",
    "    output_field_names=[\n",
    "        \"sparse\"\n",
    "    ],  # Name of the SPARSE_FLOAT_VECTOR field reserved to store generated embeddings\n",
    "    function_type=FunctionType.BM25,\n",
    ")\n",
    "\n",
    "schema.add_function(bm25_function)"
   ]
  },
  {
   "cell_type": "code",
   "execution_count": null,
   "metadata": {},
   "outputs": [],
   "source": [
    "index_params = client.prepare_index_params()\n",
    "\n",
    "index_params.add_index(field_name=\"sparse\", index_type=\"AUTOINDEX\", metric_type=\"BM25\")\n",
    "\n",
    "client.create_collection(\n",
    "    collection_name=\"demo\", schema=schema, index_params=index_params\n",
    ")\n",
    "\n",
    "## 3. Loading Test Data\n",
    "# Mix of technical terms and regular text\n",
    "client.insert(\n",
    "    \"demo\",\n",
    "    [\n",
    "        {\"text\": \"information retrieval is a field of study.\"},\n",
    "        {\n",
    "            \"text\": \"information retrieval focuses on finding relevant information in large datasets.\"\n",
    "        },\n",
    "        {\"text\": \"data mining and information retrieval overlap in research.\"},\n",
    "    ],\n",
    ")"
   ]
  },
  {
   "cell_type": "markdown",
   "metadata": {},
   "source": [
    "# Searching\n",
    "\n",
    "Just pass your query text directly. No preprocessing, no vector math, no tears - just ask your question and get answers."
   ]
  },
  {
   "cell_type": "code",
   "execution_count": null,
   "metadata": {},
   "outputs": [],
   "source": [
    "search_params = {\n",
    "    \"params\": {\"drop_ratio_search\": 0.2},\n",
    "}\n",
    "\n",
    "## 4. Search Examples\n",
    "# Example 1: Technical term search\n",
    "search_result = client.search(\n",
    "    collection_name=\"demo\",\n",
    "    data=[\"whats the focus of information retrieval?\"],\n",
    "    anns_field=\"sparse\",\n",
    "    limit=3,\n",
    "    search_params=search_params,\n",
    ")\n",
    "print(search_result)"
   ]
  },
  {
   "cell_type": "markdown",
   "metadata": {},
   "source": [
    "# Conclusion\n",
    "\n",
    "### Why is it nice? \n",
    "\n",
    "#### Operational Simplicity\n",
    "- One system instead of two\n",
    "- No embedding pipeline to maintain\n",
    "- Simple API for both keyword and vector search\n",
    "\n",
    "#### Better Search Quality\n",
    "- Handles technical terms like \"SQL\", \"API\", \"BM25\" naturally\n",
    "- Combines best of both worlds:\n",
    "  * Exact matching when needed\n",
    "  * Semantic understanding where appropriate\n",
    "- Real-time updates to search statistics\n"
   ]
  },
  {
   "attachments": {
    "image-2.png": {
     "image/png": "[encoded data removed]"
    },
    "image.png": {
     "image/png": "[encoded data removed]"
    }
   },
   "cell_type": "markdown",
   "metadata": {},
   "source": [
    "# ⭐️ Github\n",
    "We hope you liked this tutorial showcasing how to llama-agents with Milvus and Mistral If you liked it and our project, please give us a star on Github! ⭐\n",
    "\n",
    "![image-2.png](attachment:image-2.png)\n",
    "\n",
    "# 🤝 Add me on Linkedin!\n",
    "If you have some questions related to Milvus, GenAI, etc, I am Stephen Batifol, you can add me on LinkedIn and I'll gladly help you.\n",
    "\n",
    "![image.png](attachment:image.png)\n",
    "\n",
    "# 💬 Join our Discord\n",
    "\n",
    "If you're interested in learning more about Milvus or you wanna share some feedback, feel free to join our [Discord channel](https://discord.com/invite/8uyFbECzPX)."
   ]
  }
 ],
 "metadata": {
  "kernelspec": {
   "display_name": "full-text-search-milvus-3ZwwzuV_-py3.11",
   "language": "python",
   "name": "python3"
  },
  "language_info": {
   "codemirror_mode": {
    "name": "ipython",
    "version": 3
   },
   "file_extension": ".py",
   "mimetype": "text/x-python",
   "name": "python",
   "nbconvert_exporter": "python",
   "pygments_lexer": "ipython3",
   "version": "3.11.8"
  }
 },
 "nbformat": 4,
 "nbformat_minor": 2
}
