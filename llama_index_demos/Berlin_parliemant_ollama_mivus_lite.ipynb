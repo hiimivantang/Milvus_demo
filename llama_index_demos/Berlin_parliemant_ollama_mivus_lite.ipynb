{
 "cells": [
  {
   "cell_type": "code",
   "execution_count": null,
   "id": "73ab18aa-d90a-4625-b6b9-771cb42eea37",
   "metadata": {},
   "outputs": [],
   "source": [
    "!pip install pymilvus ollama llama-index-llms-ollama llama-index-vector-stores-milvus"
   ]
  },
  {
   "cell_type": "code",
   "execution_count": null,
   "id": "966b0692-89a3-4c3b-83ea-4a2e5f1574a5",
   "metadata": {},
   "outputs": [],
   "source": [
    "!pip install llama-index-embeddings-jinaai llama-index-readers-file"
   ]
  },
  {
   "cell_type": "code",
   "execution_count": null,
   "id": "0dbdd1e0-e8b9-4329-959c-d1f6813be09d",
   "metadata": {},
   "outputs": [],
   "source": [
    "!pip install sentence-transformers llama-index-embeddings-huggingface"
   ]
  },
  {
   "cell_type": "code",
   "execution_count": 3,
   "id": "bce9beb4-4ae0-4970-afbc-2176354be39b",
   "metadata": {},
   "outputs": [
    {
     "name": "stderr",
     "output_type": "stream",
     "text": [
      "/Users/stephen/Library/Caches/pypoetry/virtualenvs/llama-index-demos-hh8Pg5B3-py3.11/lib/python3.11/site-packages/tqdm/auto.py:21: TqdmWarning: IProgress not found. Please update jupyter and ipywidgets. See https://ipywidgets.readthedocs.io/en/stable/user_install.html\n",
      "  from .autonotebook import tqdm as notebook_tqdm\n",
      "/Users/stephen/Library/Caches/pypoetry/virtualenvs/llama-index-demos-hh8Pg5B3-py3.11/lib/python3.11/site-packages/huggingface_hub/file_download.py:1132: FutureWarning: `resume_download` is deprecated and will be removed in version 1.0.0. Downloads always resume when possible. If you want to force a new download, use `force_download=True`.\n",
      "  warnings.warn(\n",
      "Some weights of BertModel were not initialized from the model checkpoint at jinaai/jina-embeddings-v2-base-de and are newly initialized: ['embeddings.position_embeddings.weight', 'encoder.layer.0.intermediate.dense.bias', 'encoder.layer.0.intermediate.dense.weight', 'encoder.layer.0.output.LayerNorm.bias', 'encoder.layer.0.output.LayerNorm.weight', 'encoder.layer.0.output.dense.bias', 'encoder.layer.0.output.dense.weight', 'encoder.layer.1.intermediate.dense.bias', 'encoder.layer.1.intermediate.dense.weight', 'encoder.layer.1.output.LayerNorm.bias', 'encoder.layer.1.output.LayerNorm.weight', 'encoder.layer.1.output.dense.bias', 'encoder.layer.1.output.dense.weight', 'encoder.layer.10.intermediate.dense.bias', 'encoder.layer.10.intermediate.dense.weight', 'encoder.layer.10.output.LayerNorm.bias', 'encoder.layer.10.output.LayerNorm.weight', 'encoder.layer.10.output.dense.bias', 'encoder.layer.10.output.dense.weight', 'encoder.layer.11.intermediate.dense.bias', 'encoder.layer.11.intermediate.dense.weight', 'encoder.layer.11.output.LayerNorm.bias', 'encoder.layer.11.output.LayerNorm.weight', 'encoder.layer.11.output.dense.bias', 'encoder.layer.11.output.dense.weight', 'encoder.layer.2.intermediate.dense.bias', 'encoder.layer.2.intermediate.dense.weight', 'encoder.layer.2.output.LayerNorm.bias', 'encoder.layer.2.output.LayerNorm.weight', 'encoder.layer.2.output.dense.bias', 'encoder.layer.2.output.dense.weight', 'encoder.layer.3.intermediate.dense.bias', 'encoder.layer.3.intermediate.dense.weight', 'encoder.layer.3.output.LayerNorm.bias', 'encoder.layer.3.output.LayerNorm.weight', 'encoder.layer.3.output.dense.bias', 'encoder.layer.3.output.dense.weight', 'encoder.layer.4.intermediate.dense.bias', 'encoder.layer.4.intermediate.dense.weight', 'encoder.layer.4.output.LayerNorm.bias', 'encoder.layer.4.output.LayerNorm.weight', 'encoder.layer.4.output.dense.bias', 'encoder.layer.4.output.dense.weight', 'encoder.layer.5.intermediate.dense.bias', 'encoder.layer.5.intermediate.dense.weight', 'encoder.layer.5.output.LayerNorm.bias', 'encoder.layer.5.output.LayerNorm.weight', 'encoder.layer.5.output.dense.bias', 'encoder.layer.5.output.dense.weight', 'encoder.layer.6.intermediate.dense.bias', 'encoder.layer.6.intermediate.dense.weight', 'encoder.layer.6.output.LayerNorm.bias', 'encoder.layer.6.output.LayerNorm.weight', 'encoder.layer.6.output.dense.bias', 'encoder.layer.6.output.dense.weight', 'encoder.layer.7.intermediate.dense.bias', 'encoder.layer.7.intermediate.dense.weight', 'encoder.layer.7.output.LayerNorm.bias', 'encoder.layer.7.output.LayerNorm.weight', 'encoder.layer.7.output.dense.bias', 'encoder.layer.7.output.dense.weight', 'encoder.layer.8.intermediate.dense.bias', 'encoder.layer.8.intermediate.dense.weight', 'encoder.layer.8.output.LayerNorm.bias', 'encoder.layer.8.output.LayerNorm.weight', 'encoder.layer.8.output.dense.bias', 'encoder.layer.8.output.dense.weight', 'encoder.layer.9.intermediate.dense.bias', 'encoder.layer.9.intermediate.dense.weight', 'encoder.layer.9.output.LayerNorm.bias', 'encoder.layer.9.output.LayerNorm.weight', 'encoder.layer.9.output.dense.bias', 'encoder.layer.9.output.dense.weight']\n",
      "You should probably TRAIN this model on a down-stream task to be able to use it for predictions and inference.\n",
      "BertSdpaSelfAttention is used but `torch.nn.functional.scaled_dot_product_attention` does not support non-absolute `position_embedding_type` or `output_attentions=True` or `head_mask`. Falling back to the manual attention implementation, but specifying the manual implementation will be required from Transformers version v5.0.0 onwards. This warning can be removed using the argument `attn_implementation=\"eager\"` when loading the model.\n"
     ]
    },
    {
     "data": {
      "text/plain": [
       "768"
      ]
     },
     "execution_count": 3,
     "metadata": {},
     "output_type": "execute_result"
    }
   ],
   "source": [
    "from llama_index.embeddings.huggingface import HuggingFaceEmbedding\n",
    "\n",
    "\n",
    "embed_model = HuggingFaceEmbedding(model_name=\"jinaai/jina-embeddings-v2-base-de\")\n",
    "len(embed_model.get_text_embedding('This is a test'))"
   ]
  },
  {
   "cell_type": "code",
   "execution_count": 19,
   "id": "3f77ee13-8080-45f7-aa54-044c05906e42",
   "metadata": {},
   "outputs": [
    {
     "name": "stderr",
     "output_type": "stream",
     "text": [
      "/var/folders/kv/3dw9p_ts4b114chqt9m027pc0000gn/T/ipykernel_61772/4025130672.py:8: DeprecationWarning: Call to deprecated class method from_defaults. (ServiceContext is deprecated, please use `llama_index.settings.Settings` instead.) -- Deprecated since version 0.10.0.\n",
      "  service_context_jina = ServiceContext.from_defaults(llm=llm, embed_model=embed_model, chunk_size=350)\n"
     ]
    }
   ],
   "source": [
    "from llama_index.llms.ollama import Ollama\n",
    "from llama_index.vector_stores.milvus import MilvusVectorStore\n",
    "\n",
    "from llama_index.core import StorageContext, ServiceContext\n",
    "\n",
    "llm = Ollama(model=\"llama3\", request_timeout=120.0)\n",
    "\n",
    "service_context_jina = ServiceContext.from_defaults(llm=llm, embed_model=embed_model, chunk_size=350)\n",
    "\n",
    "vector_store_jina = MilvusVectorStore(\n",
    "    uri=\"milvus_local_rag.db\",\n",
    "    collection_name=\"jina_embeddings\",\n",
    "    dim=768,  # the value changes with embedding model\n",
    "    overwrite=True  # drop table if exist and then create\n",
    "    )\n",
    "storage_context_jina = StorageContext.from_defaults(vector_store=vector_store_jina)"
   ]
  },
  {
   "cell_type": "code",
   "execution_count": 20,
   "id": "5fb2296d-c2f1-4737-9caf-dce204ef7783",
   "metadata": {},
   "outputs": [],
   "source": [
    "from llama_index.core import SimpleDirectoryReader, VectorStoreIndex"
   ]
  },
  {
   "cell_type": "code",
   "execution_count": 21,
   "id": "5316e9cc-7f4d-41b4-9682-add9a6a57296",
   "metadata": {},
   "outputs": [],
   "source": [
    "docs = SimpleDirectoryReader(input_files=[\"data/pdfs/S19-14497.pdf\"]).load_data()"
   ]
  },
  {
   "cell_type": "code",
   "execution_count": 22,
   "id": "c485cbe5-0d5d-44aa-b1e7-26fb9bebd278",
   "metadata": {},
   "outputs": [],
   "source": [
    "vector_index_jina = VectorStoreIndex.from_documents(docs, storage_context=storage_context_jina, service_context=service_context_jina)"
   ]
  },
  {
   "cell_type": "code",
   "execution_count": 23,
   "id": "86e12181-a5ff-4daa-b0cf-501e4621f66c",
   "metadata": {},
   "outputs": [],
   "source": [
    "from llama_index.core.tools import RetrieverTool, ToolMetadata\n",
    "\n",
    "milvus_tool_openai = RetrieverTool(\n",
    "    retriever=vector_index_jina.as_retriever(similarity_top_k=3),  # retrieve top_k results\n",
    "    metadata=ToolMetadata(\n",
    "        name=\"CustomRetriever\",\n",
    "        description='Retrieve relevant information from provided documents.'\n",
    "    ),\n",
    ")"
   ]
  },
  {
   "cell_type": "code",
   "execution_count": 24,
   "id": "03972b8a-2ecc-432f-b199-c5f12bac7a82",
   "metadata": {},
   "outputs": [
    {
     "name": "stdout",
     "output_type": "stream",
     "text": [
      "According to the provided context, several institutions and authorities in Berlin use fax machines for communication purposes. These include:\n",
      "\n",
      "* The Kammergericht (KG Dez. VI Aus- und Fort) for sending Krankmeldungen von Anwärter/in,\n",
      "* The Frauenvertreterin's office located in the Dienstgebäude Ringstraße,\n",
      "* Gerichte, and\n",
      "* Senatsverwaltung für Wirtschaft, Energie und Betriebe.\n",
      "\n",
      "Based on this information, it can be inferred that at least these few services use fax machines in Berlin.\n"
     ]
    }
   ],
   "source": [
    "query_engine = vector_index_jina.as_query_engine()\n",
    "response = query_engine.query(\"How many services use a Fax Machines in Berlin?\")\n",
    "print(response)"
   ]
  },
  {
   "cell_type": "code",
   "execution_count": 25,
   "id": "2f9112f7-faa3-4553-8080-bd551fc7e6a3",
   "metadata": {},
   "outputs": [
    {
     "name": "stdout",
     "output_type": "stream",
     "text": [
      "Based on the provided context, it can be seen that the following administrative services processes involve a fax requirement:\n",
      "\n",
      "* Zuwendungsanträge Schul- und Sportamt (school and sports funding applications)\n",
      "* Bearbeitung von Anträgen auf Schulwegbeförderung / Schulwegbegleitung (processing of school route transportation requests)\n",
      "* Vergabe einer Dienstleistung zur Sicherstellung der Schulwegbeförderung, hier Beförderung von schulpflichtigen Kindern mit sonderpädagogischem Förderbedarf vom Wohnsitz zur Schule und zurück, sowie Abrechnung der Leistung (provision of services for school route transportation)\n",
      "* Anträge auf Übernahme von Aufwendungen für Gebärdendolmetscher/innen und Kommunikationshelfer/innen nach der Schul-kommunikationsverordnung (requests for reimbursement of expenses for sign language interpreters and communication assistants)\n",
      "\n",
      "In total, four administrative services processes involve a fax requirement.\n"
     ]
    }
   ],
   "source": [
    "print(query_engine.query('How many administrative services processes involve a fax requirement? Please Translate the text'))"
   ]
  },
  {
   "cell_type": "markdown",
   "id": "dacf80b3-6182-484d-b4fb-5e23cb605096",
   "metadata": {},
   "source": [
    "## Semantic Chunking"
   ]
  },
  {
   "cell_type": "code",
   "execution_count": 26,
   "id": "92a0516b-70dd-4b93-babf-d7586cf05d5c",
   "metadata": {},
   "outputs": [],
   "source": [
    "from llama_index.core.node_parser import SemanticSplitterNodeParser\n",
    "\n",
    "splitter = SemanticSplitterNodeParser(\n",
    "    buffer_size=1, breakpoint_percentile_threshold=95, embed_model=embed_model\n",
    ")\n",
    "\n",
    "nodes = splitter.get_nodes_from_documents(docs)\n",
    "\n"
   ]
  },
  {
   "cell_type": "code",
   "execution_count": 27,
   "id": "9f03c458-f21d-4c88-a74d-60a8c3639d1d",
   "metadata": {},
   "outputs": [],
   "source": [
    "vector_index_semantic = VectorStoreIndex(nodes, storage_context=storage_context_jina, service_context=service_context_jina)\n",
    "query_engine_semantic = vector_index_semantic.as_query_engine()\n"
   ]
  },
  {
   "cell_type": "code",
   "execution_count": 28,
   "id": "76e1f009-0d60-45fc-88f9-5763667dc797",
   "metadata": {},
   "outputs": [
    {
     "name": "stdout",
     "output_type": "stream",
     "text": [
      "Based on the provided context information, I can infer that several institutions use fax machines for communication purposes. Specifically:\n",
      "\n",
      "* Justizvollzugsanstalt Heidering uses fax machines to communicate with external Dienstleistern (e.g., Apotheke, Labor Berlin) and other organizations.\n",
      "* Justizvollzugsanstalt Moabit uses fax machines to communicate with Staatsanwaltschaften, Gerichte, Rechtsanwälten, and Anwälten.\n",
      "\n",
      "While I don't have direct information on the number of services that use fax machines in Berlin, it is reasonable to assume that multiple institutions in the justice system and related fields utilize this technology for official communication.\n"
     ]
    }
   ],
   "source": [
    "print(query_engine_semantic.query('How many services use a Fax Machines in Berlin?'))"
   ]
  },
  {
   "cell_type": "code",
   "execution_count": 29,
   "id": "b80133d3-f4c3-47a6-9697-ebea6bae0322",
   "metadata": {},
   "outputs": [
    {
     "name": "stdout",
     "output_type": "stream",
     "text": [
      "According to the provided context, there are some instances where fax machines are used for official purposes. However, it is essential to note that these instances are limited and mostly related to exceptional circumstances or when personal delivery is not feasible.\n",
      "\n",
      "In the Kammergericht (KG) Dez. VI Aus- und Fort, Krankmeldungen from apprentices who are voluntarily insured are transmitted via telefax to the Central Office for Remuneration and Remuneration.\n",
      "\n",
      "In rare cases, fax machines are used to send very urgent and paper-based documents to the Representative of Women's Affairs' office.\n",
      "\n",
      "Furthermore, some rechtsbehelfsverfahren (Widerspruch u. Einspruch) in Verwaltungs- und Ordnungswidrigkeiten-verfahren require the use of a fax machine due to specific regulations.\n",
      "\n",
      "It is difficult to provide an exact number of services that require the use of a Fax Machine in Berlin, as this information is not explicitly provided in the given context. However, it can be inferred that fax machines are used in certain situations and circumstances within specific government offices or departments.\n"
     ]
    }
   ],
   "source": [
    "print(query_engine_semantic.query('How many services require the use of a Fax Machine in Berlin?'))"
   ]
  },
  {
   "cell_type": "code",
   "execution_count": 30,
   "id": "6e3ce550-7184-4ed1-9757-3baab22d9ba6",
   "metadata": {},
   "outputs": [
    {
     "name": "stdout",
     "output_type": "stream",
     "text": [
      "Based on the provided context, I can see that there are several instances where fax requests are mentioned as a means of communication with other Berlin-based authorities. Specifically, it appears that fax is used for Grundlage der Kommunikation mit anderen Berliner Verwaltungen per Fax.\n",
      "\n",
      "As for your query, Wie viele Bearbeitungen von Verwaltungsdienstleistungen beinhalten ein Faxerfordernis?, I would say that there are at least 5-6 instances where fax requests are mentioned as a means of communication with other authorities.\n"
     ]
    }
   ],
   "source": [
    "print(query_engine_semantic.query('Wie viele Bearbeitungen von Verwaltungsdienstleistungen beinhalten ein Faxerfordernis?'))"
   ]
  },
  {
   "cell_type": "code",
   "execution_count": 31,
   "id": "27d6a971-e560-494c-9761-c1cc0149c87c",
   "metadata": {},
   "outputs": [
    {
     "name": "stdout",
     "output_type": "stream",
     "text": [
      "According to the provided context, three administrative service processes involve a fax requirement:\n",
      "\n",
      "1. Renten-, Krankenversicherung (Pension and Health Insurance)\n",
      "2. Senatsverwaltung für Wirtschaft, Energie und Betriebe (Berlin Senate Administration for Economy, Energy, and Enterprises)\n",
      "\n",
      "Translated text:\n",
      "\n",
      "\"Foundation for communication with other Berlin administrations via fax. Additionally: Reasons for communication with other Berlin administrations via fax.\n",
      "\n",
      "Renten-, Krankenversicherung (Pension and Health Insurance): § 4 ff.\n",
      "Senatsverwaltung für Wirtschaft, Energie und Betriebe (Berlin Senate Administration for Economy, Energy, and Enterprises)\n",
      "\n",
      "Foundation for communication with other Berlin administrations via fax. Additionally: Reasons for communication with other Berlin administrations via fax.\n",
      "\n",
      "Courts Urgent Deliveries as Expert Witnesses\n",
      "Krankenhaus des Maßregelvollzugs Berlin (KMV) (Berlin Correctional Facility Hospital)\n",
      "Prompt Delivery of Court Decisions to Patients Ensuring Prompt Delivery\n",
      "\n",
      "Senatsverwaltung für Wirtschaft, Energie und Betriebe (Berlin Senate Administration for Economy, Energy, and Enterprises)\n",
      "\n",
      "Foundation for communication with other Berlin administrations via fax. Additionally: Reasons for communication with other Berlin administrations via fax.\n",
      "\n",
      "§ 163 Abs. 2 Satz 3 GWB, 168 Abs.\"\n"
     ]
    }
   ],
   "source": [
    "print(query_engine_semantic.query('How many administrative services processes involve a fax requirement? Please Translate the text'))"
   ]
  }
 ],
 "metadata": {
  "kernelspec": {
   "display_name": "Python 3 (ipykernel)",
   "language": "python",
   "name": "python3"
  },
  "language_info": {
   "codemirror_mode": {
    "name": "ipython",
    "version": 3
   },
   "file_extension": ".py",
   "mimetype": "text/x-python",
   "name": "python",
   "nbconvert_exporter": "python",
   "pygments_lexer": "ipython3",
   "version": "3.11.8"
  }
 },
 "nbformat": 4,
 "nbformat_minor": 5
}
