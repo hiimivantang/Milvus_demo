{
 "cells": [
  {
   "cell_type": "code",
   "execution_count": 1,
   "id": "73ab18aa-d90a-4625-b6b9-771cb42eea37",
   "metadata": {},
   "outputs": [
    {
     "name": "stdout",
     "output_type": "stream",
     "text": [
      "The following packages are already present in the pyproject.toml and will be skipped:\n",
      "\n",
      "  - \u001b[36mpymilvus\u001b[39m\n",
      "  - \u001b[36mollama\u001b[39m\n",
      "  - \u001b[36mllama-index-llms-ollama\u001b[39m\n",
      "  - \u001b[36mllama-index-vector-stores-milvus\u001b[39m\n",
      "\n",
      "If you want to update it to the latest compatible version, you can use `poetry update package`.\n",
      "If you prefer to upgrade it to the latest available version, you can use `poetry add package@latest`.\n",
      "\n",
      "Nothing to add.\n"
     ]
    }
   ],
   "source": [
    "!pip install pymilvus ollama llama-index-llms-ollama llama-index-vector-stores-milvus"
   ]
  },
  {
   "cell_type": "code",
   "execution_count": 1,
   "id": "966b0692-89a3-4c3b-83ea-4a2e5f1574a5",
   "metadata": {},
   "outputs": [
    {
     "name": "stdout",
     "output_type": "stream",
     "text": [
      "The following packages are already present in the pyproject.toml and will be skipped:\n",
      "\n",
      "  - \u001b[36mllama-index-embeddings-jinaai\u001b[39m\n",
      "  - \u001b[36mllama-index-readers-file\u001b[39m\n",
      "\n",
      "If you want to update it to the latest compatible version, you can use `poetry update package`.\n",
      "If you prefer to upgrade it to the latest available version, you can use `poetry add package@latest`.\n",
      "\n",
      "Nothing to add.\n"
     ]
    }
   ],
   "source": [
    "!pip install llama-index-embeddings-jinaai llama-index-readers-file"
   ]
  },
  {
   "cell_type": "code",
   "execution_count": 9,
   "id": "0dbdd1e0-e8b9-4329-959c-d1f6813be09d",
   "metadata": {},
   "outputs": [
    {
     "name": "stdout",
     "output_type": "stream",
     "text": [
      "Using version \u001b[39;1m^2.7.0\u001b[39;22m for \u001b[36msentence-transformers\u001b[39m\n",
      "Using version \u001b[39;1m^0.2.0\u001b[39;22m for \u001b[36mllama-index-embeddings-huggingface\u001b[39m\n",
      "\n",
      "\u001b[34mUpdating dependencies\u001b[39m\n",
      "\u001b[2K\u001b[34mResolving dependencies...\u001b[39m \u001b[39;2m(0.9s)\u001b[39;22m\u001b[34mResolving dependencies...\u001b[39m \u001b[39;2m(0.4s)\u001b[39;22m\n",
      "\n",
      "\u001b[39;1mPackage operations\u001b[39;22m: \u001b[34m2\u001b[39m installs, \u001b[34m0\u001b[39m updates, \u001b[34m0\u001b[39m removals\n",
      "\n",
      "  \u001b[34;1m-\u001b[39;22m \u001b[39mInstalling \u001b[39m\u001b[36mminijinja\u001b[39m\u001b[39m (\u001b[39m\u001b[39;1m2.0.1\u001b[39;22m\u001b[39m)\u001b[39m: \u001b[34mPending...\u001b[39m\n",
      "\u001b[1A\u001b[0J  \u001b[34;1m-\u001b[39;22m \u001b[39mInstalling \u001b[39m\u001b[36mminijinja\u001b[39m\u001b[39m (\u001b[39m\u001b[39;1m2.0.1\u001b[39;22m\u001b[39m)\u001b[39m: \u001b[34mDownloading...\u001b[39m \u001b[39;1m0%\u001b[39;22m\n",
      "\u001b[1A\u001b[0J  \u001b[34;1m-\u001b[39;22m \u001b[39mInstalling \u001b[39m\u001b[36mminijinja\u001b[39m\u001b[39m (\u001b[39m\u001b[39;1m2.0.1\u001b[39;22m\u001b[39m)\u001b[39m: \u001b[34mDownloading...\u001b[39m \u001b[39;1m3%\u001b[39;22m\n",
      "\u001b[1A\u001b[0J  \u001b[34;1m-\u001b[39;22m \u001b[39mInstalling \u001b[39m\u001b[36mminijinja\u001b[39m\u001b[39m (\u001b[39m\u001b[39;1m2.0.1\u001b[39;22m\u001b[39m)\u001b[39m: \u001b[34mDownloading...\u001b[39m \u001b[39;1m7%\u001b[39;22m\n",
      "\u001b[1A\u001b[0J  \u001b[34;1m-\u001b[39;22m \u001b[39mInstalling \u001b[39m\u001b[36mminijinja\u001b[39m\u001b[39m (\u001b[39m\u001b[39;1m2.0.1\u001b[39;22m\u001b[39m)\u001b[39m: \u001b[34mDownloading...\u001b[39m \u001b[39;1m10%\u001b[39;22m\n",
      "\u001b[1A\u001b[0J  \u001b[34;1m-\u001b[39;22m \u001b[39mInstalling \u001b[39m\u001b[36mminijinja\u001b[39m\u001b[39m (\u001b[39m\u001b[39;1m2.0.1\u001b[39;22m\u001b[39m)\u001b[39m: \u001b[34mDownloading...\u001b[39m \u001b[39;1m13%\u001b[39;22m\n",
      "\u001b[1A\u001b[0J  \u001b[34;1m-\u001b[39;22m \u001b[39mInstalling \u001b[39m\u001b[36mminijinja\u001b[39m\u001b[39m (\u001b[39m\u001b[39;1m2.0.1\u001b[39;22m\u001b[39m)\u001b[39m: \u001b[34mDownloading...\u001b[39m \u001b[39;1m17%\u001b[39;22m\n",
      "\u001b[1A\u001b[0J  \u001b[34;1m-\u001b[39;22m \u001b[39mInstalling \u001b[39m\u001b[36mminijinja\u001b[39m\u001b[39m (\u001b[39m\u001b[39;1m2.0.1\u001b[39;22m\u001b[39m)\u001b[39m: \u001b[34mDownloading...\u001b[39m \u001b[39;1m20%\u001b[39;22m\n",
      "\u001b[1A\u001b[0J  \u001b[34;1m-\u001b[39;22m \u001b[39mInstalling \u001b[39m\u001b[36mminijinja\u001b[39m\u001b[39m (\u001b[39m\u001b[39;1m2.0.1\u001b[39;22m\u001b[39m)\u001b[39m: \u001b[34mDownloading...\u001b[39m \u001b[39;1m22%\u001b[39;22m\n",
      "\u001b[1A\u001b[0J  \u001b[34;1m-\u001b[39;22m \u001b[39mInstalling \u001b[39m\u001b[36mminijinja\u001b[39m\u001b[39m (\u001b[39m\u001b[39;1m2.0.1\u001b[39;22m\u001b[39m)\u001b[39m: \u001b[34mDownloading...\u001b[39m \u001b[39;1m28%\u001b[39;22m\n",
      "\u001b[1A\u001b[0J  \u001b[34;1m-\u001b[39;22m \u001b[39mInstalling \u001b[39m\u001b[36mminijinja\u001b[39m\u001b[39m (\u001b[39m\u001b[39;1m2.0.1\u001b[39;22m\u001b[39m)\u001b[39m: \u001b[34mDownloading...\u001b[39m \u001b[39;1m30%\u001b[39;22m\n",
      "\u001b[1A\u001b[0J  \u001b[34;1m-\u001b[39;22m \u001b[39mInstalling \u001b[39m\u001b[36mminijinja\u001b[39m\u001b[39m (\u001b[39m\u001b[39;1m2.0.1\u001b[39;22m\u001b[39m)\u001b[39m: \u001b[34mDownloading...\u001b[39m \u001b[39;1m38%\u001b[39;22m\n",
      "\u001b[1A\u001b[0J  \u001b[34;1m-\u001b[39;22m \u001b[39mInstalling \u001b[39m\u001b[36mminijinja\u001b[39m\u001b[39m (\u001b[39m\u001b[39;1m2.0.1\u001b[39;22m\u001b[39m)\u001b[39m: \u001b[34mDownloading...\u001b[39m \u001b[39;1m40%\u001b[39;22m\n",
      "\u001b[1A\u001b[0J  \u001b[34;1m-\u001b[39;22m \u001b[39mInstalling \u001b[39m\u001b[36mminijinja\u001b[39m\u001b[39m (\u001b[39m\u001b[39;1m2.0.1\u001b[39;22m\u001b[39m)\u001b[39m: \u001b[34mDownloading...\u001b[39m \u001b[39;1m47%\u001b[39;22m\n",
      "\u001b[1A\u001b[0J  \u001b[34;1m-\u001b[39;22m \u001b[39mInstalling \u001b[39m\u001b[36mminijinja\u001b[39m\u001b[39m (\u001b[39m\u001b[39;1m2.0.1\u001b[39;22m\u001b[39m)\u001b[39m: \u001b[34mDownloading...\u001b[39m \u001b[39;1m50%\u001b[39;22m\n",
      "\u001b[1A\u001b[0J  \u001b[34;1m-\u001b[39;22m \u001b[39mInstalling \u001b[39m\u001b[36mminijinja\u001b[39m\u001b[39m (\u001b[39m\u001b[39;1m2.0.1\u001b[39;22m\u001b[39m)\u001b[39m: \u001b[34mDownloading...\u001b[39m \u001b[39;1m54%\u001b[39;22m\n",
      "\u001b[1A\u001b[0J  \u001b[34;1m-\u001b[39;22m \u001b[39mInstalling \u001b[39m\u001b[36mminijinja\u001b[39m\u001b[39m (\u001b[39m\u001b[39;1m2.0.1\u001b[39;22m\u001b[39m)\u001b[39m: \u001b[34mDownloading...\u001b[39m \u001b[39;1m60%\u001b[39;22m\n",
      "\u001b[1A\u001b[0J  \u001b[34;1m-\u001b[39;22m \u001b[39mInstalling \u001b[39m\u001b[36mminijinja\u001b[39m\u001b[39m (\u001b[39m\u001b[39;1m2.0.1\u001b[39;22m\u001b[39m)\u001b[39m: \u001b[34mDownloading...\u001b[39m \u001b[39;1m64%\u001b[39;22m\n",
      "\u001b[1A\u001b[0J  \u001b[34;1m-\u001b[39;22m \u001b[39mInstalling \u001b[39m\u001b[36mminijinja\u001b[39m\u001b[39m (\u001b[39m\u001b[39;1m2.0.1\u001b[39;22m\u001b[39m)\u001b[39m: \u001b[34mDownloading...\u001b[39m \u001b[39;1m69%\u001b[39;22m\n",
      "\u001b[1A\u001b[0J  \u001b[34;1m-\u001b[39;22m \u001b[39mInstalling \u001b[39m\u001b[36mminijinja\u001b[39m\u001b[39m (\u001b[39m\u001b[39;1m2.0.1\u001b[39;22m\u001b[39m)\u001b[39m: \u001b[34mDownloading...\u001b[39m \u001b[39;1m74%\u001b[39;22m\n",
      "\u001b[1A\u001b[0J  \u001b[34;1m-\u001b[39;22m \u001b[39mInstalling \u001b[39m\u001b[36mminijinja\u001b[39m\u001b[39m (\u001b[39m\u001b[39;1m2.0.1\u001b[39;22m\u001b[39m)\u001b[39m: \u001b[34mDownloading...\u001b[39m \u001b[39;1m75%\u001b[39;22m\n",
      "\u001b[1A\u001b[0J  \u001b[34;1m-\u001b[39;22m \u001b[39mInstalling \u001b[39m\u001b[36mminijinja\u001b[39m\u001b[39m (\u001b[39m\u001b[39;1m2.0.1\u001b[39;22m\u001b[39m)\u001b[39m: \u001b[34mDownloading...\u001b[39m \u001b[39;1m80%\u001b[39;22m\n",
      "\u001b[1A\u001b[0J  \u001b[34;1m-\u001b[39;22m \u001b[39mInstalling \u001b[39m\u001b[36mminijinja\u001b[39m\u001b[39m (\u001b[39m\u001b[39;1m2.0.1\u001b[39;22m\u001b[39m)\u001b[39m: \u001b[34mDownloading...\u001b[39m \u001b[39;1m86%\u001b[39;22m\n",
      "\u001b[1A\u001b[0J  \u001b[34;1m-\u001b[39;22m \u001b[39mInstalling \u001b[39m\u001b[36mminijinja\u001b[39m\u001b[39m (\u001b[39m\u001b[39;1m2.0.1\u001b[39;22m\u001b[39m)\u001b[39m: \u001b[34mDownloading...\u001b[39m \u001b[39;1m89%\u001b[39;22m\n",
      "\u001b[1A\u001b[0J  \u001b[34;1m-\u001b[39;22m \u001b[39mInstalling \u001b[39m\u001b[36mminijinja\u001b[39m\u001b[39m (\u001b[39m\u001b[39;1m2.0.1\u001b[39;22m\u001b[39m)\u001b[39m: \u001b[34mDownloading...\u001b[39m \u001b[39;1m90%\u001b[39;22m\n",
      "\u001b[1A\u001b[0J  \u001b[34;1m-\u001b[39;22m \u001b[39mInstalling \u001b[39m\u001b[36mminijinja\u001b[39m\u001b[39m (\u001b[39m\u001b[39;1m2.0.1\u001b[39;22m\u001b[39m)\u001b[39m: \u001b[34mDownloading...\u001b[39m \u001b[39;1m95%\u001b[39;22m\n",
      "\u001b[1A\u001b[0J  \u001b[34;1m-\u001b[39;22m \u001b[39mInstalling \u001b[39m\u001b[36mminijinja\u001b[39m\u001b[39m (\u001b[39m\u001b[39;1m2.0.1\u001b[39;22m\u001b[39m)\u001b[39m: \u001b[34mDownloading...\u001b[39m \u001b[39;1m99%\u001b[39;22m\n",
      "\u001b[1A\u001b[0J  \u001b[34;1m-\u001b[39;22m \u001b[39mInstalling \u001b[39m\u001b[36mminijinja\u001b[39m\u001b[39m (\u001b[39m\u001b[39;1m2.0.1\u001b[39;22m\u001b[39m)\u001b[39m: \u001b[34mDownloading...\u001b[39m \u001b[39;1m100%\u001b[39;22m\n",
      "\u001b[1A\u001b[0J  \u001b[34;1m-\u001b[39;22m \u001b[39mInstalling \u001b[39m\u001b[36mminijinja\u001b[39m\u001b[39m (\u001b[39m\u001b[39;1m2.0.1\u001b[39;22m\u001b[39m)\u001b[39m: \u001b[34mInstalling...\u001b[39m\n",
      "\u001b[1A\u001b[0J  \u001b[32;1m-\u001b[39;22m \u001b[39mInstalling \u001b[39m\u001b[36mminijinja\u001b[39m\u001b[39m (\u001b[39m\u001b[32m2.0.1\u001b[39m\u001b[39m)\u001b[39m\n",
      "  \u001b[34;1m-\u001b[39;22m \u001b[39mInstalling \u001b[39m\u001b[36mllama-index-embeddings-huggingface\u001b[39m\u001b[39m (\u001b[39m\u001b[39;1m0.2.0\u001b[39;22m\u001b[39m)\u001b[39m: \u001b[34mPending...\u001b[39m\n",
      "\u001b[1A\u001b[0J  \u001b[34;1m-\u001b[39;22m \u001b[39mInstalling \u001b[39m\u001b[36mllama-index-embeddings-huggingface\u001b[39m\u001b[39m (\u001b[39m\u001b[39;1m0.2.0\u001b[39;22m\u001b[39m)\u001b[39m: \u001b[34mInstalling...\u001b[39m\n",
      "\u001b[1A\u001b[0J  \u001b[32;1m-\u001b[39;22m \u001b[39mInstalling \u001b[39m\u001b[36mllama-index-embeddings-huggingface\u001b[39m\u001b[39m (\u001b[39m\u001b[32m0.2.0\u001b[39m\u001b[39m)\u001b[39m\n",
      "\n",
      "\u001b[34mWriting lock file\u001b[39m\n"
     ]
    }
   ],
   "source": [
    "!pip install sentence-transformers llama-index-embeddings-huggingface"
   ]
  },
  {
   "cell_type": "code",
   "execution_count": 22,
   "id": "7e2a8144-6992-47d3-9d9c-37a3d01f0ee5",
   "metadata": {},
   "outputs": [],
   "source": [
    "import os\n",
    "\n",
    "from dotenv import load_dotenv\n",
    "\n",
    "load_dotenv()\n",
    "JINA_AI_API_KEY = os.getenv(\"JINA_AI_API_KEY\")"
   ]
  },
  {
   "cell_type": "code",
   "execution_count": 43,
   "id": "8be74a89-605d-4ba1-9c3d-4f75a78d7be9",
   "metadata": {},
   "outputs": [],
   "source": [
    "from llama_index.embeddings.jinaai import JinaEmbedding\n",
    "\n",
    "#JinaAI Embeddings\n",
    "jina_embedding_model = JinaEmbedding(\n",
    "    api_key=JINA_AI_API_KEY,\n",
    "    model=\"jina-embeddings-v2-base-de\",\n",
    ")"
   ]
  },
  {
   "cell_type": "code",
   "execution_count": 44,
   "id": "bce9beb4-4ae0-4970-afbc-2176354be39b",
   "metadata": {},
   "outputs": [],
   "source": [
    "# from llama_index.embeddings.huggingface import HuggingFaceEmbedding\n",
    "\n",
    "\n",
    "# embed_model = HuggingFaceEmbedding(model_name=\"jinaai/jina-embeddings-v2-base-de\")\n",
    "# len(embed_model.get_text_embedding('This is a test'))"
   ]
  },
  {
   "cell_type": "markdown",
   "id": "ffa736cf-6862-408b-8c91-17b9e78ac95f",
   "metadata": {},
   "source": [
    "## Chunking\n",
    "\n",
    "Let's have a look at different chunking strategies"
   ]
  },
  {
   "cell_type": "code",
   "execution_count": 45,
   "id": "3e07f9a3-c6e0-41d4-b1f8-1db967f4779d",
   "metadata": {},
   "outputs": [],
   "source": [
    "from llama_index.core import SimpleDirectoryReader\n",
    "\n",
    "docs = SimpleDirectoryReader(input_files=[\"data/pdfs/doordash_listing_small.pdf\"]).load_data()"
   ]
  },
  {
   "cell_type": "markdown",
   "id": "da129258-73fc-417a-9e30-50e0b3f00779",
   "metadata": {},
   "source": [
    "### Chunk size 100, Overlap 20"
   ]
  },
  {
   "cell_type": "code",
   "execution_count": 46,
   "id": "938450f2-0c7e-4d16-934c-dd68ce16ffbd",
   "metadata": {},
   "outputs": [
    {
     "name": "stdout",
     "output_type": "stream",
     "text": [
      "element is: as defined in Rule 405 of the Securities Act. Yes ☐ No ☒Indicate by check mark if the registrant is not required to file reports pursuant to Section 13 or Section 15(d) of the Act.\n",
      "\n",
      "element is: Yes ☐ No ☒Indicate by check mark whether the registrant: (1) has filed all reports required to be filed by Section 13 or 15(d) of the Securities Exchange Act of 1934 during the preceding12  months  (or  for  such  shorter  period  that  the  registrant  was  required  to  file  such  reports);\n",
      "\n",
      "element is: and  (2)  has  been  subject  to  such  filing  requirements  for  the  past  90days.\n",
      "\n",
      "element is: Yes ☐    No ☒Indicate by check mark whether the registrant has submitted electronically every Interactive Data File required to be submitted pursuant to Rule 405 of Regulation S-T(§232.405 of this chapter) during the preceding 12 months (or for such shorter period that the registrant was required to submit such files).\n",
      "\n",
      "element is: Yes  ☒   No  ☐ Indicate by check mark whether the registrant is a large accelerated filer, an accelerated filer, a non-accelerated filer, a smaller reporting company, or an emerging growthcompany.\n",
      "\n"
     ]
    }
   ],
   "source": [
    "from llama_index.core.node_parser import SentenceSplitter\n",
    "\n",
    "base_splitter = SentenceSplitter(chunk_size=100, chunk_overlap=20)\n",
    "base_nodes = base_splitter.get_nodes_from_documents(docs)\n",
    "\n",
    "for elt in base_nodes[5:10]:\n",
    "    print(f'element is: {elt.get_content()}\\n')"
   ]
  },
  {
   "cell_type": "markdown",
   "id": "b8b7bee0-bbf3-4c29-9a7e-08439f265713",
   "metadata": {},
   "source": [
    "### Chunk size 256, Overlap 50"
   ]
  },
  {
   "cell_type": "code",
   "execution_count": 47,
   "id": "f5be31bc-f38c-4a88-9ec5-eca24859258f",
   "metadata": {},
   "outputs": [
    {
     "name": "stdout",
     "output_type": "stream",
     "text": [
      "element is: The registrant has elected to use December 31, 2020 as the calculation datebecause on June 30, 2020 (the last business day of the registrant's most recently completed second fiscal quarter), the registrant was a privately held company. Thiscalculation does not reflect a determination that certain persons are affiliates of the registrant for any other purpose.The registrant had outstanding 290,150,290 shares of Class A common stock, 31,313,450 shares of Class B common stock, and no shares of Class C common stock as ofFebruary 26, 2021.DOCUMENTS INCORPORATED BY REFERENCEPortions of the registrant’s Definitive Proxy Statement relating to the 2021 Annual Meeting of Stockholders are incorporated by reference into Part III of this Annual Report onForm 10-K where indicated. Such Definitive Proxy Statement will be filed with the Securities and Exchange Commission within 120 days after the end of the registrant’s fiscalyear ended December 31, 2020. 2\n",
      "\n",
      "element is: Table of ContentsTABLE OF CONTENTSPage NumberCover1Table of Contents3Part I6Item 1. Business6Item 1A. Risk Factors15Item 1B. Unresolved Staff Comments59Item 2. Properties59Item 3. Legal Proceedings59Item 4. Mine Safety Disclosures61Part II62Item 5. Market for Registrant's Common Equity, Related Stockholder Matters and Issuer Purchases of Equity Securities62Item 6. Selected Financial Data64Item 7. Management's Discussion and Analysis of Financial Condition and Results of Operations64Item 7A. Quantitative and Qualitative Disclosures About Market Risk90Item 8. Financial Statements and Supplementary Data92Item 9. Changes in and Disagreements With Accountants on Accounting and Financial Disclosures132Item 9A. Controls and Procedures132Item 9B. Other Information133Part III134Item 10. Directors, Executive Officers and Corporate Governance134Item 11. Executive Compensation134Item 12.\n",
      "\n",
      "element is: Controls and Procedures132Item 9B. Other Information133Part III134Item 10. Directors, Executive Officers and Corporate Governance134Item 11. Executive Compensation134Item 12. Security Ownership of Certain Beneficial Owner and Management and Related Stockholder Matters134Item 13. Certain Relationships and Related Transactions, and Director Independence134Item 14. Principal Accounting Fees and Services134Part IV135Item 15. Exhibits, Financial Statement Schedules135Item 16. Form 10-K Summary136Signatures137\n",
      "3\n",
      "\n",
      "element is: Table of ContentsSPECIAL NOTE REGARDING FORWARD-LOOKING STATEMENTSThis Annual Report on Form 10-K contains forward-looking statements within the meaning of the federal securities laws, which statements involvesubstantial risks and uncertainties. Forward-looking statements generally relate to future events or our future financial or operating performance. Insome cases, you can identify forward-looking statements because they contain words such as “may,” “will,” “should,” “expect,” “plan,” “anticipate,”“could,” “would,” “intend,” “target,” “project,” “contemplate,” “believe,” “estimate,” “predict,” “potential” or “continue” or the negative of these words orother similar terms or expressions that concern our expectations, strategy, plans or intentions. Forward-looking statements contained in this AnnualReport on Form 10-K include, but are not limited to, statements about:•our future financial performance, including our expectations regarding our revenue, cost of revenue, operating expenses, Total Orders,Marketplace GOV, Contribution Profit (Loss), Contribution Margin, Adjusted Gross Profit, Adjusted Gross Margin, Adjusted EBITDA,\n",
      "\n",
      "element is: including our expectations regarding our revenue, cost of revenue, operating expenses, Total Orders,Marketplace GOV, Contribution Profit (Loss), Contribution Margin, Adjusted Gross Profit, Adjusted Gross Margin, Adjusted EBITDA, andAdjusted EBITDA Margin, our ability to determine reserves, and our ability to maintain and increase long-term future profitability;•our ability to successfully execute our business and growth strategy;•the sufficiency of our cash, cash equivalents and marketable securities to meet our liquidity needs;•the demand for our platform or for local logistics platforms in general;•our ability to attract and retain merchants, consumers and Dashers;•our ability to effectively manage costs related to Dashers;•our ability to develop new offerings, services and features, and bring them to market in a timely manner and make enhancements to ourplatform;•our ability to compete with existing and new competitors in existing and new markets and offerings;•our expectations regarding outstanding litigation and legal and regulatory matters;•our expectations regarding the effects of existing and developing laws and regulations, including with respect to independent contractorclassification, pricing and commissions, taxation and privacy and data protection;\n",
      "\n"
     ]
    }
   ],
   "source": [
    "from llama_index.core.node_parser import SentenceSplitter\n",
    "\n",
    "base_splitter = SentenceSplitter(chunk_size=256, chunk_overlap=50)\n",
    "base_nodes = base_splitter.get_nodes_from_documents(docs)\n",
    "\n",
    "for elt in base_nodes[5:10]:\n",
    "    print(f'element is: {elt.get_content()}\\n')"
   ]
  },
  {
   "cell_type": "markdown",
   "id": "2b41ba1f-e35a-4044-9da4-84739632cbd0",
   "metadata": {},
   "source": [
    "### Chunk size 512, Overlap 100"
   ]
  },
  {
   "cell_type": "code",
   "execution_count": 48,
   "id": "09714bcf-99e5-49dc-bd13-58fe9d234a3c",
   "metadata": {
    "scrolled": true
   },
   "outputs": [
    {
     "name": "stdout",
     "output_type": "stream",
     "text": [
      "element is: Insome cases, you can identify forward-looking statements because they contain words such as “may,” “will,” “should,” “expect,” “plan,” “anticipate,”“could,” “would,” “intend,” “target,” “project,” “contemplate,” “believe,” “estimate,” “predict,” “potential” or “continue” or the negative of these words orother similar terms or expressions that concern our expectations, strategy, plans or intentions. Forward-looking statements contained in this AnnualReport on Form 10-K include, but are not limited to, statements about:•our future financial performance, including our expectations regarding our revenue, cost of revenue, operating expenses, Total Orders,Marketplace GOV, Contribution Profit (Loss), Contribution Margin, Adjusted Gross Profit, Adjusted Gross Margin, Adjusted EBITDA, andAdjusted EBITDA Margin, our ability to determine reserves, and our ability to maintain and increase long-term future profitability;•our ability to successfully execute our business and growth strategy;•the sufficiency of our cash, cash equivalents and marketable securities to meet our liquidity needs;•the demand for our platform or for local logistics platforms in general;•our ability to attract and retain merchants, consumers and Dashers;•our ability to effectively manage costs related to Dashers;•our ability to develop new offerings, services and features, and bring them to market in a timely manner and make enhancements to ourplatform;•our ability to compete with existing and new competitors in existing and new markets and offerings;•our expectations regarding outstanding litigation and legal and regulatory matters;•our expectations regarding the effects of existing and developing laws and regulations, including with respect to independent contractorclassification, pricing and commissions, taxation and privacy and data protection;•our ability to manage and insure auto-related and operations-related risk associated with our business;•our expectations regarding new and evolving markets;•our ability to develop and protect our brand;•our ability to maintain the security and availability of our platform;•our expectations and management of future growth;•our expectations concerning relationships with third parties;•our ability to maintain, protect and enhance our intellectual property;•our ability to integrate companies and assets that we acquire;•the increased expenses associated with being a public company; and•the impact of the COVID-19 pandemic, or a similar public health threat, on global capital and financial markets, general economic conditionsin the United States, and our business and operations.We caution you that the foregoing list may not contain all of the forward-looking statements made in this Annual Report on Form 10-K.You should not rely upon forward-looking statements as predictions of future events.\n",
      "\n",
      "element is: We have based the forward-looking statements contained inthis Annual Report on Form 10-K primarily on our current expectations and projections about future events and trends that we believe may affect ourbusiness, financial condition, results of operations, and prospects. The outcome of the events described in these forward-looking statements issubject to risks, uncertainties, and other factors, including those described in the section titled “Risk Factors” and elsewhere in this Annual Report onForm 10-K. Moreover, we operate in a very competitive and rapidly changing environment. New risks and uncertainties emerge from time to timeand it is not possible for us to predict all risks and uncertainties that could have an impact on the forward-looking statements contained in thisAnnual Report on Form 10-K. We cannot assure you that the results, events, and circumstances reflected in the forward-looking statements will beachieved or occur, and actual results, events, or circumstances could differ materially from those described in the forward-looking statements.4\n",
      "\n",
      "element is: Table of ContentsNeither we nor any other person assumes responsibility for the accuracy and completeness of any of these forward-looking statements. Moreover,the forward-looking statements made in this Annual Report on Form 10-K relate only to events as of the date on which the statements are made. Weundertake no obligation to update any forward-looking statements made in this Annual Report on Form 10-K to reflect events or circumstances afterthe date of this Annual Report on Form 10-K or to reflect new information or the occurrence of unanticipated events, except as required by law. Wemay not actually achieve the plans, intentions or expectations disclosed in our forward-looking statements and you should not place undue relianceon  our  forward-looking  statements.  Our  forward-looking  statements  do  not  reflect  the  potential  impact  of  any  future  acquisitions,  mergers,dispositions, joint ventures or investments we may make.In addition, statements that “we believe” and similar statements reflect our beliefs and opinions on the relevant subject. These statements are basedupon information available to us as of the date of this Annual Report on Form 10-K, and while we believe such information forms a reasonable basisfor such statements, such information may be limited or incomplete, and our statements should not be read to indicate that we have conducted anexhaustive inquiry into, or review of, all potentially available relevant information. These statements are inherently uncertain and investors arecautioned not to unduly rely upon these statements.5\n",
      "\n",
      "element is: Table of ContentsPart IItem 1. BusinessOUR BUSINESSWe founded DoorDash to be a merchant-first business. Our mission is to grow and empower local economies.Technology has changed consumer behavior and driven a wave of demand for convenience. Consumers’ expectations of ease and immediacy withevery purchase has been a boon for some companies but damaging for many others. We enable local brick-and-mortar businesses—which arefundamental to the vitality of local economies and communities—to address consumers’ expectations of ease and immediacy and thrive in anincreasingly convenience-driven economy. Our local logistics platform connects over 450,000 merchants, over 20 million consumers, and over 1million Dashers in the United States, Canada, and Australia every month.We built our products to serve the needs of these three key constituencies. We do this primarily through the DoorDash Marketplace, or ourMarketplace, which offers a broad array of services that enable merchants to solve mission-critical challenges such as customer acquisition,delivery, insights and analytics, merchandising, payment processing, and customer support. Our Marketplace enables merchants to establish anonline presence and expand their reach. It generates significant demand for merchants by connecting them with millions of consumers. Merchantscan fulfill this demand through delivery, facilitated by our local logistics platform, or in-person pickup by consumers.In addition to our Marketplace, which accounts for the vast majority of our business today, we offer merchants a variety of products, which we referto as merchant services, to facilitate sales that merchants have originated through their own channels. DoorDash Drive, or Drive, our white-labellogistics service, enables merchants that have generated consumer demand through their own channels to fulfill this demand using our locallogistics platform. DoorDash Storefront, or Storefront, enables merchants to create their own branded online ordering experience, providing themwith a turnkey solution to offer consumers on-demand access to e-commerce without investing in in-house engineering or logistics capabilities.THE DOORDASH PLATFORMOur local logistics platform connects merchants, consumers, and Dashers. We built our local logistics platform to serve the needs of these three keyconstituencies and to become more intelligent and efficient with every order. As we have grown, the scale of our local logistics platform has becomeone of our major competitive advantages and delivers substantial benefits to everyone we serve.\n",
      "\n",
      "element is: We built our local logistics platform to serve the needs of these three keyconstituencies and to become more intelligent and efficient with every order. As we have grown, the scale of our local logistics platform has becomeone of our major competitive advantages and delivers substantial benefits to everyone we serve. We connect:•Merchants: Over 450,000 merchants run and grow their businesses using our technology platform. Our products are designed to meet theindividual needs of merchants, regardless of their scale, business model, or location. Our Marketplace includes business enablement anddemand fulfillment services that enable merchants to solve mission-critical challenges such as customer acquisition, delivery, insights andanalytics, merchandising, payment processing, and customer support. We help our merchants thrive in an increasingly convenience-driveneconomy while enabling them to focus on their craft.•Consumers: Over 20 million consumers discover, engage with, and purchase goods from merchants on our local logistics platform. Forconsumers, we offer the ability to order from the best of their communities with the click of a button and to have their orders reliablydelivered or waiting at the store for pickup. We enable convenience for consumers throughout their entire day, from breakfast pickup on-the-go to catered lunch at work to grocery or dinner delivery straight to their doorsteps. We believe that the convenient access we provide to anunmatched Based on the number of individual stores, including Drive stores, that have completed an order through our platform in the past month, measured as of December 31, 2020. Based on the number of individual consumer accounts that have completed an order on our Marketplace in the past month, measured as of December 31, 2020. Based on the number of Dasher accounts that have delivered an order through our platform in the past month, measured as of December 31, 2020.123\n",
      "1236\n",
      "\n"
     ]
    }
   ],
   "source": [
    "from llama_index.core.node_parser import SentenceSplitter\n",
    "\n",
    "base_splitter = SentenceSplitter(chunk_size=512, chunk_overlap=100)\n",
    "base_nodes = base_splitter.get_nodes_from_documents(docs)\n",
    "\n",
    "for elt in base_nodes[5:10]:\n",
    "    print(f'element is: {elt.get_content()}\\n')"
   ]
  },
  {
   "cell_type": "markdown",
   "id": "3ab68a5d-5719-41b0-a2f3-ae77d1b2a859",
   "metadata": {},
   "source": [
    "## Semantic Chunking"
   ]
  },
  {
   "cell_type": "code",
   "execution_count": 49,
   "id": "5ed36aa4-1cd7-4e7d-90ee-f0e885038b7f",
   "metadata": {},
   "outputs": [
    {
     "name": "stdout",
     "output_type": "stream",
     "text": [
      "element is: Legal Proceedings59Item 4. Mine Safety Disclosures61Part II62Item 5. Market for Registrant's Common Equity, Related Stockholder Matters and Issuer Purchases of Equity Securities62Item 6. Selected Financial Data64Item 7. Management's Discussion and Analysis of Financial Condition and Results of Operations64Item 7A. Quantitative and Qualitative Disclosures About Market Risk90Item 8. Financial Statements and Supplementary Data92Item 9. Changes in and Disagreements With Accountants on Accounting and Financial Disclosures132Item 9A. Controls and Procedures132Item 9B. Other Information133Part III134Item 10. Directors, Executive Officers and Corporate Governance134Item 11. Executive Compensation134Item 12. Security Ownership of Certain Beneficial Owner and Management and Related Stockholder Matters134Item 13. Certain Relationships and Related Transactions, and Director Independence134Item 14. Principal Accounting Fees and Services134Part IV135Item 15. Exhibits, Financial Statement Schedules135Item 16. Form 10-K Summary136Signatures137\n",
      "3\n",
      "\n",
      "element is: Table of ContentsSPECIAL NOTE REGARDING FORWARD-LOOKING STATEMENTSThis Annual Report on Form 10-K contains forward-looking statements within the meaning of the federal securities laws, which statements involvesubstantial risks and uncertainties. Forward-looking statements generally relate to future events or our future financial or operating performance. Insome cases, you can identify forward-looking statements because they contain words such as “may,” “will,” “should,” “expect,” “plan,” “anticipate,”“could,” “would,” “intend,” “target,” “project,” “contemplate,” “believe,” “estimate,” “predict,” “potential” or “continue” or the negative of these words orother similar terms or expressions that concern our expectations, strategy, plans or intentions. Forward-looking statements contained in this AnnualReport on Form 10-K include, but are not limited to, statements about:•our future financial performance, including our expectations regarding our revenue, cost of revenue, operating expenses, Total Orders,Marketplace GOV, Contribution Profit (Loss), Contribution Margin, Adjusted Gross Profit, Adjusted Gross Margin, Adjusted EBITDA, andAdjusted EBITDA Margin, our ability to determine reserves, and our ability to maintain and increase long-term future profitability;•our ability to successfully execute our business and growth strategy;•the sufficiency of our cash, cash equivalents and marketable securities to meet our liquidity needs;•the demand for our platform or for local logistics platforms in general;•our ability to attract and retain merchants, consumers and Dashers;•our ability to effectively manage costs related to Dashers;•our ability to develop new offerings, services and features, and bring them to market in a timely manner and make enhancements to ourplatform;•our ability to compete with existing and new competitors in existing and new markets and offerings;•our expectations regarding outstanding litigation and legal and regulatory matters;•our expectations regarding the effects of existing and developing laws and regulations, including with respect to independent contractorclassification, pricing and commissions, taxation and privacy and data protection;•our ability to manage and insure auto-related and operations-related risk associated with our business;•our expectations regarding new and evolving markets;•our ability to develop and protect our brand;•our ability to maintain the security and availability of our platform;•our expectations and management of future growth;•our expectations concerning relationships with third parties;•our ability to maintain, protect and enhance our intellectual property;•our ability to integrate companies and assets that we acquire;•the increased expenses associated with being a public company; and•the impact of the COVID-19 pandemic, or a similar public health threat, on global capital and financial markets, general economic conditionsin the United States, and our business and operations.We caution you that the foregoing list may not contain all of the forward-looking statements made in this Annual Report on Form 10-K.You should not rely upon forward-looking statements as predictions of future events. We have based the forward-looking statements contained inthis Annual Report on Form 10-K primarily on our current expectations and projections about future events and trends that we believe may affect ourbusiness, financial condition, results of operations, and prospects. \n",
      "\n",
      "element is: The outcome of the events described in these forward-looking statements issubject to risks, uncertainties, and other factors, including those described in the section titled “Risk Factors” and elsewhere in this Annual Report onForm 10-K. Moreover, we operate in a very competitive and rapidly changing environment. New risks and uncertainties emerge from time to timeand it is not possible for us to predict all risks and uncertainties that could have an impact on the forward-looking statements contained in thisAnnual Report on Form 10-K. We cannot assure you that the results, events, and circumstances reflected in the forward-looking statements will beachieved or occur, and actual results, events, or circumstances could differ materially from those described in the forward-looking statements.4\n",
      "\n",
      "element is: Table of ContentsNeither we nor any other person assumes responsibility for the accuracy and completeness of any of these forward-looking statements. Moreover,the forward-looking statements made in this Annual Report on Form 10-K relate only to events as of the date on which the statements are made. Weundertake no obligation to update any forward-looking statements made in this Annual Report on Form 10-K to reflect events or circumstances afterthe date of this Annual Report on Form 10-K or to reflect new information or the occurrence of unanticipated events, except as required by law. Wemay not actually achieve the plans, intentions or expectations disclosed in our forward-looking statements and you should not place undue relianceon  our  forward-looking  statements.  Our  forward-looking  statements  do  not  reflect  the  potential  impact  of  any  future  acquisitions,  mergers,dispositions, joint ventures or investments we may make.In addition, statements that “we believe” and similar statements reflect our beliefs and opinions on the relevant subject. These statements are basedupon information available to us as of the date of this Annual Report on Form 10-K, and while we believe such information forms a reasonable basisfor such statements, such information may be limited or incomplete, and our statements should not be read to indicate that we have conducted anexhaustive inquiry into, or review of, all potentially available relevant information. \n",
      "\n",
      "element is: These statements are inherently uncertain and investors arecautioned not to unduly rely upon these statements.5\n",
      "\n"
     ]
    }
   ],
   "source": [
    "from llama_index.core.node_parser import SemanticSplitterNodeParser\n",
    "\n",
    "splitter = SemanticSplitterNodeParser(\n",
    "    buffer_size=1, breakpoint_percentile_threshold=95, embed_model=jina_embedding_model\n",
    ")\n",
    "\n",
    "nodes = splitter.get_nodes_from_documents(docs)\n",
    "\n",
    "for elt in nodes[5:10]:\n",
    "    print(f'element is: {elt.get_content()}\\n')"
   ]
  },
  {
   "cell_type": "markdown",
   "id": "84a90f81-f35a-49bf-9357-bf717e8a12be",
   "metadata": {},
   "source": [
    "# Load data in Milvus"
   ]
  },
  {
   "cell_type": "code",
   "execution_count": null,
   "id": "0f3de0c8-4290-4ba4-8fdb-c5daedeb6ac3",
   "metadata": {},
   "outputs": [],
   "source": []
  },
  {
   "cell_type": "code",
   "execution_count": 50,
   "id": "3f77ee13-8080-45f7-aa54-044c05906e42",
   "metadata": {},
   "outputs": [
    {
     "name": "stderr",
     "output_type": "stream",
     "text": [
      "/var/folders/kv/3dw9p_ts4b114chqt9m027pc0000gn/T/ipykernel_37697/980526376.py:9: DeprecationWarning: Call to deprecated class method from_defaults. (ServiceContext is deprecated, please use `llama_index.settings.Settings` instead.) -- Deprecated since version 0.10.0.\n",
      "  service_context_jina = ServiceContext.from_defaults(llm=llm, embed_model=jina_embedding_model, chunk_size=300, chunk_overlap=50)\n"
     ]
    }
   ],
   "source": [
    "from llama_index.llms.ollama import Ollama\n",
    "from llama_index.vector_stores.milvus import MilvusVectorStore\n",
    "\n",
    "from llama_index.core import StorageContext, ServiceContext\n",
    "from llama_index.core import SimpleDirectoryReader, VectorStoreIndex\n",
    "\n",
    "llm = Ollama(model=\"llama3\", request_timeout=120.0)\n",
    "\n",
    "service_context_jina = ServiceContext.from_defaults(llm=llm, embed_model=jina_embedding_model, chunk_size=300, chunk_overlap=50)\n",
    "\n",
    "vector_store_jina = MilvusVectorStore(\n",
    "    uri=\"milvus_rag_llama_index.db\",\n",
    "    collection_name=\"doordash_listing_demo\",\n",
    "    dim=768,  # the value changes with embedding model\n",
    "    overwrite=False  # drop table if exist and then create\n",
    "    )\n",
    "storage_context_jina = StorageContext.from_defaults(vector_store=vector_store_jina)"
   ]
  },
  {
   "cell_type": "code",
   "execution_count": 51,
   "id": "5316e9cc-7f4d-41b4-9682-add9a6a57296",
   "metadata": {},
   "outputs": [],
   "source": [
    "# docs = SimpleDirectoryReader(input_dir=\"data/pdfs/doordash_listing.pdf\").load_data()\n",
    "docs = SimpleDirectoryReader(input_files=['data/pdfs/doordash_listing_small.pdf', 'data/pdfs/S19-14497.pdf']).load_data()"
   ]
  },
  {
   "cell_type": "code",
   "execution_count": 52,
   "id": "c485cbe5-0d5d-44aa-b1e7-26fb9bebd278",
   "metadata": {},
   "outputs": [],
   "source": [
    "vector_index_jina = VectorStoreIndex.from_documents(docs, storage_context=storage_context_jina, service_context=service_context_jina)"
   ]
  },
  {
   "cell_type": "code",
   "execution_count": 53,
   "id": "86e12181-a5ff-4daa-b0cf-501e4621f66c",
   "metadata": {},
   "outputs": [],
   "source": [
    "from llama_index.core.tools import RetrieverTool, ToolMetadata\n",
    "\n",
    "milvus_tool_openai = RetrieverTool(\n",
    "    retriever=vector_index_jina.as_retriever(similarity_top_k=3),  # retrieve top_k results\n",
    "    metadata=ToolMetadata(\n",
    "        name=\"CustomRetriever\",\n",
    "        description='Retrieve relevant information from provided documents.'\n",
    "    ),\n",
    ")"
   ]
  },
  {
   "cell_type": "code",
   "execution_count": 54,
   "id": "03972b8a-2ecc-432f-b199-c5f12bac7a82",
   "metadata": {},
   "outputs": [
    {
     "name": "stdout",
     "output_type": "stream",
     "text": [
      "Based on the provided data, it can be seen that there are a total of 5,333 fax machines used by various services in Berlin.\n"
     ]
    }
   ],
   "source": [
    "query_engine = vector_index_jina.as_query_engine()\n",
    "response = query_engine.query(\"How many services use a Fax Machines in Berlin?\")\n",
    "print(response)"
   ]
  },
  {
   "cell_type": "code",
   "execution_count": 55,
   "id": "2f9112f7-faa3-4553-8080-bd551fc7e6a3",
   "metadata": {},
   "outputs": [
    {
     "name": "stdout",
     "output_type": "stream",
     "text": [
      "According to the provided context, 189 administrative service processes involve a fax requirement.\n"
     ]
    }
   ],
   "source": [
    "print(query_engine.query('How many administrative services processes involve a fax requirement? Please Translate the text'))"
   ]
  },
  {
   "cell_type": "markdown",
   "id": "dacf80b3-6182-484d-b4fb-5e23cb605096",
   "metadata": {},
   "source": [
    "## Semantic Chunking"
   ]
  },
  {
   "cell_type": "code",
   "execution_count": 56,
   "id": "53f1bd38-4540-4c7e-a246-a8c441856b3c",
   "metadata": {},
   "outputs": [],
   "source": [
    "doc_semantic = SimpleDirectoryReader(input_files=[\"data/pdfs/S19-14497.pdf\", \"data/pdfs/doordash_listing_small.pdf\"]).load_data()"
   ]
  },
  {
   "cell_type": "code",
   "execution_count": 57,
   "id": "92a0516b-70dd-4b93-babf-d7586cf05d5c",
   "metadata": {},
   "outputs": [],
   "source": [
    "from llama_index.core.node_parser import SemanticSplitterNodeParser\n",
    "\n",
    "splitter = SemanticSplitterNodeParser(\n",
    "    buffer_size=1, breakpoint_percentile_threshold=95, embed_model=jina_embedding_model\n",
    ")\n",
    "\n",
    "nodes = splitter.get_nodes_from_documents(doc_semantic)\n"
   ]
  },
  {
   "cell_type": "code",
   "execution_count": 58,
   "id": "9f03c458-f21d-4c88-a74d-60a8c3639d1d",
   "metadata": {},
   "outputs": [],
   "source": [
    "vector_index_semantic = VectorStoreIndex(nodes, storage_context=storage_context_jina, service_context=service_context_jina)\n",
    "query_engine_semantic = vector_index_semantic.as_query_engine()\n"
   ]
  },
  {
   "cell_type": "code",
   "execution_count": 59,
   "id": "76e1f009-0d60-45fc-88f9-5763667dc797",
   "metadata": {},
   "outputs": [
    {
     "name": "stdout",
     "output_type": "stream",
     "text": [
      "According to the provided data, there are 5,333 fax machines used by the Berlin administration as a whole.\n"
     ]
    }
   ],
   "source": [
    "print(query_engine_semantic.query('How many services use a Fax Machines in Berlin?'))"
   ]
  },
  {
   "cell_type": "code",
   "execution_count": 60,
   "id": "b80133d3-f4c3-47a6-9697-ebea6bae0322",
   "metadata": {},
   "outputs": [
    {
     "name": "stdout",
     "output_type": "stream",
     "text": [
      "Based on the provided information, it can be inferred that there are 5,333 fax machines in total. This includes both pure fax machines with or without printing functions as well as multifunction printers that are used for printing, scanning, copying, and faxing.\n"
     ]
    }
   ],
   "source": [
    "print(query_engine_semantic.query('How many services require the use of a Fax Machine in Berlin?'))"
   ]
  },
  {
   "cell_type": "code",
   "execution_count": 61,
   "id": "6e3ce550-7184-4ed1-9757-3baab22d9ba6",
   "metadata": {},
   "outputs": [
    {
     "name": "stdout",
     "output_type": "stream",
     "text": [
      "189\n"
     ]
    }
   ],
   "source": [
    "print(query_engine_semantic.query('Wie viele Bearbeitungen von Verwaltungsdienstleistungen beinhalten ein Faxerfordernis?'))"
   ]
  },
  {
   "cell_type": "code",
   "execution_count": 62,
   "id": "27d6a971-e560-494c-9761-c1cc0149c87c",
   "metadata": {},
   "outputs": [
    {
     "name": "stdout",
     "output_type": "stream",
     "text": [
      "According to the provided context, it can be seen that there is an answer given for this question already. The correct answer is: 189.\n",
      "\n",
      "Translation: 189 administrative services processes involve a fax requirement.\n"
     ]
    }
   ],
   "source": [
    "print(query_engine_semantic.query('How many administrative services processes involve a fax requirement? Please Translate the text'))"
   ]
  }
 ],
 "metadata": {
  "kernelspec": {
   "display_name": "Python 3 (ipykernel)",
   "language": "python",
   "name": "python3"
  },
  "language_info": {
   "codemirror_mode": {
    "name": "ipython",
    "version": 3
   },
   "file_extension": ".py",
   "mimetype": "text/x-python",
   "name": "python",
   "nbconvert_exporter": "python",
   "pygments_lexer": "ipython3",
   "version": "3.11.8"
  }
 },
 "nbformat": 4,
 "nbformat_minor": 5
}
