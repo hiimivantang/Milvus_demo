{
 "cells": [
  {
   "cell_type": "code",
   "execution_count": 1,
   "id": "73ab18aa-d90a-4625-b6b9-771cb42eea37",
   "metadata": {},
   "outputs": [
    {
     "name": "stdout",
     "output_type": "stream",
     "text": [
      "The following packages are already present in the pyproject.toml and will be skipped:\n",
      "\n",
      "  - \u001b[36mpymilvus\u001b[39m\n",
      "  - \u001b[36mollama\u001b[39m\n",
      "  - \u001b[36mllama-index-llms-ollama\u001b[39m\n",
      "  - \u001b[36mllama-index-vector-stores-milvus\u001b[39m\n",
      "\n",
      "If you want to update it to the latest compatible version, you can use `poetry update package`.\n",
      "If you prefer to upgrade it to the latest available version, you can use `poetry add package@latest`.\n",
      "\n",
      "Nothing to add.\n"
     ]
    }
   ],
   "source": [
    "!pip install pymilvus ollama llama-index-llms-ollama llama-index-vector-stores-milvus"
   ]
  },
  {
   "cell_type": "code",
   "execution_count": 1,
   "id": "966b0692-89a3-4c3b-83ea-4a2e5f1574a5",
   "metadata": {},
   "outputs": [
    {
     "name": "stdout",
     "output_type": "stream",
     "text": [
      "The following packages are already present in the pyproject.toml and will be skipped:\n",
      "\n",
      "  - \u001b[36mllama-index-embeddings-jinaai\u001b[39m\n",
      "  - \u001b[36mllama-index-readers-file\u001b[39m\n",
      "\n",
      "If you want to update it to the latest compatible version, you can use `poetry update package`.\n",
      "If you prefer to upgrade it to the latest available version, you can use `poetry add package@latest`.\n",
      "\n",
      "Nothing to add.\n"
     ]
    }
   ],
   "source": [
    "!pip install llama-index-embeddings-jinaai llama-index-readers-file"
   ]
  },
  {
   "cell_type": "code",
   "execution_count": 9,
   "id": "0dbdd1e0-e8b9-4329-959c-d1f6813be09d",
   "metadata": {},
   "outputs": [
    {
     "name": "stdout",
     "output_type": "stream",
     "text": [
      "Using version \u001b[39;1m^2.7.0\u001b[39;22m for \u001b[36msentence-transformers\u001b[39m\n",
      "Using version \u001b[39;1m^0.2.0\u001b[39;22m for \u001b[36mllama-index-embeddings-huggingface\u001b[39m\n",
      "\n",
      "\u001b[34mUpdating dependencies\u001b[39m\n",
      "\u001b[2K\u001b[34mResolving dependencies...\u001b[39m \u001b[39;2m(0.9s)\u001b[39;22m\u001b[34mResolving dependencies...\u001b[39m \u001b[39;2m(0.4s)\u001b[39;22m\n",
      "\n",
      "\u001b[39;1mPackage operations\u001b[39;22m: \u001b[34m2\u001b[39m installs, \u001b[34m0\u001b[39m updates, \u001b[34m0\u001b[39m removals\n",
      "\n",
      "  \u001b[34;1m-\u001b[39;22m \u001b[39mInstalling \u001b[39m\u001b[36mminijinja\u001b[39m\u001b[39m (\u001b[39m\u001b[39;1m2.0.1\u001b[39;22m\u001b[39m)\u001b[39m: \u001b[34mPending...\u001b[39m\n",
      "\u001b[1A\u001b[0J  \u001b[34;1m-\u001b[39;22m \u001b[39mInstalling \u001b[39m\u001b[36mminijinja\u001b[39m\u001b[39m (\u001b[39m\u001b[39;1m2.0.1\u001b[39;22m\u001b[39m)\u001b[39m: \u001b[34mDownloading...\u001b[39m \u001b[39;1m0%\u001b[39;22m\n",
      "\u001b[1A\u001b[0J  \u001b[34;1m-\u001b[39;22m \u001b[39mInstalling \u001b[39m\u001b[36mminijinja\u001b[39m\u001b[39m (\u001b[39m\u001b[39;1m2.0.1\u001b[39;22m\u001b[39m)\u001b[39m: \u001b[34mDownloading...\u001b[39m \u001b[39;1m3%\u001b[39;22m\n",
      "\u001b[1A\u001b[0J  \u001b[34;1m-\u001b[39;22m \u001b[39mInstalling \u001b[39m\u001b[36mminijinja\u001b[39m\u001b[39m (\u001b[39m\u001b[39;1m2.0.1\u001b[39;22m\u001b[39m)\u001b[39m: \u001b[34mDownloading...\u001b[39m \u001b[39;1m7%\u001b[39;22m\n",
      "\u001b[1A\u001b[0J  \u001b[34;1m-\u001b[39;22m \u001b[39mInstalling \u001b[39m\u001b[36mminijinja\u001b[39m\u001b[39m (\u001b[39m\u001b[39;1m2.0.1\u001b[39;22m\u001b[39m)\u001b[39m: \u001b[34mDownloading...\u001b[39m \u001b[39;1m10%\u001b[39;22m\n",
      "\u001b[1A\u001b[0J  \u001b[34;1m-\u001b[39;22m \u001b[39mInstalling \u001b[39m\u001b[36mminijinja\u001b[39m\u001b[39m (\u001b[39m\u001b[39;1m2.0.1\u001b[39;22m\u001b[39m)\u001b[39m: \u001b[34mDownloading...\u001b[39m \u001b[39;1m13%\u001b[39;22m\n",
      "\u001b[1A\u001b[0J  \u001b[34;1m-\u001b[39;22m \u001b[39mInstalling \u001b[39m\u001b[36mminijinja\u001b[39m\u001b[39m (\u001b[39m\u001b[39;1m2.0.1\u001b[39;22m\u001b[39m)\u001b[39m: \u001b[34mDownloading...\u001b[39m \u001b[39;1m17%\u001b[39;22m\n",
      "\u001b[1A\u001b[0J  \u001b[34;1m-\u001b[39;22m \u001b[39mInstalling \u001b[39m\u001b[36mminijinja\u001b[39m\u001b[39m (\u001b[39m\u001b[39;1m2.0.1\u001b[39;22m\u001b[39m)\u001b[39m: \u001b[34mDownloading...\u001b[39m \u001b[39;1m20%\u001b[39;22m\n",
      "\u001b[1A\u001b[0J  \u001b[34;1m-\u001b[39;22m \u001b[39mInstalling \u001b[39m\u001b[36mminijinja\u001b[39m\u001b[39m (\u001b[39m\u001b[39;1m2.0.1\u001b[39;22m\u001b[39m)\u001b[39m: \u001b[34mDownloading...\u001b[39m \u001b[39;1m22%\u001b[39;22m\n",
      "\u001b[1A\u001b[0J  \u001b[34;1m-\u001b[39;22m \u001b[39mInstalling \u001b[39m\u001b[36mminijinja\u001b[39m\u001b[39m (\u001b[39m\u001b[39;1m2.0.1\u001b[39;22m\u001b[39m)\u001b[39m: \u001b[34mDownloading...\u001b[39m \u001b[39;1m28%\u001b[39;22m\n",
      "\u001b[1A\u001b[0J  \u001b[34;1m-\u001b[39;22m \u001b[39mInstalling \u001b[39m\u001b[36mminijinja\u001b[39m\u001b[39m (\u001b[39m\u001b[39;1m2.0.1\u001b[39;22m\u001b[39m)\u001b[39m: \u001b[34mDownloading...\u001b[39m \u001b[39;1m30%\u001b[39;22m\n",
      "\u001b[1A\u001b[0J  \u001b[34;1m-\u001b[39;22m \u001b[39mInstalling \u001b[39m\u001b[36mminijinja\u001b[39m\u001b[39m (\u001b[39m\u001b[39;1m2.0.1\u001b[39;22m\u001b[39m)\u001b[39m: \u001b[34mDownloading...\u001b[39m \u001b[39;1m38%\u001b[39;22m\n",
      "\u001b[1A\u001b[0J  \u001b[34;1m-\u001b[39;22m \u001b[39mInstalling \u001b[39m\u001b[36mminijinja\u001b[39m\u001b[39m (\u001b[39m\u001b[39;1m2.0.1\u001b[39;22m\u001b[39m)\u001b[39m: \u001b[34mDownloading...\u001b[39m \u001b[39;1m40%\u001b[39;22m\n",
      "\u001b[1A\u001b[0J  \u001b[34;1m-\u001b[39;22m \u001b[39mInstalling \u001b[39m\u001b[36mminijinja\u001b[39m\u001b[39m (\u001b[39m\u001b[39;1m2.0.1\u001b[39;22m\u001b[39m)\u001b[39m: \u001b[34mDownloading...\u001b[39m \u001b[39;1m47%\u001b[39;22m\n",
      "\u001b[1A\u001b[0J  \u001b[34;1m-\u001b[39;22m \u001b[39mInstalling \u001b[39m\u001b[36mminijinja\u001b[39m\u001b[39m (\u001b[39m\u001b[39;1m2.0.1\u001b[39;22m\u001b[39m)\u001b[39m: \u001b[34mDownloading...\u001b[39m \u001b[39;1m50%\u001b[39;22m\n",
      "\u001b[1A\u001b[0J  \u001b[34;1m-\u001b[39;22m \u001b[39mInstalling \u001b[39m\u001b[36mminijinja\u001b[39m\u001b[39m (\u001b[39m\u001b[39;1m2.0.1\u001b[39;22m\u001b[39m)\u001b[39m: \u001b[34mDownloading...\u001b[39m \u001b[39;1m54%\u001b[39;22m\n",
      "\u001b[1A\u001b[0J  \u001b[34;1m-\u001b[39;22m \u001b[39mInstalling \u001b[39m\u001b[36mminijinja\u001b[39m\u001b[39m (\u001b[39m\u001b[39;1m2.0.1\u001b[39;22m\u001b[39m)\u001b[39m: \u001b[34mDownloading...\u001b[39m \u001b[39;1m60%\u001b[39;22m\n",
      "\u001b[1A\u001b[0J  \u001b[34;1m-\u001b[39;22m \u001b[39mInstalling \u001b[39m\u001b[36mminijinja\u001b[39m\u001b[39m (\u001b[39m\u001b[39;1m2.0.1\u001b[39;22m\u001b[39m)\u001b[39m: \u001b[34mDownloading...\u001b[39m \u001b[39;1m64%\u001b[39;22m\n",
      "\u001b[1A\u001b[0J  \u001b[34;1m-\u001b[39;22m \u001b[39mInstalling \u001b[39m\u001b[36mminijinja\u001b[39m\u001b[39m (\u001b[39m\u001b[39;1m2.0.1\u001b[39;22m\u001b[39m)\u001b[39m: \u001b[34mDownloading...\u001b[39m \u001b[39;1m69%\u001b[39;22m\n",
      "\u001b[1A\u001b[0J  \u001b[34;1m-\u001b[39;22m \u001b[39mInstalling \u001b[39m\u001b[36mminijinja\u001b[39m\u001b[39m (\u001b[39m\u001b[39;1m2.0.1\u001b[39;22m\u001b[39m)\u001b[39m: \u001b[34mDownloading...\u001b[39m \u001b[39;1m74%\u001b[39;22m\n",
      "\u001b[1A\u001b[0J  \u001b[34;1m-\u001b[39;22m \u001b[39mInstalling \u001b[39m\u001b[36mminijinja\u001b[39m\u001b[39m (\u001b[39m\u001b[39;1m2.0.1\u001b[39;22m\u001b[39m)\u001b[39m: \u001b[34mDownloading...\u001b[39m \u001b[39;1m75%\u001b[39;22m\n",
      "\u001b[1A\u001b[0J  \u001b[34;1m-\u001b[39;22m \u001b[39mInstalling \u001b[39m\u001b[36mminijinja\u001b[39m\u001b[39m (\u001b[39m\u001b[39;1m2.0.1\u001b[39;22m\u001b[39m)\u001b[39m: \u001b[34mDownloading...\u001b[39m \u001b[39;1m80%\u001b[39;22m\n",
      "\u001b[1A\u001b[0J  \u001b[34;1m-\u001b[39;22m \u001b[39mInstalling \u001b[39m\u001b[36mminijinja\u001b[39m\u001b[39m (\u001b[39m\u001b[39;1m2.0.1\u001b[39;22m\u001b[39m)\u001b[39m: \u001b[34mDownloading...\u001b[39m \u001b[39;1m86%\u001b[39;22m\n",
      "\u001b[1A\u001b[0J  \u001b[34;1m-\u001b[39;22m \u001b[39mInstalling \u001b[39m\u001b[36mminijinja\u001b[39m\u001b[39m (\u001b[39m\u001b[39;1m2.0.1\u001b[39;22m\u001b[39m)\u001b[39m: \u001b[34mDownloading...\u001b[39m \u001b[39;1m89%\u001b[39;22m\n",
      "\u001b[1A\u001b[0J  \u001b[34;1m-\u001b[39;22m \u001b[39mInstalling \u001b[39m\u001b[36mminijinja\u001b[39m\u001b[39m (\u001b[39m\u001b[39;1m2.0.1\u001b[39;22m\u001b[39m)\u001b[39m: \u001b[34mDownloading...\u001b[39m \u001b[39;1m90%\u001b[39;22m\n",
      "\u001b[1A\u001b[0J  \u001b[34;1m-\u001b[39;22m \u001b[39mInstalling \u001b[39m\u001b[36mminijinja\u001b[39m\u001b[39m (\u001b[39m\u001b[39;1m2.0.1\u001b[39;22m\u001b[39m)\u001b[39m: \u001b[34mDownloading...\u001b[39m \u001b[39;1m95%\u001b[39;22m\n",
      "\u001b[1A\u001b[0J  \u001b[34;1m-\u001b[39;22m \u001b[39mInstalling \u001b[39m\u001b[36mminijinja\u001b[39m\u001b[39m (\u001b[39m\u001b[39;1m2.0.1\u001b[39;22m\u001b[39m)\u001b[39m: \u001b[34mDownloading...\u001b[39m \u001b[39;1m99%\u001b[39;22m\n",
      "\u001b[1A\u001b[0J  \u001b[34;1m-\u001b[39;22m \u001b[39mInstalling \u001b[39m\u001b[36mminijinja\u001b[39m\u001b[39m (\u001b[39m\u001b[39;1m2.0.1\u001b[39;22m\u001b[39m)\u001b[39m: \u001b[34mDownloading...\u001b[39m \u001b[39;1m100%\u001b[39;22m\n",
      "\u001b[1A\u001b[0J  \u001b[34;1m-\u001b[39;22m \u001b[39mInstalling \u001b[39m\u001b[36mminijinja\u001b[39m\u001b[39m (\u001b[39m\u001b[39;1m2.0.1\u001b[39;22m\u001b[39m)\u001b[39m: \u001b[34mInstalling...\u001b[39m\n",
      "\u001b[1A\u001b[0J  \u001b[32;1m-\u001b[39;22m \u001b[39mInstalling \u001b[39m\u001b[36mminijinja\u001b[39m\u001b[39m (\u001b[39m\u001b[32m2.0.1\u001b[39m\u001b[39m)\u001b[39m\n",
      "  \u001b[34;1m-\u001b[39;22m \u001b[39mInstalling \u001b[39m\u001b[36mllama-index-embeddings-huggingface\u001b[39m\u001b[39m (\u001b[39m\u001b[39;1m0.2.0\u001b[39;22m\u001b[39m)\u001b[39m: \u001b[34mPending...\u001b[39m\n",
      "\u001b[1A\u001b[0J  \u001b[34;1m-\u001b[39;22m \u001b[39mInstalling \u001b[39m\u001b[36mllama-index-embeddings-huggingface\u001b[39m\u001b[39m (\u001b[39m\u001b[39;1m0.2.0\u001b[39;22m\u001b[39m)\u001b[39m: \u001b[34mInstalling...\u001b[39m\n",
      "\u001b[1A\u001b[0J  \u001b[32;1m-\u001b[39;22m \u001b[39mInstalling \u001b[39m\u001b[36mllama-index-embeddings-huggingface\u001b[39m\u001b[39m (\u001b[39m\u001b[32m0.2.0\u001b[39m\u001b[39m)\u001b[39m\n",
      "\n",
      "\u001b[34mWriting lock file\u001b[39m\n"
     ]
    }
   ],
   "source": [
    "!pip install sentence-transformers llama-index-embeddings-huggingface"
   ]
  },
  {
   "cell_type": "code",
   "execution_count": 1,
   "id": "459442d5-cb0d-4053-9ace-9878cf2b80e7",
   "metadata": {},
   "outputs": [],
   "source": [
    "# from pymilvus import MilvusClient\n",
    "\n",
    "# client = MilvusClient(\"milvus_rag_llama_index.db\")"
   ]
  },
  {
   "cell_type": "code",
   "execution_count": 21,
   "id": "52276770-1920-4372-9b1b-cf8f022f7b4c",
   "metadata": {},
   "outputs": [
    {
     "name": "stderr",
     "output_type": "stream",
     "text": [
      "\u001b[93m[list_collections] retry:4, cost: 0.27s, reason: <_MultiThreadedRendezvous: StatusCode.UNAVAILABLE, failed to connect to all addresses; last error: UNKNOWN: unix:/var/folders/kv/3dw9p_ts4b114chqt9m027pc0000gn/T/tmpzbv8ecu__milvus_rag_llama_index.db.sock: Connection refused>\u001b[0m\n",
      "\u001b[93m[list_collections] retry:5, cost: 0.81s, reason: <_MultiThreadedRendezvous: StatusCode.UNAVAILABLE, failed to connect to all addresses; last error: UNKNOWN: unix:/var/folders/kv/3dw9p_ts4b114chqt9m027pc0000gn/T/tmpzbv8ecu__milvus_rag_llama_index.db.sock: Connection refused>\u001b[0m\n",
      "\u001b[93m[list_collections] retry:6, cost: 2.43s, reason: <_MultiThreadedRendezvous: StatusCode.UNAVAILABLE, failed to connect to all addresses; last error: UNKNOWN: unix:/var/folders/kv/3dw9p_ts4b114chqt9m027pc0000gn/T/tmpzbv8ecu__milvus_rag_llama_index.db.sock: Connection refused>\u001b[0m\n"
     ]
    },
    {
     "ename": "KeyboardInterrupt",
     "evalue": "",
     "output_type": "error",
     "traceback": [
      "\u001b[0;31m---------------------------------------------------------------------------\u001b[0m",
      "\u001b[0;31m_MultiThreadedRendezvous\u001b[0m                  Traceback (most recent call last)",
      "File \u001b[0;32m~/Library/Caches/pypoetry/virtualenvs/llama-index-demos-hh8Pg5B3-py3.11/lib/python3.11/site-packages/pymilvus/decorators.py:87\u001b[0m, in \u001b[0;36mretry_on_rpc_failure.<locals>.wrapper.<locals>.handler\u001b[0;34m(*args, **kwargs)\u001b[0m\n\u001b[1;32m     86\u001b[0m \u001b[38;5;28;01mtry\u001b[39;00m:\n\u001b[0;32m---> 87\u001b[0m     \u001b[38;5;28;01mreturn\u001b[39;00m \u001b[43mfunc\u001b[49m\u001b[43m(\u001b[49m\u001b[38;5;241;43m*\u001b[39;49m\u001b[43margs\u001b[49m\u001b[43m,\u001b[49m\u001b[43m \u001b[49m\u001b[38;5;241;43m*\u001b[39;49m\u001b[38;5;241;43m*\u001b[39;49m\u001b[43mkwargs\u001b[49m\u001b[43m)\u001b[49m\n\u001b[1;32m     88\u001b[0m \u001b[38;5;28;01mexcept\u001b[39;00m grpc\u001b[38;5;241m.\u001b[39mRpcError \u001b[38;5;28;01mas\u001b[39;00m e:\n\u001b[1;32m     89\u001b[0m     \u001b[38;5;66;03m# Do not retry on these codes\u001b[39;00m\n",
      "File \u001b[0;32m~/Library/Caches/pypoetry/virtualenvs/llama-index-demos-hh8Pg5B3-py3.11/lib/python3.11/site-packages/pymilvus/client/grpc_handler.py:372\u001b[0m, in \u001b[0;36mGrpcHandler.list_collections\u001b[0;34m(self, timeout)\u001b[0m\n\u001b[1;32m    371\u001b[0m rf \u001b[38;5;241m=\u001b[39m \u001b[38;5;28mself\u001b[39m\u001b[38;5;241m.\u001b[39m_stub\u001b[38;5;241m.\u001b[39mShowCollections\u001b[38;5;241m.\u001b[39mfuture(request, timeout\u001b[38;5;241m=\u001b[39mtimeout)\n\u001b[0;32m--> 372\u001b[0m response \u001b[38;5;241m=\u001b[39m \u001b[43mrf\u001b[49m\u001b[38;5;241;43m.\u001b[39;49m\u001b[43mresult\u001b[49m\u001b[43m(\u001b[49m\u001b[43m)\u001b[49m\n\u001b[1;32m    373\u001b[0m status \u001b[38;5;241m=\u001b[39m response\u001b[38;5;241m.\u001b[39mstatus\n",
      "File \u001b[0;32m~/Library/Caches/pypoetry/virtualenvs/llama-index-demos-hh8Pg5B3-py3.11/lib/python3.11/site-packages/grpc/_channel.py:883\u001b[0m, in \u001b[0;36m_MultiThreadedRendezvous.result\u001b[0;34m(self, timeout)\u001b[0m\n\u001b[1;32m    882\u001b[0m \u001b[38;5;28;01melse\u001b[39;00m:\n\u001b[0;32m--> 883\u001b[0m     \u001b[38;5;28;01mraise\u001b[39;00m \u001b[38;5;28mself\u001b[39m\n",
      "\u001b[0;31m_MultiThreadedRendezvous\u001b[0m: <_MultiThreadedRendezvous of RPC that terminated with:\n\tstatus = StatusCode.UNAVAILABLE\n\tdetails = \"failed to connect to all addresses; last error: UNKNOWN: unix:/var/folders/kv/3dw9p_ts4b114chqt9m027pc0000gn/T/tmpzbv8ecu__milvus_rag_llama_index.db.sock: Connection refused\"\n\tdebug_error_string = \"UNKNOWN:Error received from peer  {created_time:\"2024-05-28T16:40:05.321175+02:00\", grpc_status:14, grpc_message:\"failed to connect to all addresses; last error: UNKNOWN: unix:/var/folders/kv/3dw9p_ts4b114chqt9m027pc0000gn/T/tmpzbv8ecu__milvus_rag_llama_index.db.sock: Connection refused\"}\"\n>",
      "\nDuring handling of the above exception, another exception occurred:\n",
      "\u001b[0;31mKeyboardInterrupt\u001b[0m                         Traceback (most recent call last)",
      "Cell \u001b[0;32mIn[21], line 1\u001b[0m\n\u001b[0;32m----> 1\u001b[0m \u001b[43mclient\u001b[49m\u001b[38;5;241;43m.\u001b[39;49m\u001b[43mlist_collections\u001b[49m\u001b[43m(\u001b[49m\u001b[43m)\u001b[49m\n\u001b[1;32m      2\u001b[0m client\u001b[38;5;241m.\u001b[39mrefresh_load()\n",
      "File \u001b[0;32m~/Library/Caches/pypoetry/virtualenvs/llama-index-demos-hh8Pg5B3-py3.11/lib/python3.11/site-packages/pymilvus/milvus_client/milvus_client.py:578\u001b[0m, in \u001b[0;36mMilvusClient.list_collections\u001b[0;34m(self, **kwargs)\u001b[0m\n\u001b[1;32m    576\u001b[0m \u001b[38;5;28;01mdef\u001b[39;00m \u001b[38;5;21mlist_collections\u001b[39m(\u001b[38;5;28mself\u001b[39m, \u001b[38;5;241m*\u001b[39m\u001b[38;5;241m*\u001b[39mkwargs):\n\u001b[1;32m    577\u001b[0m     conn \u001b[38;5;241m=\u001b[39m \u001b[38;5;28mself\u001b[39m\u001b[38;5;241m.\u001b[39m_get_connection()\n\u001b[0;32m--> 578\u001b[0m     \u001b[38;5;28;01mreturn\u001b[39;00m \u001b[43mconn\u001b[49m\u001b[38;5;241;43m.\u001b[39;49m\u001b[43mlist_collections\u001b[49m\u001b[43m(\u001b[49m\u001b[38;5;241;43m*\u001b[39;49m\u001b[38;5;241;43m*\u001b[39;49m\u001b[43mkwargs\u001b[49m\u001b[43m)\u001b[49m\n",
      "File \u001b[0;32m~/Library/Caches/pypoetry/virtualenvs/llama-index-demos-hh8Pg5B3-py3.11/lib/python3.11/site-packages/pymilvus/decorators.py:143\u001b[0m, in \u001b[0;36merror_handler.<locals>.wrapper.<locals>.handler\u001b[0;34m(*args, **kwargs)\u001b[0m\n\u001b[1;32m    141\u001b[0m \u001b[38;5;28;01mtry\u001b[39;00m:\n\u001b[1;32m    142\u001b[0m     record_dict[\u001b[38;5;124m\"\u001b[39m\u001b[38;5;124mRPC start\u001b[39m\u001b[38;5;124m\"\u001b[39m] \u001b[38;5;241m=\u001b[39m \u001b[38;5;28mstr\u001b[39m(datetime\u001b[38;5;241m.\u001b[39mdatetime\u001b[38;5;241m.\u001b[39mnow())\n\u001b[0;32m--> 143\u001b[0m     \u001b[38;5;28;01mreturn\u001b[39;00m \u001b[43mfunc\u001b[49m\u001b[43m(\u001b[49m\u001b[38;5;241;43m*\u001b[39;49m\u001b[43margs\u001b[49m\u001b[43m,\u001b[49m\u001b[43m \u001b[49m\u001b[38;5;241;43m*\u001b[39;49m\u001b[38;5;241;43m*\u001b[39;49m\u001b[43mkwargs\u001b[49m\u001b[43m)\u001b[49m\n\u001b[1;32m    144\u001b[0m \u001b[38;5;28;01mexcept\u001b[39;00m MilvusException \u001b[38;5;28;01mas\u001b[39;00m e:\n\u001b[1;32m    145\u001b[0m     record_dict[\u001b[38;5;124m\"\u001b[39m\u001b[38;5;124mRPC error\u001b[39m\u001b[38;5;124m\"\u001b[39m] \u001b[38;5;241m=\u001b[39m \u001b[38;5;28mstr\u001b[39m(datetime\u001b[38;5;241m.\u001b[39mdatetime\u001b[38;5;241m.\u001b[39mnow())\n",
      "File \u001b[0;32m~/Library/Caches/pypoetry/virtualenvs/llama-index-demos-hh8Pg5B3-py3.11/lib/python3.11/site-packages/pymilvus/decorators.py:182\u001b[0m, in \u001b[0;36mtracing_request.<locals>.wrapper.<locals>.handler\u001b[0;34m(self, *args, **kwargs)\u001b[0m\n\u001b[1;32m    180\u001b[0m \u001b[38;5;28;01mif\u001b[39;00m req_id:\n\u001b[1;32m    181\u001b[0m     \u001b[38;5;28mself\u001b[39m\u001b[38;5;241m.\u001b[39mset_onetime_request_id(req_id)\n\u001b[0;32m--> 182\u001b[0m \u001b[38;5;28;01mreturn\u001b[39;00m \u001b[43mfunc\u001b[49m\u001b[43m(\u001b[49m\u001b[38;5;28;43mself\u001b[39;49m\u001b[43m,\u001b[49m\u001b[43m \u001b[49m\u001b[38;5;241;43m*\u001b[39;49m\u001b[43margs\u001b[49m\u001b[43m,\u001b[49m\u001b[43m \u001b[49m\u001b[38;5;241;43m*\u001b[39;49m\u001b[38;5;241;43m*\u001b[39;49m\u001b[43mkwargs\u001b[49m\u001b[43m)\u001b[49m\n",
      "File \u001b[0;32m~/Library/Caches/pypoetry/virtualenvs/llama-index-demos-hh8Pg5B3-py3.11/lib/python3.11/site-packages/pymilvus/decorators.py:102\u001b[0m, in \u001b[0;36mretry_on_rpc_failure.<locals>.wrapper.<locals>.handler\u001b[0;34m(*args, **kwargs)\u001b[0m\n\u001b[1;32m     96\u001b[0m         retry_msg \u001b[38;5;241m=\u001b[39m (\n\u001b[1;32m     97\u001b[0m             \u001b[38;5;124mf\u001b[39m\u001b[38;5;124m\"\u001b[39m\u001b[38;5;124m[\u001b[39m\u001b[38;5;132;01m{\u001b[39;00mfunc\u001b[38;5;241m.\u001b[39m\u001b[38;5;18m__name__\u001b[39m\u001b[38;5;132;01m}\u001b[39;00m\u001b[38;5;124m] retry:\u001b[39m\u001b[38;5;132;01m{\u001b[39;00mcounter\u001b[38;5;132;01m}\u001b[39;00m\u001b[38;5;124m, cost: \u001b[39m\u001b[38;5;132;01m{\u001b[39;00mback_off\u001b[38;5;132;01m:\u001b[39;00m\u001b[38;5;124m.2f\u001b[39m\u001b[38;5;132;01m}\u001b[39;00m\u001b[38;5;124ms, \u001b[39m\u001b[38;5;124m\"\u001b[39m\n\u001b[1;32m     98\u001b[0m             \u001b[38;5;124mf\u001b[39m\u001b[38;5;124m\"\u001b[39m\u001b[38;5;124mreason: <\u001b[39m\u001b[38;5;132;01m{\u001b[39;00me\u001b[38;5;241m.\u001b[39m\u001b[38;5;18m__class__\u001b[39m\u001b[38;5;241m.\u001b[39m\u001b[38;5;18m__name__\u001b[39m\u001b[38;5;132;01m}\u001b[39;00m\u001b[38;5;124m: \u001b[39m\u001b[38;5;132;01m{\u001b[39;00me\u001b[38;5;241m.\u001b[39mcode()\u001b[38;5;132;01m}\u001b[39;00m\u001b[38;5;124m, \u001b[39m\u001b[38;5;132;01m{\u001b[39;00me\u001b[38;5;241m.\u001b[39mdetails()\u001b[38;5;132;01m}\u001b[39;00m\u001b[38;5;124m>\u001b[39m\u001b[38;5;124m\"\u001b[39m\n\u001b[1;32m     99\u001b[0m         )\n\u001b[1;32m    100\u001b[0m         LOGGER\u001b[38;5;241m.\u001b[39mwarning(WARNING_COLOR\u001b[38;5;241m.\u001b[39mformat(retry_msg))\n\u001b[0;32m--> 102\u001b[0m     time\u001b[38;5;241m.\u001b[39msleep(back_off)\n\u001b[1;32m    103\u001b[0m     back_off \u001b[38;5;241m=\u001b[39m \u001b[38;5;28mmin\u001b[39m(back_off \u001b[38;5;241m*\u001b[39m back_off_multiplier, max_back_off)\n\u001b[1;32m    104\u001b[0m \u001b[38;5;28;01mexcept\u001b[39;00m MilvusException \u001b[38;5;28;01mas\u001b[39;00m e:\n",
      "\u001b[0;31mKeyboardInterrupt\u001b[0m: "
     ]
    }
   ],
   "source": [
    "# client.list_collections()"
   ]
  },
  {
   "cell_type": "code",
   "execution_count": 1,
   "id": "7e2a8144-6992-47d3-9d9c-37a3d01f0ee5",
   "metadata": {},
   "outputs": [],
   "source": [
    "import os\n",
    "\n",
    "from dotenv import load_dotenv\n",
    "\n",
    "load_dotenv()\n",
    "JINA_AI_API_KEY = os.getenv(\"JINA_AI_API_KEY\")"
   ]
  },
  {
   "cell_type": "code",
   "execution_count": 2,
   "id": "8be74a89-605d-4ba1-9c3d-4f75a78d7be9",
   "metadata": {},
   "outputs": [
    {
     "name": "stderr",
     "output_type": "stream",
     "text": [
      "/Users/stephen/Library/Caches/pypoetry/virtualenvs/llama-index-demos-hh8Pg5B3-py3.11/lib/python3.11/site-packages/tqdm/auto.py:21: TqdmWarning: IProgress not found. Please update jupyter and ipywidgets. See https://ipywidgets.readthedocs.io/en/stable/user_install.html\n",
      "  from .autonotebook import tqdm as notebook_tqdm\n"
     ]
    }
   ],
   "source": [
    "from llama_index.embeddings.jinaai import JinaEmbedding\n",
    "\n",
    "#JinaAI Embeddings\n",
    "jina_embedding_model = JinaEmbedding(\n",
    "    api_key=JINA_AI_API_KEY,\n",
    "    model=\"jina-embeddings-v2-base-en\",\n",
    ")"
   ]
  },
  {
   "cell_type": "code",
   "execution_count": 5,
   "id": "bce9beb4-4ae0-4970-afbc-2176354be39b",
   "metadata": {},
   "outputs": [],
   "source": [
    "# from llama_index.embeddings.huggingface import HuggingFaceEmbedding\n",
    "\n",
    "\n",
    "# embed_model = HuggingFaceEmbedding(model_name=\"jinaai/jina-embeddings-v2-base-de\")\n",
    "# len(embed_model.get_text_embedding('This is a test'))"
   ]
  },
  {
   "cell_type": "markdown",
   "id": "ffa736cf-6862-408b-8c91-17b9e78ac95f",
   "metadata": {},
   "source": [
    "## Chunking\n",
    "\n",
    "Let's have a look at different chunking strategies"
   ]
  },
  {
   "cell_type": "code",
   "execution_count": 3,
   "id": "3e07f9a3-c6e0-41d4-b1f8-1db967f4779d",
   "metadata": {},
   "outputs": [],
   "source": [
    "from llama_index.core import SimpleDirectoryReader\n",
    "\n",
    "docs = SimpleDirectoryReader(input_files=[\"data/pdfs/doordash_listing_small.pdf\"]).load_data()"
   ]
  },
  {
   "cell_type": "markdown",
   "id": "da129258-73fc-417a-9e30-50e0b3f00779",
   "metadata": {},
   "source": [
    "### Chunk size 100, Overlap 20"
   ]
  },
  {
   "cell_type": "code",
   "execution_count": 4,
   "id": "938450f2-0c7e-4d16-934c-dd68ce16ffbd",
   "metadata": {},
   "outputs": [
    {
     "name": "stdout",
     "output_type": "stream",
     "text": [
      "element is: as defined in Rule 405 of the Securities Act. Yes ☐ No ☒Indicate by check mark if the registrant is not required to file reports pursuant to Section 13 or Section 15(d) of the Act.\n",
      "\n",
      "element is: Yes ☐ No ☒Indicate by check mark whether the registrant: (1) has filed all reports required to be filed by Section 13 or 15(d) of the Securities Exchange Act of 1934 during the preceding12  months  (or  for  such  shorter  period  that  the  registrant  was  required  to  file  such  reports);\n",
      "\n",
      "element is: and  (2)  has  been  subject  to  such  filing  requirements  for  the  past  90days.\n",
      "\n",
      "element is: Yes ☐    No ☒Indicate by check mark whether the registrant has submitted electronically every Interactive Data File required to be submitted pursuant to Rule 405 of Regulation S-T(§232.405 of this chapter) during the preceding 12 months (or for such shorter period that the registrant was required to submit such files).\n",
      "\n",
      "element is: Yes  ☒   No  ☐ Indicate by check mark whether the registrant is a large accelerated filer, an accelerated filer, a non-accelerated filer, a smaller reporting company, or an emerging growthcompany.\n",
      "\n"
     ]
    }
   ],
   "source": [
    "from llama_index.core.node_parser import SentenceSplitter\n",
    "\n",
    "base_splitter = SentenceSplitter(chunk_size=100, chunk_overlap=20)\n",
    "base_nodes = base_splitter.get_nodes_from_documents(docs)\n",
    "\n",
    "for elt in base_nodes[5:10]:\n",
    "    print(f'element is: {elt.get_content()}\\n')"
   ]
  },
  {
   "cell_type": "markdown",
   "id": "b8b7bee0-bbf3-4c29-9a7e-08439f265713",
   "metadata": {},
   "source": [
    "### Chunk size 256, Overlap 50"
   ]
  },
  {
   "cell_type": "code",
   "execution_count": 5,
   "id": "f5be31bc-f38c-4a88-9ec5-eca24859258f",
   "metadata": {},
   "outputs": [
    {
     "name": "stdout",
     "output_type": "stream",
     "text": [
      "element is: The registrant has elected to use December 31, 2020 as the calculation datebecause on June 30, 2020 (the last business day of the registrant's most recently completed second fiscal quarter), the registrant was a privately held company. Thiscalculation does not reflect a determination that certain persons are affiliates of the registrant for any other purpose.The registrant had outstanding 290,150,290 shares of Class A common stock, 31,313,450 shares of Class B common stock, and no shares of Class C common stock as ofFebruary 26, 2021.DOCUMENTS INCORPORATED BY REFERENCEPortions of the registrant’s Definitive Proxy Statement relating to the 2021 Annual Meeting of Stockholders are incorporated by reference into Part III of this Annual Report onForm 10-K where indicated. Such Definitive Proxy Statement will be filed with the Securities and Exchange Commission within 120 days after the end of the registrant’s fiscalyear ended December 31, 2020. 2\n",
      "\n",
      "element is: Table of ContentsTABLE OF CONTENTSPage NumberCover1Table of Contents3Part I6Item 1. Business6Item 1A. Risk Factors15Item 1B. Unresolved Staff Comments59Item 2. Properties59Item 3. Legal Proceedings59Item 4. Mine Safety Disclosures61Part II62Item 5. Market for Registrant's Common Equity, Related Stockholder Matters and Issuer Purchases of Equity Securities62Item 6. Selected Financial Data64Item 7. Management's Discussion and Analysis of Financial Condition and Results of Operations64Item 7A. Quantitative and Qualitative Disclosures About Market Risk90Item 8. Financial Statements and Supplementary Data92Item 9. Changes in and Disagreements With Accountants on Accounting and Financial Disclosures132Item 9A. Controls and Procedures132Item 9B. Other Information133Part III134Item 10. Directors, Executive Officers and Corporate Governance134Item 11. Executive Compensation134Item 12.\n",
      "\n",
      "element is: Controls and Procedures132Item 9B. Other Information133Part III134Item 10. Directors, Executive Officers and Corporate Governance134Item 11. Executive Compensation134Item 12. Security Ownership of Certain Beneficial Owner and Management and Related Stockholder Matters134Item 13. Certain Relationships and Related Transactions, and Director Independence134Item 14. Principal Accounting Fees and Services134Part IV135Item 15. Exhibits, Financial Statement Schedules135Item 16. Form 10-K Summary136Signatures137\n",
      "3\n",
      "\n",
      "element is: Table of ContentsSPECIAL NOTE REGARDING FORWARD-LOOKING STATEMENTSThis Annual Report on Form 10-K contains forward-looking statements within the meaning of the federal securities laws, which statements involvesubstantial risks and uncertainties. Forward-looking statements generally relate to future events or our future financial or operating performance. Insome cases, you can identify forward-looking statements because they contain words such as “may,” “will,” “should,” “expect,” “plan,” “anticipate,”“could,” “would,” “intend,” “target,” “project,” “contemplate,” “believe,” “estimate,” “predict,” “potential” or “continue” or the negative of these words orother similar terms or expressions that concern our expectations, strategy, plans or intentions. Forward-looking statements contained in this AnnualReport on Form 10-K include, but are not limited to, statements about:•our future financial performance, including our expectations regarding our revenue, cost of revenue, operating expenses, Total Orders,Marketplace GOV, Contribution Profit (Loss), Contribution Margin, Adjusted Gross Profit, Adjusted Gross Margin, Adjusted EBITDA,\n",
      "\n",
      "element is: including our expectations regarding our revenue, cost of revenue, operating expenses, Total Orders,Marketplace GOV, Contribution Profit (Loss), Contribution Margin, Adjusted Gross Profit, Adjusted Gross Margin, Adjusted EBITDA, andAdjusted EBITDA Margin, our ability to determine reserves, and our ability to maintain and increase long-term future profitability;•our ability to successfully execute our business and growth strategy;•the sufficiency of our cash, cash equivalents and marketable securities to meet our liquidity needs;•the demand for our platform or for local logistics platforms in general;•our ability to attract and retain merchants, consumers and Dashers;•our ability to effectively manage costs related to Dashers;•our ability to develop new offerings, services and features, and bring them to market in a timely manner and make enhancements to ourplatform;•our ability to compete with existing and new competitors in existing and new markets and offerings;•our expectations regarding outstanding litigation and legal and regulatory matters;•our expectations regarding the effects of existing and developing laws and regulations, including with respect to independent contractorclassification, pricing and commissions, taxation and privacy and data protection;\n",
      "\n"
     ]
    }
   ],
   "source": [
    "from llama_index.core.node_parser import SentenceSplitter\n",
    "\n",
    "base_splitter = SentenceSplitter(chunk_size=256, chunk_overlap=50)\n",
    "base_nodes = base_splitter.get_nodes_from_documents(docs)\n",
    "\n",
    "for elt in base_nodes[5:10]:\n",
    "    print(f'element is: {elt.get_content()}\\n')"
   ]
  },
  {
   "cell_type": "markdown",
   "id": "2b41ba1f-e35a-4044-9da4-84739632cbd0",
   "metadata": {},
   "source": [
    "### Chunk size 512, Overlap 100"
   ]
  },
  {
   "cell_type": "code",
   "execution_count": 6,
   "id": "09714bcf-99e5-49dc-bd13-58fe9d234a3c",
   "metadata": {
    "scrolled": true
   },
   "outputs": [
    {
     "name": "stdout",
     "output_type": "stream",
     "text": [
      "element is: Insome cases, you can identify forward-looking statements because they contain words such as “may,” “will,” “should,” “expect,” “plan,” “anticipate,”“could,” “would,” “intend,” “target,” “project,” “contemplate,” “believe,” “estimate,” “predict,” “potential” or “continue” or the negative of these words orother similar terms or expressions that concern our expectations, strategy, plans or intentions. Forward-looking statements contained in this AnnualReport on Form 10-K include, but are not limited to, statements about:•our future financial performance, including our expectations regarding our revenue, cost of revenue, operating expenses, Total Orders,Marketplace GOV, Contribution Profit (Loss), Contribution Margin, Adjusted Gross Profit, Adjusted Gross Margin, Adjusted EBITDA, andAdjusted EBITDA Margin, our ability to determine reserves, and our ability to maintain and increase long-term future profitability;•our ability to successfully execute our business and growth strategy;•the sufficiency of our cash, cash equivalents and marketable securities to meet our liquidity needs;•the demand for our platform or for local logistics platforms in general;•our ability to attract and retain merchants, consumers and Dashers;•our ability to effectively manage costs related to Dashers;•our ability to develop new offerings, services and features, and bring them to market in a timely manner and make enhancements to ourplatform;•our ability to compete with existing and new competitors in existing and new markets and offerings;•our expectations regarding outstanding litigation and legal and regulatory matters;•our expectations regarding the effects of existing and developing laws and regulations, including with respect to independent contractorclassification, pricing and commissions, taxation and privacy and data protection;•our ability to manage and insure auto-related and operations-related risk associated with our business;•our expectations regarding new and evolving markets;•our ability to develop and protect our brand;•our ability to maintain the security and availability of our platform;•our expectations and management of future growth;•our expectations concerning relationships with third parties;•our ability to maintain, protect and enhance our intellectual property;•our ability to integrate companies and assets that we acquire;•the increased expenses associated with being a public company; and•the impact of the COVID-19 pandemic, or a similar public health threat, on global capital and financial markets, general economic conditionsin the United States, and our business and operations.We caution you that the foregoing list may not contain all of the forward-looking statements made in this Annual Report on Form 10-K.You should not rely upon forward-looking statements as predictions of future events.\n",
      "\n",
      "element is: We have based the forward-looking statements contained inthis Annual Report on Form 10-K primarily on our current expectations and projections about future events and trends that we believe may affect ourbusiness, financial condition, results of operations, and prospects. The outcome of the events described in these forward-looking statements issubject to risks, uncertainties, and other factors, including those described in the section titled “Risk Factors” and elsewhere in this Annual Report onForm 10-K. Moreover, we operate in a very competitive and rapidly changing environment. New risks and uncertainties emerge from time to timeand it is not possible for us to predict all risks and uncertainties that could have an impact on the forward-looking statements contained in thisAnnual Report on Form 10-K. We cannot assure you that the results, events, and circumstances reflected in the forward-looking statements will beachieved or occur, and actual results, events, or circumstances could differ materially from those described in the forward-looking statements.4\n",
      "\n",
      "element is: Table of ContentsNeither we nor any other person assumes responsibility for the accuracy and completeness of any of these forward-looking statements. Moreover,the forward-looking statements made in this Annual Report on Form 10-K relate only to events as of the date on which the statements are made. Weundertake no obligation to update any forward-looking statements made in this Annual Report on Form 10-K to reflect events or circumstances afterthe date of this Annual Report on Form 10-K or to reflect new information or the occurrence of unanticipated events, except as required by law. Wemay not actually achieve the plans, intentions or expectations disclosed in our forward-looking statements and you should not place undue relianceon  our  forward-looking  statements.  Our  forward-looking  statements  do  not  reflect  the  potential  impact  of  any  future  acquisitions,  mergers,dispositions, joint ventures or investments we may make.In addition, statements that “we believe” and similar statements reflect our beliefs and opinions on the relevant subject. These statements are basedupon information available to us as of the date of this Annual Report on Form 10-K, and while we believe such information forms a reasonable basisfor such statements, such information may be limited or incomplete, and our statements should not be read to indicate that we have conducted anexhaustive inquiry into, or review of, all potentially available relevant information. These statements are inherently uncertain and investors arecautioned not to unduly rely upon these statements.5\n",
      "\n",
      "element is: Table of ContentsPart IItem 1. BusinessOUR BUSINESSWe founded DoorDash to be a merchant-first business. Our mission is to grow and empower local economies.Technology has changed consumer behavior and driven a wave of demand for convenience. Consumers’ expectations of ease and immediacy withevery purchase has been a boon for some companies but damaging for many others. We enable local brick-and-mortar businesses—which arefundamental to the vitality of local economies and communities—to address consumers’ expectations of ease and immediacy and thrive in anincreasingly convenience-driven economy. Our local logistics platform connects over 450,000 merchants, over 20 million consumers, and over 1million Dashers in the United States, Canada, and Australia every month.We built our products to serve the needs of these three key constituencies. We do this primarily through the DoorDash Marketplace, or ourMarketplace, which offers a broad array of services that enable merchants to solve mission-critical challenges such as customer acquisition,delivery, insights and analytics, merchandising, payment processing, and customer support. Our Marketplace enables merchants to establish anonline presence and expand their reach. It generates significant demand for merchants by connecting them with millions of consumers. Merchantscan fulfill this demand through delivery, facilitated by our local logistics platform, or in-person pickup by consumers.In addition to our Marketplace, which accounts for the vast majority of our business today, we offer merchants a variety of products, which we referto as merchant services, to facilitate sales that merchants have originated through their own channels. DoorDash Drive, or Drive, our white-labellogistics service, enables merchants that have generated consumer demand through their own channels to fulfill this demand using our locallogistics platform. DoorDash Storefront, or Storefront, enables merchants to create their own branded online ordering experience, providing themwith a turnkey solution to offer consumers on-demand access to e-commerce without investing in in-house engineering or logistics capabilities.THE DOORDASH PLATFORMOur local logistics platform connects merchants, consumers, and Dashers. We built our local logistics platform to serve the needs of these three keyconstituencies and to become more intelligent and efficient with every order. As we have grown, the scale of our local logistics platform has becomeone of our major competitive advantages and delivers substantial benefits to everyone we serve.\n",
      "\n",
      "element is: We built our local logistics platform to serve the needs of these three keyconstituencies and to become more intelligent and efficient with every order. As we have grown, the scale of our local logistics platform has becomeone of our major competitive advantages and delivers substantial benefits to everyone we serve. We connect:•Merchants: Over 450,000 merchants run and grow their businesses using our technology platform. Our products are designed to meet theindividual needs of merchants, regardless of their scale, business model, or location. Our Marketplace includes business enablement anddemand fulfillment services that enable merchants to solve mission-critical challenges such as customer acquisition, delivery, insights andanalytics, merchandising, payment processing, and customer support. We help our merchants thrive in an increasingly convenience-driveneconomy while enabling them to focus on their craft.•Consumers: Over 20 million consumers discover, engage with, and purchase goods from merchants on our local logistics platform. Forconsumers, we offer the ability to order from the best of their communities with the click of a button and to have their orders reliablydelivered or waiting at the store for pickup. We enable convenience for consumers throughout their entire day, from breakfast pickup on-the-go to catered lunch at work to grocery or dinner delivery straight to their doorsteps. We believe that the convenient access we provide to anunmatched Based on the number of individual stores, including Drive stores, that have completed an order through our platform in the past month, measured as of December 31, 2020. Based on the number of individual consumer accounts that have completed an order on our Marketplace in the past month, measured as of December 31, 2020. Based on the number of Dasher accounts that have delivered an order through our platform in the past month, measured as of December 31, 2020.123\n",
      "1236\n",
      "\n"
     ]
    }
   ],
   "source": [
    "from llama_index.core.node_parser import SentenceSplitter\n",
    "\n",
    "base_splitter = SentenceSplitter(chunk_size=512, chunk_overlap=100)\n",
    "base_nodes = base_splitter.get_nodes_from_documents(docs)\n",
    "\n",
    "for elt in base_nodes[5:10]:\n",
    "    print(f'element is: {elt.get_content()}\\n')"
   ]
  },
  {
   "cell_type": "markdown",
   "id": "3ab68a5d-5719-41b0-a2f3-ae77d1b2a859",
   "metadata": {},
   "source": [
    "## Semantic Chunking"
   ]
  },
  {
   "cell_type": "code",
   "execution_count": 7,
   "id": "5ed36aa4-1cd7-4e7d-90ee-f0e885038b7f",
   "metadata": {},
   "outputs": [
    {
     "name": "stdout",
     "output_type": "stream",
     "text": [
      "element is: Other Information133Part III134Item 10. Directors, Executive Officers and Corporate Governance134Item 11. Executive Compensation134Item 12. Security Ownership of Certain Beneficial Owner and Management and Related Stockholder Matters134Item 13. Certain Relationships and Related Transactions, and Director Independence134Item 14. Principal Accounting Fees and Services134Part IV135Item 15. Exhibits, Financial Statement Schedules135Item 16. Form 10-K Summary136Signatures137\n",
      "3\n",
      "\n",
      "element is: Table of ContentsSPECIAL NOTE REGARDING FORWARD-LOOKING STATEMENTSThis Annual Report on Form 10-K contains forward-looking statements within the meaning of the federal securities laws, which statements involvesubstantial risks and uncertainties. Forward-looking statements generally relate to future events or our future financial or operating performance. \n",
      "\n",
      "element is: Insome cases, you can identify forward-looking statements because they contain words such as “may,” “will,” “should,” “expect,” “plan,” “anticipate,”“could,” “would,” “intend,” “target,” “project,” “contemplate,” “believe,” “estimate,” “predict,” “potential” or “continue” or the negative of these words orother similar terms or expressions that concern our expectations, strategy, plans or intentions. Forward-looking statements contained in this AnnualReport on Form 10-K include, but are not limited to, statements about:•our future financial performance, including our expectations regarding our revenue, cost of revenue, operating expenses, Total Orders,Marketplace GOV, Contribution Profit (Loss), Contribution Margin, Adjusted Gross Profit, Adjusted Gross Margin, Adjusted EBITDA, andAdjusted EBITDA Margin, our ability to determine reserves, and our ability to maintain and increase long-term future profitability;•our ability to successfully execute our business and growth strategy;•the sufficiency of our cash, cash equivalents and marketable securities to meet our liquidity needs;•the demand for our platform or for local logistics platforms in general;•our ability to attract and retain merchants, consumers and Dashers;•our ability to effectively manage costs related to Dashers;•our ability to develop new offerings, services and features, and bring them to market in a timely manner and make enhancements to ourplatform;•our ability to compete with existing and new competitors in existing and new markets and offerings;•our expectations regarding outstanding litigation and legal and regulatory matters;•our expectations regarding the effects of existing and developing laws and regulations, including with respect to independent contractorclassification, pricing and commissions, taxation and privacy and data protection;•our ability to manage and insure auto-related and operations-related risk associated with our business;•our expectations regarding new and evolving markets;•our ability to develop and protect our brand;•our ability to maintain the security and availability of our platform;•our expectations and management of future growth;•our expectations concerning relationships with third parties;•our ability to maintain, protect and enhance our intellectual property;•our ability to integrate companies and assets that we acquire;•the increased expenses associated with being a public company; and•the impact of the COVID-19 pandemic, or a similar public health threat, on global capital and financial markets, general economic conditionsin the United States, and our business and operations.We caution you that the foregoing list may not contain all of the forward-looking statements made in this Annual Report on Form 10-K.You should not rely upon forward-looking statements as predictions of future events. We have based the forward-looking statements contained inthis Annual Report on Form 10-K primarily on our current expectations and projections about future events and trends that we believe may affect ourbusiness, financial condition, results of operations, and prospects. The outcome of the events described in these forward-looking statements issubject to risks, uncertainties, and other factors, including those described in the section titled “Risk Factors” and elsewhere in this Annual Report onForm 10-K. Moreover, we operate in a very competitive and rapidly changing environment. New risks and uncertainties emerge from time to timeand it is not possible for us to predict all risks and uncertainties that could have an impact on the forward-looking statements contained in thisAnnual Report on Form 10-K. We cannot assure you that the results, events, and circumstances reflected in the forward-looking statements will beachieved or occur, and actual results, events, or circumstances could differ materially from those described in the forward-looking statements.4\n",
      "\n",
      "element is: Table of ContentsNeither we nor any other person assumes responsibility for the accuracy and completeness of any of these forward-looking statements. Moreover,the forward-looking statements made in this Annual Report on Form 10-K relate only to events as of the date on which the statements are made. \n",
      "\n",
      "element is: Weundertake no obligation to update any forward-looking statements made in this Annual Report on Form 10-K to reflect events or circumstances afterthe date of this Annual Report on Form 10-K or to reflect new information or the occurrence of unanticipated events, except as required by law. Wemay not actually achieve the plans, intentions or expectations disclosed in our forward-looking statements and you should not place undue relianceon  our  forward-looking  statements.  Our  forward-looking  statements  do  not  reflect  the  potential  impact  of  any  future  acquisitions,  mergers,dispositions, joint ventures or investments we may make.In addition, statements that “we believe” and similar statements reflect our beliefs and opinions on the relevant subject. These statements are basedupon information available to us as of the date of this Annual Report on Form 10-K, and while we believe such information forms a reasonable basisfor such statements, such information may be limited or incomplete, and our statements should not be read to indicate that we have conducted anexhaustive inquiry into, or review of, all potentially available relevant information. These statements are inherently uncertain and investors arecautioned not to unduly rely upon these statements.5\n",
      "\n"
     ]
    }
   ],
   "source": [
    "from llama_index.core.node_parser import SemanticSplitterNodeParser\n",
    "\n",
    "splitter = SemanticSplitterNodeParser(\n",
    "    buffer_size=1, breakpoint_percentile_threshold=95, embed_model=jina_embedding_model\n",
    ")\n",
    "\n",
    "nodes = splitter.get_nodes_from_documents(docs)\n",
    "\n",
    "for elt in nodes[5:10]:\n",
    "    print(f'element is: {elt.get_content()}\\n')"
   ]
  },
  {
   "cell_type": "markdown",
   "id": "84a90f81-f35a-49bf-9357-bf717e8a12be",
   "metadata": {},
   "source": [
    "# Load data in Milvus"
   ]
  },
  {
   "cell_type": "code",
   "execution_count": null,
   "id": "0f3de0c8-4290-4ba4-8fdb-c5daedeb6ac3",
   "metadata": {},
   "outputs": [],
   "source": []
  },
  {
   "cell_type": "code",
   "execution_count": 8,
   "id": "3f77ee13-8080-45f7-aa54-044c05906e42",
   "metadata": {},
   "outputs": [
    {
     "name": "stderr",
     "output_type": "stream",
     "text": [
      "/var/folders/kv/3dw9p_ts4b114chqt9m027pc0000gn/T/ipykernel_17513/3607933299.py:8: DeprecationWarning: Call to deprecated class method from_defaults. (ServiceContext is deprecated, please use `llama_index.settings.Settings` instead.) -- Deprecated since version 0.10.0.\n",
      "  service_context_jina = ServiceContext.from_defaults(llm=llm, embed_model=jina_embedding_model, chunk_size=512, chunk_overlap=100)\n"
     ]
    }
   ],
   "source": [
    "from llama_index.llms.ollama import Ollama\n",
    "from llama_index.vector_stores.milvus import MilvusVectorStore\n",
    "\n",
    "from llama_index.core import StorageContext, ServiceContext\n",
    "from llama_index.core import SimpleDirectoryReader, VectorStoreIndex\n",
    "\n",
    "llm = Ollama(model=\"llama3\", request_timeout=120.0)\n",
    "\n",
    "service_context_jina = ServiceContext.from_defaults(llm=llm, embed_model=jina_embedding_model, chunk_size=512, chunk_overlap=100)\n",
    "\n",
    "vector_store_jina = MilvusVectorStore(\n",
    "    uri=\"milvus_rag_llama_index.db\",\n",
    "    collection_name=\"doordash_listing_demo\",\n",
    "    dim=768,  # the value changes with embedding model\n",
    "    overwrite=False  # drop table if exist and then create\n",
    "    )\n",
    "storage_context_jina = StorageContext.from_defaults(vector_store=vector_store_jina)"
   ]
  },
  {
   "cell_type": "code",
   "execution_count": 9,
   "id": "5316e9cc-7f4d-41b4-9682-add9a6a57296",
   "metadata": {},
   "outputs": [],
   "source": [
    "# docs = SimpleDirectoryReader(input_dir=\"data/pdfs/doordash_listing.pdf\").load_data()\n",
    "docs = SimpleDirectoryReader(input_dir=\"data/pdfs/\").load_data()"
   ]
  },
  {
   "cell_type": "code",
   "execution_count": 12,
   "id": "c485cbe5-0d5d-44aa-b1e7-26fb9bebd278",
   "metadata": {},
   "outputs": [],
   "source": [
    "vector_index_jina = VectorStoreIndex.from_documents(docs, storage_context=storage_context_jina, service_context=service_context_jina)"
   ]
  },
  {
   "cell_type": "code",
   "execution_count": 13,
   "id": "86e12181-a5ff-4daa-b0cf-501e4621f66c",
   "metadata": {},
   "outputs": [],
   "source": [
    "from llama_index.core.tools import RetrieverTool, ToolMetadata\n",
    "\n",
    "milvus_tool_openai = RetrieverTool(\n",
    "    retriever=vector_index_jina.as_retriever(similarity_top_k=3),  # retrieve top_k results\n",
    "    metadata=ToolMetadata(\n",
    "        name=\"CustomRetriever\",\n",
    "        description='Retrieve relevant information from provided documents.'\n",
    "    ),\n",
    ")"
   ]
  },
  {
   "cell_type": "code",
   "execution_count": 14,
   "id": "03972b8a-2ecc-432f-b199-c5f12bac7a82",
   "metadata": {},
   "outputs": [
    {
     "name": "stdout",
     "output_type": "stream",
     "text": [
      "According to the provided context, multiple agencies and departments in Berlin rely on fax machines for communication, including the Bezirksamt Spandau, Bezirksamt Reinickendorf, Rechtsamt, Kammergericht (KG Dez. VI - Ref), Arbeitsämter, Deutscher Bundestag, LAGeSo, and GJPA. These agencies use fax machines to exchange information with each other, citing reasons such as faster transmission of non-digital documents, need for written documentation, and lack of compatibility with internal email systems.\n"
     ]
    }
   ],
   "source": [
    "query_engine = vector_index_jina.as_query_engine()\n",
    "response = query_engine.query(\"How many services use a Fax Machines in Berlin?\")\n",
    "print(response)"
   ]
  },
  {
   "cell_type": "code",
   "execution_count": 15,
   "id": "2f9112f7-faa3-4553-8080-bd551fc7e6a3",
   "metadata": {},
   "outputs": [
    {
     "name": "stdout",
     "output_type": "stream",
     "text": [
      "According to the provided context, it can be inferred that several administrative services processes involve a fax requirement. Specifically:\n",
      "\n",
      "1. Formerly required transmission of very urgent payment-related documents for timely payment or settlement.\n",
      "2. Transmission of summons from the Labour Court (LAG) to the employment agency (LABO III C 21).\n",
      "3. Communication with lower traffic authorities, especially district construction offices in the districts.\n",
      "\n",
      "These processes require fax-based communication to ensure prompt and efficient exchange of information.\n"
     ]
    }
   ],
   "source": [
    "print(query_engine.query('How many administrative services processes involve a fax requirement? Please Translate the text'))"
   ]
  },
  {
   "cell_type": "markdown",
   "id": "dacf80b3-6182-484d-b4fb-5e23cb605096",
   "metadata": {},
   "source": [
    "## Semantic Chunking"
   ]
  },
  {
   "cell_type": "code",
   "execution_count": 20,
   "id": "53f1bd38-4540-4c7e-a246-a8c441856b3c",
   "metadata": {},
   "outputs": [],
   "source": [
    "doc_semantic = SimpleDirectoryReader(input_files=[\"data/pdfs/S19-14497.pdf\"]).load_data()"
   ]
  },
  {
   "cell_type": "code",
   "execution_count": 21,
   "id": "92a0516b-70dd-4b93-babf-d7586cf05d5c",
   "metadata": {},
   "outputs": [],
   "source": [
    "from llama_index.core.node_parser import SemanticSplitterNodeParser\n",
    "\n",
    "splitter = SemanticSplitterNodeParser(\n",
    "    buffer_size=1, breakpoint_percentile_threshold=95, embed_model=jina_embedding_model\n",
    ")\n",
    "\n",
    "nodes = splitter.get_nodes_from_documents(doc_semantic)\n"
   ]
  },
  {
   "cell_type": "code",
   "execution_count": 22,
   "id": "9f03c458-f21d-4c88-a74d-60a8c3639d1d",
   "metadata": {},
   "outputs": [
    {
     "name": "stderr",
     "output_type": "stream",
     "text": [
      "\u001b[93m[describe_collection] retry:4, cost: 0.27s, reason: <_MultiThreadedRendezvous: StatusCode.UNAVAILABLE, failed to connect to all addresses; last error: UNKNOWN: unix:/var/folders/kv/3dw9p_ts4b114chqt9m027pc0000gn/T/tmp8x0ismm__milvus_rag_llama_index.db.sock: Connection refused>\u001b[0m\n",
      "\u001b[93m[describe_collection] retry:5, cost: 0.81s, reason: <_MultiThreadedRendezvous: StatusCode.UNAVAILABLE, failed to connect to all addresses; last error: UNKNOWN: unix:/var/folders/kv/3dw9p_ts4b114chqt9m027pc0000gn/T/tmp8x0ismm__milvus_rag_llama_index.db.sock: Connection refused>\u001b[0m\n",
      "\u001b[93m[describe_collection] retry:6, cost: 2.43s, reason: <_MultiThreadedRendezvous: StatusCode.UNAVAILABLE, failed to connect to all addresses; last error: UNKNOWN: unix:/var/folders/kv/3dw9p_ts4b114chqt9m027pc0000gn/T/tmp8x0ismm__milvus_rag_llama_index.db.sock: Connection refused>\u001b[0m\n",
      "\u001b[93m[describe_collection] retry:7, cost: 3.00s, reason: <_MultiThreadedRendezvous: StatusCode.UNAVAILABLE, failed to connect to all addresses; last error: UNKNOWN: unix:/var/folders/kv/3dw9p_ts4b114chqt9m027pc0000gn/T/tmp8x0ismm__milvus_rag_llama_index.db.sock: Connection refused>\u001b[0m\n",
      "\u001b[93m[describe_collection] retry:8, cost: 3.00s, reason: <_MultiThreadedRendezvous: StatusCode.UNAVAILABLE, failed to connect to all addresses; last error: UNKNOWN: unix:/var/folders/kv/3dw9p_ts4b114chqt9m027pc0000gn/T/tmp8x0ismm__milvus_rag_llama_index.db.sock: Connection refused>\u001b[0m\n",
      "\u001b[93m[describe_collection] retry:9, cost: 3.00s, reason: <_MultiThreadedRendezvous: StatusCode.UNAVAILABLE, failed to connect to all addresses; last error: UNKNOWN: unix:/var/folders/kv/3dw9p_ts4b114chqt9m027pc0000gn/T/tmp8x0ismm__milvus_rag_llama_index.db.sock: Connection refused>\u001b[0m\n",
      "\u001b[93m[describe_collection] retry:10, cost: 3.00s, reason: <_MultiThreadedRendezvous: StatusCode.UNAVAILABLE, failed to connect to all addresses; last error: UNKNOWN: unix:/var/folders/kv/3dw9p_ts4b114chqt9m027pc0000gn/T/tmp8x0ismm__milvus_rag_llama_index.db.sock: Connection refused>\u001b[0m\n",
      "\u001b[93m[describe_collection] retry:11, cost: 3.00s, reason: <_MultiThreadedRendezvous: StatusCode.UNAVAILABLE, failed to connect to all addresses; last error: UNKNOWN: unix:/var/folders/kv/3dw9p_ts4b114chqt9m027pc0000gn/T/tmp8x0ismm__milvus_rag_llama_index.db.sock: Connection refused>\u001b[0m\n",
      "\u001b[93m[describe_collection] retry:12, cost: 3.00s, reason: <_MultiThreadedRendezvous: StatusCode.UNAVAILABLE, failed to connect to all addresses; last error: UNKNOWN: unix:/var/folders/kv/3dw9p_ts4b114chqt9m027pc0000gn/T/tmp8x0ismm__milvus_rag_llama_index.db.sock: Connection refused>\u001b[0m\n",
      "\u001b[93m[describe_collection] retry:13, cost: 3.00s, reason: <_MultiThreadedRendezvous: StatusCode.UNAVAILABLE, failed to connect to all addresses; last error: UNKNOWN: unix:/var/folders/kv/3dw9p_ts4b114chqt9m027pc0000gn/T/tmp8x0ismm__milvus_rag_llama_index.db.sock: Connection refused>\u001b[0m\n"
     ]
    },
    {
     "ename": "KeyboardInterrupt",
     "evalue": "",
     "output_type": "error",
     "traceback": [
      "\u001b[0;31m---------------------------------------------------------------------------\u001b[0m",
      "\u001b[0;31m_MultiThreadedRendezvous\u001b[0m                  Traceback (most recent call last)",
      "File \u001b[0;32m~/Library/Caches/pypoetry/virtualenvs/llama-index-demos-hh8Pg5B3-py3.11/lib/python3.11/site-packages/pymilvus/decorators.py:87\u001b[0m, in \u001b[0;36mretry_on_rpc_failure.<locals>.wrapper.<locals>.handler\u001b[0;34m(*args, **kwargs)\u001b[0m\n\u001b[1;32m     86\u001b[0m \u001b[38;5;28;01mtry\u001b[39;00m:\n\u001b[0;32m---> 87\u001b[0m     \u001b[38;5;28;01mreturn\u001b[39;00m \u001b[43mfunc\u001b[49m\u001b[43m(\u001b[49m\u001b[38;5;241;43m*\u001b[39;49m\u001b[43margs\u001b[49m\u001b[43m,\u001b[49m\u001b[43m \u001b[49m\u001b[38;5;241;43m*\u001b[39;49m\u001b[38;5;241;43m*\u001b[39;49m\u001b[43mkwargs\u001b[49m\u001b[43m)\u001b[49m\n\u001b[1;32m     88\u001b[0m \u001b[38;5;28;01mexcept\u001b[39;00m grpc\u001b[38;5;241m.\u001b[39mRpcError \u001b[38;5;28;01mas\u001b[39;00m e:\n\u001b[1;32m     89\u001b[0m     \u001b[38;5;66;03m# Do not retry on these codes\u001b[39;00m\n",
      "File \u001b[0;32m~/Library/Caches/pypoetry/virtualenvs/llama-index-demos-hh8Pg5B3-py3.11/lib/python3.11/site-packages/pymilvus/client/grpc_handler.py:360\u001b[0m, in \u001b[0;36mGrpcHandler.describe_collection\u001b[0;34m(self, collection_name, timeout, **kwargs)\u001b[0m\n\u001b[1;32m    359\u001b[0m rf \u001b[38;5;241m=\u001b[39m \u001b[38;5;28mself\u001b[39m\u001b[38;5;241m.\u001b[39m_stub\u001b[38;5;241m.\u001b[39mDescribeCollection\u001b[38;5;241m.\u001b[39mfuture(request, timeout\u001b[38;5;241m=\u001b[39mtimeout)\n\u001b[0;32m--> 360\u001b[0m response \u001b[38;5;241m=\u001b[39m \u001b[43mrf\u001b[49m\u001b[38;5;241;43m.\u001b[39;49m\u001b[43mresult\u001b[49m\u001b[43m(\u001b[49m\u001b[43m)\u001b[49m\n\u001b[1;32m    361\u001b[0m status \u001b[38;5;241m=\u001b[39m response\u001b[38;5;241m.\u001b[39mstatus\n",
      "File \u001b[0;32m~/Library/Caches/pypoetry/virtualenvs/llama-index-demos-hh8Pg5B3-py3.11/lib/python3.11/site-packages/grpc/_channel.py:883\u001b[0m, in \u001b[0;36m_MultiThreadedRendezvous.result\u001b[0;34m(self, timeout)\u001b[0m\n\u001b[1;32m    882\u001b[0m \u001b[38;5;28;01melse\u001b[39;00m:\n\u001b[0;32m--> 883\u001b[0m     \u001b[38;5;28;01mraise\u001b[39;00m \u001b[38;5;28mself\u001b[39m\n",
      "\u001b[0;31m_MultiThreadedRendezvous\u001b[0m: <_MultiThreadedRendezvous of RPC that terminated with:\n\tstatus = StatusCode.UNAVAILABLE\n\tdetails = \"failed to connect to all addresses; last error: UNKNOWN: unix:/var/folders/kv/3dw9p_ts4b114chqt9m027pc0000gn/T/tmp8x0ismm__milvus_rag_llama_index.db.sock: Connection refused\"\n\tdebug_error_string = \"UNKNOWN:Error received from peer  {grpc_message:\"failed to connect to all addresses; last error: UNKNOWN: unix:/var/folders/kv/3dw9p_ts4b114chqt9m027pc0000gn/T/tmp8x0ismm__milvus_rag_llama_index.db.sock: Connection refused\", grpc_status:14, created_time:\"2024-05-28T17:02:30.891941+02:00\"}\"\n>",
      "\nDuring handling of the above exception, another exception occurred:\n",
      "\u001b[0;31mKeyboardInterrupt\u001b[0m                         Traceback (most recent call last)",
      "Cell \u001b[0;32mIn[22], line 1\u001b[0m\n\u001b[0;32m----> 1\u001b[0m vector_index_semantic \u001b[38;5;241m=\u001b[39m \u001b[43mVectorStoreIndex\u001b[49m\u001b[43m(\u001b[49m\u001b[43mnodes\u001b[49m\u001b[43m,\u001b[49m\u001b[43m \u001b[49m\u001b[43mstorage_context\u001b[49m\u001b[38;5;241;43m=\u001b[39;49m\u001b[43mstorage_context_jina\u001b[49m\u001b[43m,\u001b[49m\u001b[43m \u001b[49m\u001b[43mservice_context\u001b[49m\u001b[38;5;241;43m=\u001b[39;49m\u001b[43mservice_context_jina\u001b[49m\u001b[43m)\u001b[49m\n\u001b[1;32m      2\u001b[0m query_engine_semantic \u001b[38;5;241m=\u001b[39m vector_index_semantic\u001b[38;5;241m.\u001b[39mas_query_engine()\n",
      "File \u001b[0;32m~/Library/Caches/pypoetry/virtualenvs/llama-index-demos-hh8Pg5B3-py3.11/lib/python3.11/site-packages/llama_index/core/indices/vector_store/base.py:75\u001b[0m, in \u001b[0;36mVectorStoreIndex.__init__\u001b[0;34m(self, nodes, use_async, store_nodes_override, embed_model, insert_batch_size, objects, index_struct, storage_context, callback_manager, transformations, show_progress, service_context, **kwargs)\u001b[0m\n\u001b[1;32m     68\u001b[0m \u001b[38;5;28mself\u001b[39m\u001b[38;5;241m.\u001b[39m_embed_model \u001b[38;5;241m=\u001b[39m (\n\u001b[1;32m     69\u001b[0m     resolve_embed_model(embed_model, callback_manager\u001b[38;5;241m=\u001b[39mcallback_manager)\n\u001b[1;32m     70\u001b[0m     \u001b[38;5;28;01mif\u001b[39;00m embed_model\n\u001b[1;32m     71\u001b[0m     \u001b[38;5;28;01melse\u001b[39;00m embed_model_from_settings_or_context(Settings, service_context)\n\u001b[1;32m     72\u001b[0m )\n\u001b[1;32m     74\u001b[0m \u001b[38;5;28mself\u001b[39m\u001b[38;5;241m.\u001b[39m_insert_batch_size \u001b[38;5;241m=\u001b[39m insert_batch_size\n\u001b[0;32m---> 75\u001b[0m \u001b[38;5;28;43msuper\u001b[39;49m\u001b[43m(\u001b[49m\u001b[43m)\u001b[49m\u001b[38;5;241;43m.\u001b[39;49m\u001b[38;5;21;43m__init__\u001b[39;49m\u001b[43m(\u001b[49m\n\u001b[1;32m     76\u001b[0m \u001b[43m    \u001b[49m\u001b[43mnodes\u001b[49m\u001b[38;5;241;43m=\u001b[39;49m\u001b[43mnodes\u001b[49m\u001b[43m,\u001b[49m\n\u001b[1;32m     77\u001b[0m \u001b[43m    \u001b[49m\u001b[43mindex_struct\u001b[49m\u001b[38;5;241;43m=\u001b[39;49m\u001b[43mindex_struct\u001b[49m\u001b[43m,\u001b[49m\n\u001b[1;32m     78\u001b[0m \u001b[43m    \u001b[49m\u001b[43mservice_context\u001b[49m\u001b[38;5;241;43m=\u001b[39;49m\u001b[43mservice_context\u001b[49m\u001b[43m,\u001b[49m\n\u001b[1;32m     79\u001b[0m \u001b[43m    \u001b[49m\u001b[43mstorage_context\u001b[49m\u001b[38;5;241;43m=\u001b[39;49m\u001b[43mstorage_context\u001b[49m\u001b[43m,\u001b[49m\n\u001b[1;32m     80\u001b[0m \u001b[43m    \u001b[49m\u001b[43mshow_progress\u001b[49m\u001b[38;5;241;43m=\u001b[39;49m\u001b[43mshow_progress\u001b[49m\u001b[43m,\u001b[49m\n\u001b[1;32m     81\u001b[0m \u001b[43m    \u001b[49m\u001b[43mobjects\u001b[49m\u001b[38;5;241;43m=\u001b[39;49m\u001b[43mobjects\u001b[49m\u001b[43m,\u001b[49m\n\u001b[1;32m     82\u001b[0m \u001b[43m    \u001b[49m\u001b[43mcallback_manager\u001b[49m\u001b[38;5;241;43m=\u001b[39;49m\u001b[43mcallback_manager\u001b[49m\u001b[43m,\u001b[49m\n\u001b[1;32m     83\u001b[0m \u001b[43m    \u001b[49m\u001b[43mtransformations\u001b[49m\u001b[38;5;241;43m=\u001b[39;49m\u001b[43mtransformations\u001b[49m\u001b[43m,\u001b[49m\n\u001b[1;32m     84\u001b[0m \u001b[43m    \u001b[49m\u001b[38;5;241;43m*\u001b[39;49m\u001b[38;5;241;43m*\u001b[39;49m\u001b[43mkwargs\u001b[49m\u001b[43m,\u001b[49m\n\u001b[1;32m     85\u001b[0m \u001b[43m\u001b[49m\u001b[43m)\u001b[49m\n",
      "File \u001b[0;32m~/Library/Caches/pypoetry/virtualenvs/llama-index-demos-hh8Pg5B3-py3.11/lib/python3.11/site-packages/llama_index/core/indices/base.py:94\u001b[0m, in \u001b[0;36mBaseIndex.__init__\u001b[0;34m(self, nodes, objects, index_struct, storage_context, callback_manager, transformations, show_progress, service_context, **kwargs)\u001b[0m\n\u001b[1;32m     92\u001b[0m \u001b[38;5;28;01mif\u001b[39;00m index_struct \u001b[38;5;129;01mis\u001b[39;00m \u001b[38;5;28;01mNone\u001b[39;00m:\n\u001b[1;32m     93\u001b[0m     nodes \u001b[38;5;241m=\u001b[39m nodes \u001b[38;5;129;01mor\u001b[39;00m []\n\u001b[0;32m---> 94\u001b[0m     index_struct \u001b[38;5;241m=\u001b[39m \u001b[38;5;28;43mself\u001b[39;49m\u001b[38;5;241;43m.\u001b[39;49m\u001b[43mbuild_index_from_nodes\u001b[49m\u001b[43m(\u001b[49m\n\u001b[1;32m     95\u001b[0m \u001b[43m        \u001b[49m\u001b[43mnodes\u001b[49m\u001b[43m \u001b[49m\u001b[38;5;241;43m+\u001b[39;49m\u001b[43m \u001b[49m\u001b[43mobjects\u001b[49m\u001b[43m  \u001b[49m\u001b[38;5;66;43;03m# type: ignore\u001b[39;49;00m\n\u001b[1;32m     96\u001b[0m \u001b[43m    \u001b[49m\u001b[43m)\u001b[49m\n\u001b[1;32m     97\u001b[0m \u001b[38;5;28mself\u001b[39m\u001b[38;5;241m.\u001b[39m_index_struct \u001b[38;5;241m=\u001b[39m index_struct\n\u001b[1;32m     98\u001b[0m \u001b[38;5;28mself\u001b[39m\u001b[38;5;241m.\u001b[39m_storage_context\u001b[38;5;241m.\u001b[39mindex_store\u001b[38;5;241m.\u001b[39madd_index_struct(\u001b[38;5;28mself\u001b[39m\u001b[38;5;241m.\u001b[39m_index_struct)\n",
      "File \u001b[0;32m~/Library/Caches/pypoetry/virtualenvs/llama-index-demos-hh8Pg5B3-py3.11/lib/python3.11/site-packages/llama_index/core/indices/vector_store/base.py:308\u001b[0m, in \u001b[0;36mVectorStoreIndex.build_index_from_nodes\u001b[0;34m(self, nodes, **insert_kwargs)\u001b[0m\n\u001b[1;32m    300\u001b[0m \u001b[38;5;28;01mif\u001b[39;00m \u001b[38;5;28many\u001b[39m(\n\u001b[1;32m    301\u001b[0m     node\u001b[38;5;241m.\u001b[39mget_content(metadata_mode\u001b[38;5;241m=\u001b[39mMetadataMode\u001b[38;5;241m.\u001b[39mEMBED) \u001b[38;5;241m==\u001b[39m \u001b[38;5;124m\"\u001b[39m\u001b[38;5;124m\"\u001b[39m \u001b[38;5;28;01mfor\u001b[39;00m node \u001b[38;5;129;01min\u001b[39;00m nodes\n\u001b[1;32m    302\u001b[0m ):\n\u001b[1;32m    303\u001b[0m     \u001b[38;5;28;01mraise\u001b[39;00m \u001b[38;5;167;01mValueError\u001b[39;00m(\n\u001b[1;32m    304\u001b[0m         \u001b[38;5;124m\"\u001b[39m\u001b[38;5;124mCannot build index from nodes with no content. \u001b[39m\u001b[38;5;124m\"\u001b[39m\n\u001b[1;32m    305\u001b[0m         \u001b[38;5;124m\"\u001b[39m\u001b[38;5;124mPlease ensure all nodes have content.\u001b[39m\u001b[38;5;124m\"\u001b[39m\n\u001b[1;32m    306\u001b[0m     )\n\u001b[0;32m--> 308\u001b[0m \u001b[38;5;28;01mreturn\u001b[39;00m \u001b[38;5;28;43mself\u001b[39;49m\u001b[38;5;241;43m.\u001b[39;49m\u001b[43m_build_index_from_nodes\u001b[49m\u001b[43m(\u001b[49m\u001b[43mnodes\u001b[49m\u001b[43m,\u001b[49m\u001b[43m \u001b[49m\u001b[38;5;241;43m*\u001b[39;49m\u001b[38;5;241;43m*\u001b[39;49m\u001b[43minsert_kwargs\u001b[49m\u001b[43m)\u001b[49m\n",
      "File \u001b[0;32m~/Library/Caches/pypoetry/virtualenvs/llama-index-demos-hh8Pg5B3-py3.11/lib/python3.11/site-packages/llama_index/core/indices/vector_store/base.py:280\u001b[0m, in \u001b[0;36mVectorStoreIndex._build_index_from_nodes\u001b[0;34m(self, nodes, **insert_kwargs)\u001b[0m\n\u001b[1;32m    278\u001b[0m     run_async_tasks(tasks)\n\u001b[1;32m    279\u001b[0m \u001b[38;5;28;01melse\u001b[39;00m:\n\u001b[0;32m--> 280\u001b[0m     \u001b[38;5;28;43mself\u001b[39;49m\u001b[38;5;241;43m.\u001b[39;49m\u001b[43m_add_nodes_to_index\u001b[49m\u001b[43m(\u001b[49m\n\u001b[1;32m    281\u001b[0m \u001b[43m        \u001b[49m\u001b[43mindex_struct\u001b[49m\u001b[43m,\u001b[49m\n\u001b[1;32m    282\u001b[0m \u001b[43m        \u001b[49m\u001b[43mnodes\u001b[49m\u001b[43m,\u001b[49m\n\u001b[1;32m    283\u001b[0m \u001b[43m        \u001b[49m\u001b[43mshow_progress\u001b[49m\u001b[38;5;241;43m=\u001b[39;49m\u001b[38;5;28;43mself\u001b[39;49m\u001b[38;5;241;43m.\u001b[39;49m\u001b[43m_show_progress\u001b[49m\u001b[43m,\u001b[49m\n\u001b[1;32m    284\u001b[0m \u001b[43m        \u001b[49m\u001b[38;5;241;43m*\u001b[39;49m\u001b[38;5;241;43m*\u001b[39;49m\u001b[43minsert_kwargs\u001b[49m\u001b[43m,\u001b[49m\n\u001b[1;32m    285\u001b[0m \u001b[43m    \u001b[49m\u001b[43m)\u001b[49m\n\u001b[1;32m    286\u001b[0m \u001b[38;5;28;01mreturn\u001b[39;00m index_struct\n",
      "File \u001b[0;32m~/Library/Caches/pypoetry/virtualenvs/llama-index-demos-hh8Pg5B3-py3.11/lib/python3.11/site-packages/llama_index/core/indices/vector_store/base.py:234\u001b[0m, in \u001b[0;36mVectorStoreIndex._add_nodes_to_index\u001b[0;34m(self, index_struct, nodes, show_progress, **insert_kwargs)\u001b[0m\n\u001b[1;32m    232\u001b[0m \u001b[38;5;28;01mfor\u001b[39;00m nodes_batch \u001b[38;5;129;01min\u001b[39;00m iter_batch(nodes, \u001b[38;5;28mself\u001b[39m\u001b[38;5;241m.\u001b[39m_insert_batch_size):\n\u001b[1;32m    233\u001b[0m     nodes_batch \u001b[38;5;241m=\u001b[39m \u001b[38;5;28mself\u001b[39m\u001b[38;5;241m.\u001b[39m_get_node_with_embedding(nodes_batch, show_progress)\n\u001b[0;32m--> 234\u001b[0m     new_ids \u001b[38;5;241m=\u001b[39m \u001b[38;5;28;43mself\u001b[39;49m\u001b[38;5;241;43m.\u001b[39;49m\u001b[43m_vector_store\u001b[49m\u001b[38;5;241;43m.\u001b[39;49m\u001b[43madd\u001b[49m\u001b[43m(\u001b[49m\u001b[43mnodes_batch\u001b[49m\u001b[43m,\u001b[49m\u001b[43m \u001b[49m\u001b[38;5;241;43m*\u001b[39;49m\u001b[38;5;241;43m*\u001b[39;49m\u001b[43minsert_kwargs\u001b[49m\u001b[43m)\u001b[49m\n\u001b[1;32m    236\u001b[0m     \u001b[38;5;28;01mif\u001b[39;00m \u001b[38;5;129;01mnot\u001b[39;00m \u001b[38;5;28mself\u001b[39m\u001b[38;5;241m.\u001b[39m_vector_store\u001b[38;5;241m.\u001b[39mstores_text \u001b[38;5;129;01mor\u001b[39;00m \u001b[38;5;28mself\u001b[39m\u001b[38;5;241m.\u001b[39m_store_nodes_override:\n\u001b[1;32m    237\u001b[0m         \u001b[38;5;66;03m# NOTE: if the vector store doesn't store text,\u001b[39;00m\n\u001b[1;32m    238\u001b[0m         \u001b[38;5;66;03m# we need to add the nodes to the index struct and document store\u001b[39;00m\n\u001b[1;32m    239\u001b[0m         \u001b[38;5;28;01mfor\u001b[39;00m node, new_id \u001b[38;5;129;01min\u001b[39;00m \u001b[38;5;28mzip\u001b[39m(nodes_batch, new_ids):\n\u001b[1;32m    240\u001b[0m             \u001b[38;5;66;03m# NOTE: remove embedding from node to avoid duplication\u001b[39;00m\n",
      "File \u001b[0;32m~/Library/Caches/pypoetry/virtualenvs/llama-index-demos-hh8Pg5B3-py3.11/lib/python3.11/site-packages/llama_index/vector_stores/milvus/base.py:327\u001b[0m, in \u001b[0;36mMilvusVectorStore.add\u001b[0;34m(self, nodes, **add_kwargs)\u001b[0m\n\u001b[1;32m    325\u001b[0m \u001b[38;5;66;03m# Insert the data into milvus\u001b[39;00m\n\u001b[1;32m    326\u001b[0m \u001b[38;5;28;01mfor\u001b[39;00m insert_batch \u001b[38;5;129;01min\u001b[39;00m iter_batch(insert_list, \u001b[38;5;28mself\u001b[39m\u001b[38;5;241m.\u001b[39mbatch_size):\n\u001b[0;32m--> 327\u001b[0m     \u001b[38;5;28;43mself\u001b[39;49m\u001b[38;5;241;43m.\u001b[39;49m\u001b[43m_collection\u001b[49m\u001b[38;5;241;43m.\u001b[39;49m\u001b[43minsert\u001b[49m\u001b[43m(\u001b[49m\u001b[43minsert_batch\u001b[49m\u001b[43m)\u001b[49m\n\u001b[1;32m    328\u001b[0m \u001b[38;5;28;01mif\u001b[39;00m add_kwargs\u001b[38;5;241m.\u001b[39mget(\u001b[38;5;124m\"\u001b[39m\u001b[38;5;124mforce_flush\u001b[39m\u001b[38;5;124m\"\u001b[39m, \u001b[38;5;28;01mFalse\u001b[39;00m):\n\u001b[1;32m    329\u001b[0m     \u001b[38;5;28mself\u001b[39m\u001b[38;5;241m.\u001b[39m_collection\u001b[38;5;241m.\u001b[39mflush()\n",
      "File \u001b[0;32m~/Library/Caches/pypoetry/virtualenvs/llama-index-demos-hh8Pg5B3-py3.11/lib/python3.11/site-packages/pymilvus/orm/collection.py:502\u001b[0m, in \u001b[0;36mCollection.insert\u001b[0;34m(self, data, partition_name, timeout, **kwargs)\u001b[0m\n\u001b[1;32m    500\u001b[0m conn \u001b[38;5;241m=\u001b[39m \u001b[38;5;28mself\u001b[39m\u001b[38;5;241m.\u001b[39m_get_connection()\n\u001b[1;32m    501\u001b[0m \u001b[38;5;28;01mif\u001b[39;00m is_row_based(data):\n\u001b[0;32m--> 502\u001b[0m     \u001b[38;5;28;01mreturn\u001b[39;00m \u001b[43mconn\u001b[49m\u001b[38;5;241;43m.\u001b[39;49m\u001b[43minsert_rows\u001b[49m\u001b[43m(\u001b[49m\n\u001b[1;32m    503\u001b[0m \u001b[43m        \u001b[49m\u001b[43mcollection_name\u001b[49m\u001b[38;5;241;43m=\u001b[39;49m\u001b[38;5;28;43mself\u001b[39;49m\u001b[38;5;241;43m.\u001b[39;49m\u001b[43m_name\u001b[49m\u001b[43m,\u001b[49m\n\u001b[1;32m    504\u001b[0m \u001b[43m        \u001b[49m\u001b[43mentities\u001b[49m\u001b[38;5;241;43m=\u001b[39;49m\u001b[43mdata\u001b[49m\u001b[43m,\u001b[49m\n\u001b[1;32m    505\u001b[0m \u001b[43m        \u001b[49m\u001b[43mpartition_name\u001b[49m\u001b[38;5;241;43m=\u001b[39;49m\u001b[43mpartition_name\u001b[49m\u001b[43m,\u001b[49m\n\u001b[1;32m    506\u001b[0m \u001b[43m        \u001b[49m\u001b[43mtimeout\u001b[49m\u001b[38;5;241;43m=\u001b[39;49m\u001b[43mtimeout\u001b[49m\u001b[43m,\u001b[49m\n\u001b[1;32m    507\u001b[0m \u001b[43m        \u001b[49m\u001b[43mschema\u001b[49m\u001b[38;5;241;43m=\u001b[39;49m\u001b[38;5;28;43mself\u001b[39;49m\u001b[38;5;241;43m.\u001b[39;49m\u001b[43m_schema_dict\u001b[49m\u001b[43m,\u001b[49m\n\u001b[1;32m    508\u001b[0m \u001b[43m        \u001b[49m\u001b[38;5;241;43m*\u001b[39;49m\u001b[38;5;241;43m*\u001b[39;49m\u001b[43mkwargs\u001b[49m\u001b[43m,\u001b[49m\n\u001b[1;32m    509\u001b[0m \u001b[43m    \u001b[49m\u001b[43m)\u001b[49m\n\u001b[1;32m    511\u001b[0m check_insert_schema(\u001b[38;5;28mself\u001b[39m\u001b[38;5;241m.\u001b[39mschema, data)\n\u001b[1;32m    512\u001b[0m entities \u001b[38;5;241m=\u001b[39m Prepare\u001b[38;5;241m.\u001b[39mprepare_insert_data(data, \u001b[38;5;28mself\u001b[39m\u001b[38;5;241m.\u001b[39mschema)\n",
      "File \u001b[0;32m~/Library/Caches/pypoetry/virtualenvs/llama-index-demos-hh8Pg5B3-py3.11/lib/python3.11/site-packages/pymilvus/decorators.py:143\u001b[0m, in \u001b[0;36merror_handler.<locals>.wrapper.<locals>.handler\u001b[0;34m(*args, **kwargs)\u001b[0m\n\u001b[1;32m    141\u001b[0m \u001b[38;5;28;01mtry\u001b[39;00m:\n\u001b[1;32m    142\u001b[0m     record_dict[\u001b[38;5;124m\"\u001b[39m\u001b[38;5;124mRPC start\u001b[39m\u001b[38;5;124m\"\u001b[39m] \u001b[38;5;241m=\u001b[39m \u001b[38;5;28mstr\u001b[39m(datetime\u001b[38;5;241m.\u001b[39mdatetime\u001b[38;5;241m.\u001b[39mnow())\n\u001b[0;32m--> 143\u001b[0m     \u001b[38;5;28;01mreturn\u001b[39;00m \u001b[43mfunc\u001b[49m\u001b[43m(\u001b[49m\u001b[38;5;241;43m*\u001b[39;49m\u001b[43margs\u001b[49m\u001b[43m,\u001b[49m\u001b[43m \u001b[49m\u001b[38;5;241;43m*\u001b[39;49m\u001b[38;5;241;43m*\u001b[39;49m\u001b[43mkwargs\u001b[49m\u001b[43m)\u001b[49m\n\u001b[1;32m    144\u001b[0m \u001b[38;5;28;01mexcept\u001b[39;00m MilvusException \u001b[38;5;28;01mas\u001b[39;00m e:\n\u001b[1;32m    145\u001b[0m     record_dict[\u001b[38;5;124m\"\u001b[39m\u001b[38;5;124mRPC error\u001b[39m\u001b[38;5;124m\"\u001b[39m] \u001b[38;5;241m=\u001b[39m \u001b[38;5;28mstr\u001b[39m(datetime\u001b[38;5;241m.\u001b[39mdatetime\u001b[38;5;241m.\u001b[39mnow())\n",
      "File \u001b[0;32m~/Library/Caches/pypoetry/virtualenvs/llama-index-demos-hh8Pg5B3-py3.11/lib/python3.11/site-packages/pymilvus/decorators.py:182\u001b[0m, in \u001b[0;36mtracing_request.<locals>.wrapper.<locals>.handler\u001b[0;34m(self, *args, **kwargs)\u001b[0m\n\u001b[1;32m    180\u001b[0m \u001b[38;5;28;01mif\u001b[39;00m req_id:\n\u001b[1;32m    181\u001b[0m     \u001b[38;5;28mself\u001b[39m\u001b[38;5;241m.\u001b[39mset_onetime_request_id(req_id)\n\u001b[0;32m--> 182\u001b[0m \u001b[38;5;28;01mreturn\u001b[39;00m \u001b[43mfunc\u001b[49m\u001b[43m(\u001b[49m\u001b[38;5;28;43mself\u001b[39;49m\u001b[43m,\u001b[49m\u001b[43m \u001b[49m\u001b[38;5;241;43m*\u001b[39;49m\u001b[43margs\u001b[49m\u001b[43m,\u001b[49m\u001b[43m \u001b[49m\u001b[38;5;241;43m*\u001b[39;49m\u001b[38;5;241;43m*\u001b[39;49m\u001b[43mkwargs\u001b[49m\u001b[43m)\u001b[49m\n",
      "File \u001b[0;32m~/Library/Caches/pypoetry/virtualenvs/llama-index-demos-hh8Pg5B3-py3.11/lib/python3.11/site-packages/pymilvus/decorators.py:87\u001b[0m, in \u001b[0;36mretry_on_rpc_failure.<locals>.wrapper.<locals>.handler\u001b[0;34m(*args, **kwargs)\u001b[0m\n\u001b[1;32m     85\u001b[0m \u001b[38;5;28;01mwhile\u001b[39;00m \u001b[38;5;28;01mTrue\u001b[39;00m:\n\u001b[1;32m     86\u001b[0m     \u001b[38;5;28;01mtry\u001b[39;00m:\n\u001b[0;32m---> 87\u001b[0m         \u001b[38;5;28;01mreturn\u001b[39;00m \u001b[43mfunc\u001b[49m\u001b[43m(\u001b[49m\u001b[38;5;241;43m*\u001b[39;49m\u001b[43margs\u001b[49m\u001b[43m,\u001b[49m\u001b[43m \u001b[49m\u001b[38;5;241;43m*\u001b[39;49m\u001b[38;5;241;43m*\u001b[39;49m\u001b[43mkwargs\u001b[49m\u001b[43m)\u001b[49m\n\u001b[1;32m     88\u001b[0m     \u001b[38;5;28;01mexcept\u001b[39;00m grpc\u001b[38;5;241m.\u001b[39mRpcError \u001b[38;5;28;01mas\u001b[39;00m e:\n\u001b[1;32m     89\u001b[0m         \u001b[38;5;66;03m# Do not retry on these codes\u001b[39;00m\n\u001b[1;32m     90\u001b[0m         \u001b[38;5;28;01mif\u001b[39;00m e\u001b[38;5;241m.\u001b[39mcode() \u001b[38;5;129;01min\u001b[39;00m IGNORE_RETRY_CODES:\n",
      "File \u001b[0;32m~/Library/Caches/pypoetry/virtualenvs/llama-index-demos-hh8Pg5B3-py3.11/lib/python3.11/site-packages/pymilvus/client/grpc_handler.py:492\u001b[0m, in \u001b[0;36mGrpcHandler.insert_rows\u001b[0;34m(self, collection_name, entities, partition_name, schema, timeout, **kwargs)\u001b[0m\n\u001b[1;32m    482\u001b[0m \u001b[38;5;129m@retry_on_rpc_failure\u001b[39m()\n\u001b[1;32m    483\u001b[0m \u001b[38;5;28;01mdef\u001b[39;00m \u001b[38;5;21minsert_rows\u001b[39m(\n\u001b[1;32m    484\u001b[0m     \u001b[38;5;28mself\u001b[39m,\n\u001b[0;32m   (...)\u001b[0m\n\u001b[1;32m    490\u001b[0m     \u001b[38;5;241m*\u001b[39m\u001b[38;5;241m*\u001b[39mkwargs,\n\u001b[1;32m    491\u001b[0m ):\n\u001b[0;32m--> 492\u001b[0m     request \u001b[38;5;241m=\u001b[39m \u001b[38;5;28;43mself\u001b[39;49m\u001b[38;5;241;43m.\u001b[39;49m\u001b[43m_prepare_row_insert_request\u001b[49m\u001b[43m(\u001b[49m\n\u001b[1;32m    493\u001b[0m \u001b[43m        \u001b[49m\u001b[43mcollection_name\u001b[49m\u001b[43m,\u001b[49m\u001b[43m \u001b[49m\u001b[43mentities\u001b[49m\u001b[43m,\u001b[49m\u001b[43m \u001b[49m\u001b[43mpartition_name\u001b[49m\u001b[43m,\u001b[49m\u001b[43m \u001b[49m\u001b[43mtimeout\u001b[49m\u001b[43m,\u001b[49m\u001b[43m \u001b[49m\u001b[38;5;241;43m*\u001b[39;49m\u001b[38;5;241;43m*\u001b[39;49m\u001b[43mkwargs\u001b[49m\n\u001b[1;32m    494\u001b[0m \u001b[43m    \u001b[49m\u001b[43m)\u001b[49m\n\u001b[1;32m    495\u001b[0m     resp \u001b[38;5;241m=\u001b[39m \u001b[38;5;28mself\u001b[39m\u001b[38;5;241m.\u001b[39m_stub\u001b[38;5;241m.\u001b[39mInsert(request\u001b[38;5;241m=\u001b[39mrequest, timeout\u001b[38;5;241m=\u001b[39mtimeout)\n\u001b[1;32m    496\u001b[0m     check_status(resp\u001b[38;5;241m.\u001b[39mstatus)\n",
      "File \u001b[0;32m~/Library/Caches/pypoetry/virtualenvs/llama-index-demos-hh8Pg5B3-py3.11/lib/python3.11/site-packages/pymilvus/client/grpc_handler.py:513\u001b[0m, in \u001b[0;36mGrpcHandler._prepare_row_insert_request\u001b[0;34m(self, collection_name, entity_rows, partition_name, schema, timeout, **kwargs)\u001b[0m\n\u001b[1;32m    510\u001b[0m     entity_rows \u001b[38;5;241m=\u001b[39m [entity_rows]\n\u001b[1;32m    512\u001b[0m \u001b[38;5;28;01mif\u001b[39;00m \u001b[38;5;129;01mnot\u001b[39;00m \u001b[38;5;28misinstance\u001b[39m(schema, \u001b[38;5;28mdict\u001b[39m):\n\u001b[0;32m--> 513\u001b[0m     schema \u001b[38;5;241m=\u001b[39m \u001b[38;5;28;43mself\u001b[39;49m\u001b[38;5;241;43m.\u001b[39;49m\u001b[43mdescribe_collection\u001b[49m\u001b[43m(\u001b[49m\u001b[43mcollection_name\u001b[49m\u001b[43m,\u001b[49m\u001b[43m \u001b[49m\u001b[43mtimeout\u001b[49m\u001b[38;5;241;43m=\u001b[39;49m\u001b[43mtimeout\u001b[49m\u001b[43m)\u001b[49m\n\u001b[1;32m    515\u001b[0m fields_info \u001b[38;5;241m=\u001b[39m schema\u001b[38;5;241m.\u001b[39mget(\u001b[38;5;124m\"\u001b[39m\u001b[38;5;124mfields\u001b[39m\u001b[38;5;124m\"\u001b[39m)\n\u001b[1;32m    516\u001b[0m enable_dynamic \u001b[38;5;241m=\u001b[39m schema\u001b[38;5;241m.\u001b[39mget(\u001b[38;5;124m\"\u001b[39m\u001b[38;5;124menable_dynamic_field\u001b[39m\u001b[38;5;124m\"\u001b[39m, \u001b[38;5;28;01mFalse\u001b[39;00m)\n",
      "File \u001b[0;32m~/Library/Caches/pypoetry/virtualenvs/llama-index-demos-hh8Pg5B3-py3.11/lib/python3.11/site-packages/pymilvus/decorators.py:143\u001b[0m, in \u001b[0;36merror_handler.<locals>.wrapper.<locals>.handler\u001b[0;34m(*args, **kwargs)\u001b[0m\n\u001b[1;32m    141\u001b[0m \u001b[38;5;28;01mtry\u001b[39;00m:\n\u001b[1;32m    142\u001b[0m     record_dict[\u001b[38;5;124m\"\u001b[39m\u001b[38;5;124mRPC start\u001b[39m\u001b[38;5;124m\"\u001b[39m] \u001b[38;5;241m=\u001b[39m \u001b[38;5;28mstr\u001b[39m(datetime\u001b[38;5;241m.\u001b[39mdatetime\u001b[38;5;241m.\u001b[39mnow())\n\u001b[0;32m--> 143\u001b[0m     \u001b[38;5;28;01mreturn\u001b[39;00m \u001b[43mfunc\u001b[49m\u001b[43m(\u001b[49m\u001b[38;5;241;43m*\u001b[39;49m\u001b[43margs\u001b[49m\u001b[43m,\u001b[49m\u001b[43m \u001b[49m\u001b[38;5;241;43m*\u001b[39;49m\u001b[38;5;241;43m*\u001b[39;49m\u001b[43mkwargs\u001b[49m\u001b[43m)\u001b[49m\n\u001b[1;32m    144\u001b[0m \u001b[38;5;28;01mexcept\u001b[39;00m MilvusException \u001b[38;5;28;01mas\u001b[39;00m e:\n\u001b[1;32m    145\u001b[0m     record_dict[\u001b[38;5;124m\"\u001b[39m\u001b[38;5;124mRPC error\u001b[39m\u001b[38;5;124m\"\u001b[39m] \u001b[38;5;241m=\u001b[39m \u001b[38;5;28mstr\u001b[39m(datetime\u001b[38;5;241m.\u001b[39mdatetime\u001b[38;5;241m.\u001b[39mnow())\n",
      "File \u001b[0;32m~/Library/Caches/pypoetry/virtualenvs/llama-index-demos-hh8Pg5B3-py3.11/lib/python3.11/site-packages/pymilvus/decorators.py:182\u001b[0m, in \u001b[0;36mtracing_request.<locals>.wrapper.<locals>.handler\u001b[0;34m(self, *args, **kwargs)\u001b[0m\n\u001b[1;32m    180\u001b[0m \u001b[38;5;28;01mif\u001b[39;00m req_id:\n\u001b[1;32m    181\u001b[0m     \u001b[38;5;28mself\u001b[39m\u001b[38;5;241m.\u001b[39mset_onetime_request_id(req_id)\n\u001b[0;32m--> 182\u001b[0m \u001b[38;5;28;01mreturn\u001b[39;00m \u001b[43mfunc\u001b[49m\u001b[43m(\u001b[49m\u001b[38;5;28;43mself\u001b[39;49m\u001b[43m,\u001b[49m\u001b[43m \u001b[49m\u001b[38;5;241;43m*\u001b[39;49m\u001b[43margs\u001b[49m\u001b[43m,\u001b[49m\u001b[43m \u001b[49m\u001b[38;5;241;43m*\u001b[39;49m\u001b[38;5;241;43m*\u001b[39;49m\u001b[43mkwargs\u001b[49m\u001b[43m)\u001b[49m\n",
      "File \u001b[0;32m~/Library/Caches/pypoetry/virtualenvs/llama-index-demos-hh8Pg5B3-py3.11/lib/python3.11/site-packages/pymilvus/decorators.py:102\u001b[0m, in \u001b[0;36mretry_on_rpc_failure.<locals>.wrapper.<locals>.handler\u001b[0;34m(*args, **kwargs)\u001b[0m\n\u001b[1;32m     96\u001b[0m         retry_msg \u001b[38;5;241m=\u001b[39m (\n\u001b[1;32m     97\u001b[0m             \u001b[38;5;124mf\u001b[39m\u001b[38;5;124m\"\u001b[39m\u001b[38;5;124m[\u001b[39m\u001b[38;5;132;01m{\u001b[39;00mfunc\u001b[38;5;241m.\u001b[39m\u001b[38;5;18m__name__\u001b[39m\u001b[38;5;132;01m}\u001b[39;00m\u001b[38;5;124m] retry:\u001b[39m\u001b[38;5;132;01m{\u001b[39;00mcounter\u001b[38;5;132;01m}\u001b[39;00m\u001b[38;5;124m, cost: \u001b[39m\u001b[38;5;132;01m{\u001b[39;00mback_off\u001b[38;5;132;01m:\u001b[39;00m\u001b[38;5;124m.2f\u001b[39m\u001b[38;5;132;01m}\u001b[39;00m\u001b[38;5;124ms, \u001b[39m\u001b[38;5;124m\"\u001b[39m\n\u001b[1;32m     98\u001b[0m             \u001b[38;5;124mf\u001b[39m\u001b[38;5;124m\"\u001b[39m\u001b[38;5;124mreason: <\u001b[39m\u001b[38;5;132;01m{\u001b[39;00me\u001b[38;5;241m.\u001b[39m\u001b[38;5;18m__class__\u001b[39m\u001b[38;5;241m.\u001b[39m\u001b[38;5;18m__name__\u001b[39m\u001b[38;5;132;01m}\u001b[39;00m\u001b[38;5;124m: \u001b[39m\u001b[38;5;132;01m{\u001b[39;00me\u001b[38;5;241m.\u001b[39mcode()\u001b[38;5;132;01m}\u001b[39;00m\u001b[38;5;124m, \u001b[39m\u001b[38;5;132;01m{\u001b[39;00me\u001b[38;5;241m.\u001b[39mdetails()\u001b[38;5;132;01m}\u001b[39;00m\u001b[38;5;124m>\u001b[39m\u001b[38;5;124m\"\u001b[39m\n\u001b[1;32m     99\u001b[0m         )\n\u001b[1;32m    100\u001b[0m         LOGGER\u001b[38;5;241m.\u001b[39mwarning(WARNING_COLOR\u001b[38;5;241m.\u001b[39mformat(retry_msg))\n\u001b[0;32m--> 102\u001b[0m     time\u001b[38;5;241m.\u001b[39msleep(back_off)\n\u001b[1;32m    103\u001b[0m     back_off \u001b[38;5;241m=\u001b[39m \u001b[38;5;28mmin\u001b[39m(back_off \u001b[38;5;241m*\u001b[39m back_off_multiplier, max_back_off)\n\u001b[1;32m    104\u001b[0m \u001b[38;5;28;01mexcept\u001b[39;00m MilvusException \u001b[38;5;28;01mas\u001b[39;00m e:\n",
      "\u001b[0;31mKeyboardInterrupt\u001b[0m: "
     ]
    }
   ],
   "source": [
    "vector_index_semantic = VectorStoreIndex(nodes, storage_context=storage_context_jina, service_context=service_context_jina)\n",
    "query_engine_semantic = vector_index_semantic.as_query_engine()\n"
   ]
  },
  {
   "cell_type": "code",
   "execution_count": null,
   "id": "76e1f009-0d60-45fc-88f9-5763667dc797",
   "metadata": {},
   "outputs": [],
   "source": [
    "print(query_engine_semantic.query('How many services use a Fax Machines in Berlin?'))"
   ]
  },
  {
   "cell_type": "code",
   "execution_count": null,
   "id": "b80133d3-f4c3-47a6-9697-ebea6bae0322",
   "metadata": {},
   "outputs": [],
   "source": [
    "print(query_engine_semantic.query('How many services require the use of a Fax Machine in Berlin?'))"
   ]
  },
  {
   "cell_type": "code",
   "execution_count": null,
   "id": "6e3ce550-7184-4ed1-9757-3baab22d9ba6",
   "metadata": {},
   "outputs": [],
   "source": [
    "print(query_engine_semantic.query('Wie viele Bearbeitungen von Verwaltungsdienstleistungen beinhalten ein Faxerfordernis?'))"
   ]
  },
  {
   "cell_type": "code",
   "execution_count": null,
   "id": "27d6a971-e560-494c-9761-c1cc0149c87c",
   "metadata": {},
   "outputs": [],
   "source": [
    "print(query_engine_semantic.query('How many administrative services processes involve a fax requirement? Please Translate the text'))"
   ]
  }
 ],
 "metadata": {
  "kernelspec": {
   "display_name": "Python 3 (ipykernel)",
   "language": "python",
   "name": "python3"
  },
  "language_info": {
   "codemirror_mode": {
    "name": "ipython",
    "version": 3
   },
   "file_extension": ".py",
   "mimetype": "text/x-python",
   "name": "python",
   "nbconvert_exporter": "python",
   "pygments_lexer": "ipython3",
   "version": "3.11.8"
  }
 },
 "nbformat": 4,
 "nbformat_minor": 5
}
