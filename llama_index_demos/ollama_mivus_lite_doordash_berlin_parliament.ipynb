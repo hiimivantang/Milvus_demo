{
 "cells": [
  {
   "cell_type": "code",
   "execution_count": null,
   "id": "73ab18aa-d90a-4625-b6b9-771cb42eea37",
   "metadata": {},
   "outputs": [],
   "source": [
    "!pip install pymilvus ollama llama-index-llms-ollama llama-index-vector-stores-milvus"
   ]
  },
  {
   "cell_type": "code",
   "execution_count": null,
   "id": "966b0692-89a3-4c3b-83ea-4a2e5f1574a5",
   "metadata": {},
   "outputs": [],
   "source": [
    "!pip install llama-index-embeddings-jinaai llama-index-readers-file"
   ]
  },
  {
   "cell_type": "code",
   "execution_count": null,
   "id": "0dbdd1e0-e8b9-4329-959c-d1f6813be09d",
   "metadata": {},
   "outputs": [],
   "source": [
    "!pip install sentence-transformers llama-index-embeddings-huggingface"
   ]
  },
  {
   "cell_type": "markdown",
   "id": "9e99fb39-236e-450c-8523-7b1973f050c7",
   "metadata": {},
   "source": [
    "### Load Jina AI Embedding Model"
   ]
  },
  {
   "cell_type": "code",
   "execution_count": 35,
   "id": "bce9beb4-4ae0-4970-afbc-2176354be39b",
   "metadata": {},
   "outputs": [
    {
     "name": "stderr",
     "output_type": "stream",
     "text": [
      "/Users/stephen/Library/Caches/pypoetry/virtualenvs/llama-index-demos-hh8Pg5B3-py3.11/lib/python3.11/site-packages/huggingface_hub/file_download.py:1132: FutureWarning: `resume_download` is deprecated and will be removed in version 1.0.0. Downloads always resume when possible. If you want to force a new download, use `force_download=True`.\n",
      "  warnings.warn(\n",
      "Some weights of BertModel were not initialized from the model checkpoint at jinaai/jina-embeddings-v2-base-en and are newly initialized: ['embeddings.position_embeddings.weight', 'encoder.layer.0.intermediate.dense.bias', 'encoder.layer.0.intermediate.dense.weight', 'encoder.layer.0.output.LayerNorm.bias', 'encoder.layer.0.output.LayerNorm.weight', 'encoder.layer.0.output.dense.bias', 'encoder.layer.0.output.dense.weight', 'encoder.layer.1.intermediate.dense.bias', 'encoder.layer.1.intermediate.dense.weight', 'encoder.layer.1.output.LayerNorm.bias', 'encoder.layer.1.output.LayerNorm.weight', 'encoder.layer.1.output.dense.bias', 'encoder.layer.1.output.dense.weight', 'encoder.layer.10.intermediate.dense.bias', 'encoder.layer.10.intermediate.dense.weight', 'encoder.layer.10.output.LayerNorm.bias', 'encoder.layer.10.output.LayerNorm.weight', 'encoder.layer.10.output.dense.bias', 'encoder.layer.10.output.dense.weight', 'encoder.layer.11.intermediate.dense.bias', 'encoder.layer.11.intermediate.dense.weight', 'encoder.layer.11.output.LayerNorm.bias', 'encoder.layer.11.output.LayerNorm.weight', 'encoder.layer.11.output.dense.bias', 'encoder.layer.11.output.dense.weight', 'encoder.layer.2.intermediate.dense.bias', 'encoder.layer.2.intermediate.dense.weight', 'encoder.layer.2.output.LayerNorm.bias', 'encoder.layer.2.output.LayerNorm.weight', 'encoder.layer.2.output.dense.bias', 'encoder.layer.2.output.dense.weight', 'encoder.layer.3.intermediate.dense.bias', 'encoder.layer.3.intermediate.dense.weight', 'encoder.layer.3.output.LayerNorm.bias', 'encoder.layer.3.output.LayerNorm.weight', 'encoder.layer.3.output.dense.bias', 'encoder.layer.3.output.dense.weight', 'encoder.layer.4.intermediate.dense.bias', 'encoder.layer.4.intermediate.dense.weight', 'encoder.layer.4.output.LayerNorm.bias', 'encoder.layer.4.output.LayerNorm.weight', 'encoder.layer.4.output.dense.bias', 'encoder.layer.4.output.dense.weight', 'encoder.layer.5.intermediate.dense.bias', 'encoder.layer.5.intermediate.dense.weight', 'encoder.layer.5.output.LayerNorm.bias', 'encoder.layer.5.output.LayerNorm.weight', 'encoder.layer.5.output.dense.bias', 'encoder.layer.5.output.dense.weight', 'encoder.layer.6.intermediate.dense.bias', 'encoder.layer.6.intermediate.dense.weight', 'encoder.layer.6.output.LayerNorm.bias', 'encoder.layer.6.output.LayerNorm.weight', 'encoder.layer.6.output.dense.bias', 'encoder.layer.6.output.dense.weight', 'encoder.layer.7.intermediate.dense.bias', 'encoder.layer.7.intermediate.dense.weight', 'encoder.layer.7.output.LayerNorm.bias', 'encoder.layer.7.output.LayerNorm.weight', 'encoder.layer.7.output.dense.bias', 'encoder.layer.7.output.dense.weight', 'encoder.layer.8.intermediate.dense.bias', 'encoder.layer.8.intermediate.dense.weight', 'encoder.layer.8.output.LayerNorm.bias', 'encoder.layer.8.output.LayerNorm.weight', 'encoder.layer.8.output.dense.bias', 'encoder.layer.8.output.dense.weight', 'encoder.layer.9.intermediate.dense.bias', 'encoder.layer.9.intermediate.dense.weight', 'encoder.layer.9.output.LayerNorm.bias', 'encoder.layer.9.output.LayerNorm.weight', 'encoder.layer.9.output.dense.bias', 'encoder.layer.9.output.dense.weight']\n",
      "You should probably TRAIN this model on a down-stream task to be able to use it for predictions and inference.\n"
     ]
    },
    {
     "data": {
      "text/plain": [
       "768"
      ]
     },
     "execution_count": 35,
     "metadata": {},
     "output_type": "execute_result"
    }
   ],
   "source": [
    "from llama_index.embeddings.huggingface import HuggingFaceEmbedding\n",
    "\n",
    "\n",
    "jina_embedding_model = HuggingFaceEmbedding(model_name=\"jinaai/jina-embeddings-v2-base-en\")\n",
    "len(jina_embedding_model.get_text_embedding('This is a test'))"
   ]
  },
  {
   "cell_type": "markdown",
   "id": "ffa736cf-6862-408b-8c91-17b9e78ac95f",
   "metadata": {},
   "source": [
    "## Chunking\n",
    "\n",
    "Let's have a look at different chunking strategies"
   ]
  },
  {
   "cell_type": "code",
   "execution_count": 36,
   "id": "3e07f9a3-c6e0-41d4-b1f8-1db967f4779d",
   "metadata": {},
   "outputs": [],
   "source": [
    "from llama_index.core import SimpleDirectoryReader\n",
    "\n",
    "docs = SimpleDirectoryReader(input_files=[\"data/pdfs/doordash_listing_small.pdf\", \"data/pdfs/DASH_q1_24_financials.pdf\"]).load_data()"
   ]
  },
  {
   "cell_type": "markdown",
   "id": "da129258-73fc-417a-9e30-50e0b3f00779",
   "metadata": {},
   "source": [
    "### Chunk size 100, Overlap 20"
   ]
  },
  {
   "cell_type": "code",
   "execution_count": 37,
   "id": "938450f2-0c7e-4d16-934c-dd68ce16ffbd",
   "metadata": {},
   "outputs": [
    {
     "name": "stdout",
     "output_type": "stream",
     "text": [
      "element is: as defined in Rule 405 of the Securities Act. Yes ☐ No ☒Indicate by check mark if the registrant is not required to file reports pursuant to Section 13 or Section 15(d) of the Act.\n",
      "\n",
      "element is: Yes ☐ No ☒Indicate by check mark whether the registrant: (1) has filed all reports required to be filed by Section 13 or 15(d) of the Securities Exchange Act of 1934 during the preceding12  months  (or  for  such  shorter  period  that  the  registrant  was  required  to  file  such  reports);\n",
      "\n",
      "element is: and  (2)  has  been  subject  to  such  filing  requirements  for  the  past  90days.\n",
      "\n",
      "element is: Yes ☐    No ☒Indicate by check mark whether the registrant has submitted electronically every Interactive Data File required to be submitted pursuant to Rule 405 of Regulation S-T(§232.405 of this chapter) during the preceding 12 months (or for such shorter period that the registrant was required to submit such files).\n",
      "\n",
      "element is: Yes  ☒   No  ☐ Indicate by check mark whether the registrant is a large accelerated filer, an accelerated filer, a non-accelerated filer, a smaller reporting company, or an emerging growthcompany.\n",
      "\n"
     ]
    }
   ],
   "source": [
    "from llama_index.core.node_parser import SentenceSplitter\n",
    "\n",
    "base_splitter = SentenceSplitter(chunk_size=100, chunk_overlap=20)\n",
    "base_nodes = base_splitter.get_nodes_from_documents(docs)\n",
    "\n",
    "for elt in base_nodes[5:10]:\n",
    "    print(f'element is: {elt.get_content()}\\n')"
   ]
  },
  {
   "cell_type": "markdown",
   "id": "b8b7bee0-bbf3-4c29-9a7e-08439f265713",
   "metadata": {},
   "source": [
    "### Chunk size 256, Overlap 50"
   ]
  },
  {
   "cell_type": "code",
   "execution_count": 38,
   "id": "f5be31bc-f38c-4a88-9ec5-eca24859258f",
   "metadata": {},
   "outputs": [
    {
     "name": "stdout",
     "output_type": "stream",
     "text": [
      "element is: The registrant has elected to use December 31, 2020 as the calculation datebecause on June 30, 2020 (the last business day of the registrant's most recently completed second fiscal quarter), the registrant was a privately held company. Thiscalculation does not reflect a determination that certain persons are affiliates of the registrant for any other purpose.The registrant had outstanding 290,150,290 shares of Class A common stock, 31,313,450 shares of Class B common stock, and no shares of Class C common stock as ofFebruary 26, 2021.DOCUMENTS INCORPORATED BY REFERENCEPortions of the registrant’s Definitive Proxy Statement relating to the 2021 Annual Meeting of Stockholders are incorporated by reference into Part III of this Annual Report onForm 10-K where indicated. Such Definitive Proxy Statement will be filed with the Securities and Exchange Commission within 120 days after the end of the registrant’s fiscalyear ended December 31, 2020. 2\n",
      "\n",
      "element is: Table of ContentsTABLE OF CONTENTSPage NumberCover1Table of Contents3Part I6Item 1. Business6Item 1A. Risk Factors15Item 1B. Unresolved Staff Comments59Item 2. Properties59Item 3. Legal Proceedings59Item 4. Mine Safety Disclosures61Part II62Item 5. Market for Registrant's Common Equity, Related Stockholder Matters and Issuer Purchases of Equity Securities62Item 6. Selected Financial Data64Item 7. Management's Discussion and Analysis of Financial Condition and Results of Operations64Item 7A. Quantitative and Qualitative Disclosures About Market Risk90Item 8. Financial Statements and Supplementary Data92Item 9. Changes in and Disagreements With Accountants on Accounting and Financial Disclosures132Item 9A. Controls and Procedures132Item 9B. Other Information133Part III134Item 10. Directors, Executive Officers and Corporate Governance134Item 11. Executive Compensation134Item 12.\n",
      "\n",
      "element is: Controls and Procedures132Item 9B. Other Information133Part III134Item 10. Directors, Executive Officers and Corporate Governance134Item 11. Executive Compensation134Item 12. Security Ownership of Certain Beneficial Owner and Management and Related Stockholder Matters134Item 13. Certain Relationships and Related Transactions, and Director Independence134Item 14. Principal Accounting Fees and Services134Part IV135Item 15. Exhibits, Financial Statement Schedules135Item 16. Form 10-K Summary136Signatures137\n",
      "3\n",
      "\n",
      "element is: Table of ContentsSPECIAL NOTE REGARDING FORWARD-LOOKING STATEMENTSThis Annual Report on Form 10-K contains forward-looking statements within the meaning of the federal securities laws, which statements involvesubstantial risks and uncertainties. Forward-looking statements generally relate to future events or our future financial or operating performance. Insome cases, you can identify forward-looking statements because they contain words such as “may,” “will,” “should,” “expect,” “plan,” “anticipate,”“could,” “would,” “intend,” “target,” “project,” “contemplate,” “believe,” “estimate,” “predict,” “potential” or “continue” or the negative of these words orother similar terms or expressions that concern our expectations, strategy, plans or intentions. Forward-looking statements contained in this AnnualReport on Form 10-K include, but are not limited to, statements about:•our future financial performance, including our expectations regarding our revenue, cost of revenue, operating expenses, Total Orders,Marketplace GOV, Contribution Profit (Loss), Contribution Margin, Adjusted Gross Profit, Adjusted Gross Margin, Adjusted EBITDA,\n",
      "\n",
      "element is: including our expectations regarding our revenue, cost of revenue, operating expenses, Total Orders,Marketplace GOV, Contribution Profit (Loss), Contribution Margin, Adjusted Gross Profit, Adjusted Gross Margin, Adjusted EBITDA, andAdjusted EBITDA Margin, our ability to determine reserves, and our ability to maintain and increase long-term future profitability;•our ability to successfully execute our business and growth strategy;•the sufficiency of our cash, cash equivalents and marketable securities to meet our liquidity needs;•the demand for our platform or for local logistics platforms in general;•our ability to attract and retain merchants, consumers and Dashers;•our ability to effectively manage costs related to Dashers;•our ability to develop new offerings, services and features, and bring them to market in a timely manner and make enhancements to ourplatform;•our ability to compete with existing and new competitors in existing and new markets and offerings;•our expectations regarding outstanding litigation and legal and regulatory matters;•our expectations regarding the effects of existing and developing laws and regulations, including with respect to independent contractorclassification, pricing and commissions, taxation and privacy and data protection;\n",
      "\n"
     ]
    }
   ],
   "source": [
    "from llama_index.core.node_parser import SentenceSplitter\n",
    "\n",
    "base_splitter = SentenceSplitter(chunk_size=256, chunk_overlap=50)\n",
    "base_nodes = base_splitter.get_nodes_from_documents(docs)\n",
    "\n",
    "for elt in base_nodes[5:10]:\n",
    "    print(f'element is: {elt.get_content()}\\n')"
   ]
  },
  {
   "cell_type": "markdown",
   "id": "2b41ba1f-e35a-4044-9da4-84739632cbd0",
   "metadata": {},
   "source": [
    "### Chunk size 512, Overlap 100"
   ]
  },
  {
   "cell_type": "code",
   "execution_count": 39,
   "id": "09714bcf-99e5-49dc-bd13-58fe9d234a3c",
   "metadata": {},
   "outputs": [
    {
     "name": "stdout",
     "output_type": "stream",
     "text": [
      "element is: Insome cases, you can identify forward-looking statements because they contain words such as “may,” “will,” “should,” “expect,” “plan,” “anticipate,”“could,” “would,” “intend,” “target,” “project,” “contemplate,” “believe,” “estimate,” “predict,” “potential” or “continue” or the negative of these words orother similar terms or expressions that concern our expectations, strategy, plans or intentions. Forward-looking statements contained in this AnnualReport on Form 10-K include, but are not limited to, statements about:•our future financial performance, including our expectations regarding our revenue, cost of revenue, operating expenses, Total Orders,Marketplace GOV, Contribution Profit (Loss), Contribution Margin, Adjusted Gross Profit, Adjusted Gross Margin, Adjusted EBITDA, andAdjusted EBITDA Margin, our ability to determine reserves, and our ability to maintain and increase long-term future profitability;•our ability to successfully execute our business and growth strategy;•the sufficiency of our cash, cash equivalents and marketable securities to meet our liquidity needs;•the demand for our platform or for local logistics platforms in general;•our ability to attract and retain merchants, consumers and Dashers;•our ability to effectively manage costs related to Dashers;•our ability to develop new offerings, services and features, and bring them to market in a timely manner and make enhancements to ourplatform;•our ability to compete with existing and new competitors in existing and new markets and offerings;•our expectations regarding outstanding litigation and legal and regulatory matters;•our expectations regarding the effects of existing and developing laws and regulations, including with respect to independent contractorclassification, pricing and commissions, taxation and privacy and data protection;•our ability to manage and insure auto-related and operations-related risk associated with our business;•our expectations regarding new and evolving markets;•our ability to develop and protect our brand;•our ability to maintain the security and availability of our platform;•our expectations and management of future growth;•our expectations concerning relationships with third parties;•our ability to maintain, protect and enhance our intellectual property;•our ability to integrate companies and assets that we acquire;•the increased expenses associated with being a public company; and•the impact of the COVID-19 pandemic, or a similar public health threat, on global capital and financial markets, general economic conditionsin the United States, and our business and operations.We caution you that the foregoing list may not contain all of the forward-looking statements made in this Annual Report on Form 10-K.You should not rely upon forward-looking statements as predictions of future events.\n",
      "\n",
      "element is: We have based the forward-looking statements contained inthis Annual Report on Form 10-K primarily on our current expectations and projections about future events and trends that we believe may affect ourbusiness, financial condition, results of operations, and prospects. The outcome of the events described in these forward-looking statements issubject to risks, uncertainties, and other factors, including those described in the section titled “Risk Factors” and elsewhere in this Annual Report onForm 10-K. Moreover, we operate in a very competitive and rapidly changing environment. New risks and uncertainties emerge from time to timeand it is not possible for us to predict all risks and uncertainties that could have an impact on the forward-looking statements contained in thisAnnual Report on Form 10-K. We cannot assure you that the results, events, and circumstances reflected in the forward-looking statements will beachieved or occur, and actual results, events, or circumstances could differ materially from those described in the forward-looking statements.4\n",
      "\n",
      "element is: Table of ContentsNeither we nor any other person assumes responsibility for the accuracy and completeness of any of these forward-looking statements. Moreover,the forward-looking statements made in this Annual Report on Form 10-K relate only to events as of the date on which the statements are made. Weundertake no obligation to update any forward-looking statements made in this Annual Report on Form 10-K to reflect events or circumstances afterthe date of this Annual Report on Form 10-K or to reflect new information or the occurrence of unanticipated events, except as required by law. Wemay not actually achieve the plans, intentions or expectations disclosed in our forward-looking statements and you should not place undue relianceon  our  forward-looking  statements.  Our  forward-looking  statements  do  not  reflect  the  potential  impact  of  any  future  acquisitions,  mergers,dispositions, joint ventures or investments we may make.In addition, statements that “we believe” and similar statements reflect our beliefs and opinions on the relevant subject. These statements are basedupon information available to us as of the date of this Annual Report on Form 10-K, and while we believe such information forms a reasonable basisfor such statements, such information may be limited or incomplete, and our statements should not be read to indicate that we have conducted anexhaustive inquiry into, or review of, all potentially available relevant information. These statements are inherently uncertain and investors arecautioned not to unduly rely upon these statements.5\n",
      "\n",
      "element is: Table of ContentsPart IItem 1. BusinessOUR BUSINESSWe founded DoorDash to be a merchant-first business. Our mission is to grow and empower local economies.Technology has changed consumer behavior and driven a wave of demand for convenience. Consumers’ expectations of ease and immediacy withevery purchase has been a boon for some companies but damaging for many others. We enable local brick-and-mortar businesses—which arefundamental to the vitality of local economies and communities—to address consumers’ expectations of ease and immediacy and thrive in anincreasingly convenience-driven economy. Our local logistics platform connects over 450,000 merchants, over 20 million consumers, and over 1million Dashers in the United States, Canada, and Australia every month.We built our products to serve the needs of these three key constituencies. We do this primarily through the DoorDash Marketplace, or ourMarketplace, which offers a broad array of services that enable merchants to solve mission-critical challenges such as customer acquisition,delivery, insights and analytics, merchandising, payment processing, and customer support. Our Marketplace enables merchants to establish anonline presence and expand their reach. It generates significant demand for merchants by connecting them with millions of consumers. Merchantscan fulfill this demand through delivery, facilitated by our local logistics platform, or in-person pickup by consumers.In addition to our Marketplace, which accounts for the vast majority of our business today, we offer merchants a variety of products, which we referto as merchant services, to facilitate sales that merchants have originated through their own channels. DoorDash Drive, or Drive, our white-labellogistics service, enables merchants that have generated consumer demand through their own channels to fulfill this demand using our locallogistics platform. DoorDash Storefront, or Storefront, enables merchants to create their own branded online ordering experience, providing themwith a turnkey solution to offer consumers on-demand access to e-commerce without investing in in-house engineering or logistics capabilities.THE DOORDASH PLATFORMOur local logistics platform connects merchants, consumers, and Dashers. We built our local logistics platform to serve the needs of these three keyconstituencies and to become more intelligent and efficient with every order. As we have grown, the scale of our local logistics platform has becomeone of our major competitive advantages and delivers substantial benefits to everyone we serve.\n",
      "\n",
      "element is: We built our local logistics platform to serve the needs of these three keyconstituencies and to become more intelligent and efficient with every order. As we have grown, the scale of our local logistics platform has becomeone of our major competitive advantages and delivers substantial benefits to everyone we serve. We connect:•Merchants: Over 450,000 merchants run and grow their businesses using our technology platform. Our products are designed to meet theindividual needs of merchants, regardless of their scale, business model, or location. Our Marketplace includes business enablement anddemand fulfillment services that enable merchants to solve mission-critical challenges such as customer acquisition, delivery, insights andanalytics, merchandising, payment processing, and customer support. We help our merchants thrive in an increasingly convenience-driveneconomy while enabling them to focus on their craft.•Consumers: Over 20 million consumers discover, engage with, and purchase goods from merchants on our local logistics platform. Forconsumers, we offer the ability to order from the best of their communities with the click of a button and to have their orders reliablydelivered or waiting at the store for pickup. We enable convenience for consumers throughout their entire day, from breakfast pickup on-the-go to catered lunch at work to grocery or dinner delivery straight to their doorsteps. We believe that the convenient access we provide to anunmatched Based on the number of individual stores, including Drive stores, that have completed an order through our platform in the past month, measured as of December 31, 2020. Based on the number of individual consumer accounts that have completed an order on our Marketplace in the past month, measured as of December 31, 2020. Based on the number of Dasher accounts that have delivered an order through our platform in the past month, measured as of December 31, 2020.123\n",
      "1236\n",
      "\n"
     ]
    }
   ],
   "source": [
    "from llama_index.core.node_parser import SentenceSplitter\n",
    "\n",
    "base_splitter = SentenceSplitter(chunk_size=512, chunk_overlap=100)\n",
    "base_nodes = base_splitter.get_nodes_from_documents(docs)\n",
    "\n",
    "for elt in base_nodes[5:10]:\n",
    "    print(f'element is: {elt.get_content()}\\n')"
   ]
  },
  {
   "cell_type": "markdown",
   "id": "3ab68a5d-5719-41b0-a2f3-ae77d1b2a859",
   "metadata": {},
   "source": [
    "## Semantic Chunking"
   ]
  },
  {
   "cell_type": "code",
   "execution_count": 40,
   "id": "5ed36aa4-1cd7-4e7d-90ee-f0e885038b7f",
   "metadata": {},
   "outputs": [
    {
     "name": "stdout",
     "output_type": "stream",
     "text": [
      "element is: Form 10-K Summary136Signatures137\n",
      "3\n",
      "\n",
      "element is: Table of ContentsSPECIAL NOTE REGARDING FORWARD-LOOKING STATEMENTSThis Annual Report on Form 10-K contains forward-looking statements within the meaning of the federal securities laws, which statements involvesubstantial risks and uncertainties. Forward-looking statements generally relate to future events or our future financial or operating performance. Insome cases, you can identify forward-looking statements because they contain words such as “may,” “will,” “should,” “expect,” “plan,” “anticipate,”“could,” “would,” “intend,” “target,” “project,” “contemplate,” “believe,” “estimate,” “predict,” “potential” or “continue” or the negative of these words orother similar terms or expressions that concern our expectations, strategy, plans or intentions. Forward-looking statements contained in this AnnualReport on Form 10-K include, but are not limited to, statements about:•our future financial performance, including our expectations regarding our revenue, cost of revenue, operating expenses, Total Orders,Marketplace GOV, Contribution Profit (Loss), Contribution Margin, Adjusted Gross Profit, Adjusted Gross Margin, Adjusted EBITDA, andAdjusted EBITDA Margin, our ability to determine reserves, and our ability to maintain and increase long-term future profitability;•our ability to successfully execute our business and growth strategy;•the sufficiency of our cash, cash equivalents and marketable securities to meet our liquidity needs;•the demand for our platform or for local logistics platforms in general;•our ability to attract and retain merchants, consumers and Dashers;•our ability to effectively manage costs related to Dashers;•our ability to develop new offerings, services and features, and bring them to market in a timely manner and make enhancements to ourplatform;•our ability to compete with existing and new competitors in existing and new markets and offerings;•our expectations regarding outstanding litigation and legal and regulatory matters;•our expectations regarding the effects of existing and developing laws and regulations, including with respect to independent contractorclassification, pricing and commissions, taxation and privacy and data protection;•our ability to manage and insure auto-related and operations-related risk associated with our business;•our expectations regarding new and evolving markets;•our ability to develop and protect our brand;•our ability to maintain the security and availability of our platform;•our expectations and management of future growth;•our expectations concerning relationships with third parties;•our ability to maintain, protect and enhance our intellectual property;•our ability to integrate companies and assets that we acquire;•the increased expenses associated with being a public company; and•the impact of the COVID-19 pandemic, or a similar public health threat, on global capital and financial markets, general economic conditionsin the United States, and our business and operations.We caution you that the foregoing list may not contain all of the forward-looking statements made in this Annual Report on Form 10-K.You should not rely upon forward-looking statements as predictions of future events. We have based the forward-looking statements contained inthis Annual Report on Form 10-K primarily on our current expectations and projections about future events and trends that we believe may affect ourbusiness, financial condition, results of operations, and prospects. \n",
      "\n",
      "element is: The outcome of the events described in these forward-looking statements issubject to risks, uncertainties, and other factors, including those described in the section titled “Risk Factors” and elsewhere in this Annual Report onForm 10-K. Moreover, we operate in a very competitive and rapidly changing environment. New risks and uncertainties emerge from time to timeand it is not possible for us to predict all risks and uncertainties that could have an impact on the forward-looking statements contained in thisAnnual Report on Form 10-K. We cannot assure you that the results, events, and circumstances reflected in the forward-looking statements will beachieved or occur, and actual results, events, or circumstances could differ materially from those described in the forward-looking statements.4\n",
      "\n",
      "element is: Table of ContentsNeither we nor any other person assumes responsibility for the accuracy and completeness of any of these forward-looking statements. Moreover,the forward-looking statements made in this Annual Report on Form 10-K relate only to events as of the date on which the statements are made. Weundertake no obligation to update any forward-looking statements made in this Annual Report on Form 10-K to reflect events or circumstances afterthe date of this Annual Report on Form 10-K or to reflect new information or the occurrence of unanticipated events, except as required by law. \n",
      "\n",
      "element is: Wemay not actually achieve the plans, intentions or expectations disclosed in our forward-looking statements and you should not place undue relianceon  our  forward-looking  statements.  Our  forward-looking  statements  do  not  reflect  the  potential  impact  of  any  future  acquisitions,  mergers,dispositions, joint ventures or investments we may make.In addition, statements that “we believe” and similar statements reflect our beliefs and opinions on the relevant subject. These statements are basedupon information available to us as of the date of this Annual Report on Form 10-K, and while we believe such information forms a reasonable basisfor such statements, such information may be limited or incomplete, and our statements should not be read to indicate that we have conducted anexhaustive inquiry into, or review of, all potentially available relevant information. These statements are inherently uncertain and investors arecautioned not to unduly rely upon these statements.5\n",
      "\n"
     ]
    }
   ],
   "source": [
    "from llama_index.core.node_parser import SemanticSplitterNodeParser\n",
    "\n",
    "splitter = SemanticSplitterNodeParser(\n",
    "    buffer_size=1, breakpoint_percentile_threshold=95, embed_model=jina_embedding_model\n",
    ")\n",
    "\n",
    "nodes = splitter.get_nodes_from_documents(docs)\n",
    "\n",
    "for elt in nodes[5:10]:\n",
    "    print(f'element is: {elt.get_content()}\\n')"
   ]
  },
  {
   "cell_type": "markdown",
   "id": "84a90f81-f35a-49bf-9357-bf717e8a12be",
   "metadata": {},
   "source": [
    "# Load data in Milvus"
   ]
  },
  {
   "cell_type": "code",
   "execution_count": 41,
   "id": "3f77ee13-8080-45f7-aa54-044c05906e42",
   "metadata": {},
   "outputs": [
    {
     "name": "stderr",
     "output_type": "stream",
     "text": [
      "/var/folders/kv/3dw9p_ts4b114chqt9m027pc0000gn/T/ipykernel_94523/980526376.py:9: DeprecationWarning: Call to deprecated class method from_defaults. (ServiceContext is deprecated, please use `llama_index.settings.Settings` instead.) -- Deprecated since version 0.10.0.\n",
      "  service_context_jina = ServiceContext.from_defaults(llm=llm, embed_model=jina_embedding_model, chunk_size=300, chunk_overlap=50)\n"
     ]
    }
   ],
   "source": [
    "from llama_index.llms.ollama import Ollama\n",
    "from llama_index.vector_stores.milvus import MilvusVectorStore\n",
    "\n",
    "from llama_index.core import StorageContext, ServiceContext\n",
    "from llama_index.core import SimpleDirectoryReader, VectorStoreIndex\n",
    "\n",
    "llm = Ollama(model=\"llama3\", request_timeout=120.0)\n",
    "\n",
    "service_context_jina = ServiceContext.from_defaults(llm=llm, embed_model=jina_embedding_model, chunk_size=300, chunk_overlap=50)\n",
    "\n",
    "vector_store_jina = MilvusVectorStore(\n",
    "    uri=\"milvus_rag_llama_index.db\",\n",
    "    collection_name=\"doordash_listing_demo\",\n",
    "    dim=768,  # the value changes with embedding model\n",
    "    overwrite=True  # drop table if exist and then create\n",
    "    )\n",
    "storage_context_jina = StorageContext.from_defaults(vector_store=vector_store_jina)"
   ]
  },
  {
   "cell_type": "code",
   "execution_count": 42,
   "id": "5316e9cc-7f4d-41b4-9682-add9a6a57296",
   "metadata": {},
   "outputs": [],
   "source": [
    "docs = SimpleDirectoryReader(input_files=['data/pdfs/doordash_listing_small.pdf',\"data/pdfs/DASH_q1_24_financials.pdf\"]).load_data()"
   ]
  },
  {
   "cell_type": "code",
   "execution_count": 43,
   "id": "c485cbe5-0d5d-44aa-b1e7-26fb9bebd278",
   "metadata": {},
   "outputs": [
    {
     "name": "stderr",
     "output_type": "stream",
     "text": [
      "E20240611 19:08:15.668916 118249707 collection_data.cpp:84] [SERVER][Insert][] Insert data failed, errs: attempt to write a readonly database\n",
      "E20240611 19:08:15.684504 118249707 collection_data.cpp:84] [SERVER][Insert][] Insert data failed, errs: attempt to write a readonly database\n"
     ]
    }
   ],
   "source": [
    "vector_index_jina = VectorStoreIndex.from_documents(docs, storage_context=storage_context_jina, service_context=service_context_jina)"
   ]
  },
  {
   "cell_type": "code",
   "execution_count": 44,
   "id": "86e12181-a5ff-4daa-b0cf-501e4621f66c",
   "metadata": {},
   "outputs": [],
   "source": [
    "from llama_index.core.tools import RetrieverTool, ToolMetadata\n",
    "\n",
    "milvus_tool_openai = RetrieverTool(\n",
    "    retriever=vector_index_jina.as_retriever(similarity_top_k=3),  # retrieve top_k results\n",
    "    metadata=ToolMetadata(\n",
    "        name=\"CustomRetriever\",\n",
    "        description='Retrieve relevant information from provided documents.'\n",
    "    ),\n",
    ")"
   ]
  },
  {
   "cell_type": "code",
   "execution_count": 45,
   "id": "03972b8a-2ecc-432f-b199-c5f12bac7a82",
   "metadata": {},
   "outputs": [
    {
     "name": "stdout",
     "output_type": "stream",
     "text": [
      "Based on the provided context, I can summarize the Doordash listing as follows:\n",
      "\n",
      "The summary is not available in the given context. However, based on the financial reports of DoorDash (DASH) for Q1 2024, here are five key points that might be important:\n",
      "\n",
      "1. Revenue growth rates may decline due to a widespread COVID-19 vaccine rollout.\n",
      "2. The company identified a material weakness in its internal control over financial reporting and may identify additional weaknesses or fail to maintain an effective system of internal controls.\n",
      "3. GAAP research and development expense as a percentage of Marketplace GOV was 1.5% in Q1 2024, consistent with previous periods.\n",
      "4. GAAP general and administrative expense increased by 12% year-over-year (YoY) due to increases in litigation reserves, personnel-related costs, credit card chargebacks, and bad debt expense.\n",
      "5. The company improved its GAAP net loss including redeemable non-controlling interests, decreasing it from $162 million in Q1 2023 to $25 million in Q1 2024.\n"
     ]
    }
   ],
   "source": [
    "query_engine = vector_index_jina.as_query_engine()\n",
    "response = query_engine.query(\"Can you tell me more about this Doordash Listing? Summarise it please and give me 5 points that are important\")\n",
    "print(response)"
   ]
  },
  {
   "cell_type": "markdown",
   "id": "dacf80b3-6182-484d-b4fb-5e23cb605096",
   "metadata": {},
   "source": [
    "## Semantic Chunking"
   ]
  },
  {
   "cell_type": "code",
   "execution_count": 46,
   "id": "53f1bd38-4540-4c7e-a246-a8c441856b3c",
   "metadata": {},
   "outputs": [],
   "source": [
    "doc_semantic = SimpleDirectoryReader(input_files=[\"data/pdfs/doordash_listing_small.pdf\",\"data/pdfs/DASH_q1_24_financials.pdf\"]).load_data()"
   ]
  },
  {
   "cell_type": "code",
   "execution_count": 47,
   "id": "92a0516b-70dd-4b93-babf-d7586cf05d5c",
   "metadata": {},
   "outputs": [],
   "source": [
    "from llama_index.core.node_parser import SemanticSplitterNodeParser\n",
    "\n",
    "splitter = SemanticSplitterNodeParser(\n",
    "    buffer_size=1, breakpoint_percentile_threshold=95, embed_model=jina_embedding_model\n",
    ")\n",
    "\n",
    "nodes = splitter.get_nodes_from_documents(doc_semantic)"
   ]
  },
  {
   "cell_type": "code",
   "execution_count": 48,
   "id": "9f03c458-f21d-4c88-a74d-60a8c3639d1d",
   "metadata": {},
   "outputs": [
    {
     "name": "stderr",
     "output_type": "stream",
     "text": [
      "E20240611 19:08:59.387715 118249707 collection_data.cpp:84] [SERVER][Insert][] Insert data failed, errs: attempt to write a readonly database\n"
     ]
    }
   ],
   "source": [
    "vector_index_semantic = VectorStoreIndex(nodes=nodes, storage_context=storage_context_jina, service_context=service_context_jina)\n",
    "query_engine_semantic = vector_index_semantic.as_query_engine()"
   ]
  },
  {
   "cell_type": "code",
   "execution_count": 49,
   "id": "76e1f009-0d60-45fc-88f9-5763667dc797",
   "metadata": {},
   "outputs": [
    {
     "name": "stdout",
     "output_type": "stream",
     "text": [
      "The company in question appears to be a technology-driven food delivery platform, as evident from its discussion of revenue growth and logistical efficiency. While it doesn't explicitly mention specific assets, we can infer some insights from its business operations.\n",
      "\n",
      "Firstly, considering the increased demand for delivery services during the COVID-19 pandemic, the company likely possesses a substantial fleet of vehicles or arrangements with third-party logistics providers to facilitate its delivery network. These assets would enable the platform to scale up its operations and maintain a strong presence in the market.\n",
      "\n",
      "Secondly, as a technology-driven company, DoorDash may own intellectual property rights (IPRs) related to its proprietary algorithms, software, and mobile applications that power its food delivery services. This IPR portfolio could be considered an intangible asset with significant value.\n",
      "\n",
      "Lastly, the company's corporate offices, which are mentioned as potentially being closed during public health crises, suggest it has physical assets such as office spaces, equipment, and infrastructure in place to support its operations.\n",
      "\n",
      "In summary, while the company doesn't explicitly disclose specific assets, we can infer that DoorDash likely possesses a combination of physical assets (e.g., vehicles, offices), intangible assets (e.g., IPRs), and potentially other digital assets that enable it to operate efficiently and drive growth.\n"
     ]
    }
   ],
   "source": [
    "print(query_engine_semantic.query('Tell me more about the assets that this company has'))"
   ]
  },
  {
   "cell_type": "code",
   "execution_count": 51,
   "id": "b80133d3-f4c3-47a6-9697-ebea6bae0322",
   "metadata": {},
   "outputs": [
    {
     "name": "stdout",
     "output_type": "stream",
     "text": [
      "Based on the provided context information, it appears that DoorDash is a company with significant growth potential, but also faces various challenges in managing its growth, maintaining its reputation, and adapting to changes in the market. However, the information does not provide specific financial metrics such as Marketplace GOV, EBITDA, or GAAP net loss.\n",
      "\n",
      "The provided text only discusses the company's internal policies, strategic plans, management infrastructure, employee retention, brand reputation, marketing efforts, and competition within the delivery industry. There is no mention of financial performance metrics. Therefore, it is not possible to provide an answer based on the given context information.\n"
     ]
    }
   ],
   "source": [
    "print(query_engine_semantic.query('What is the Marketplace GOV, EBITDA and GAAP net loss of Doordash?'))"
   ]
  }
 ],
 "metadata": {
  "kernelspec": {
   "display_name": "Python 3 (ipykernel)",
   "language": "python",
   "name": "python3"
  },
  "language_info": {
   "codemirror_mode": {
    "name": "ipython",
    "version": 3
   },
   "file_extension": ".py",
   "mimetype": "text/x-python",
   "name": "python",
   "nbconvert_exporter": "python",
   "pygments_lexer": "ipython3",
   "version": "3.11.8"
  }
 },
 "nbformat": 4,
 "nbformat_minor": 5
}
